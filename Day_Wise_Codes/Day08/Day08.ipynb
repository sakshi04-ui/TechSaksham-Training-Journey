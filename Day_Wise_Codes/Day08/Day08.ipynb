{
 "cells": [
  {
   "cell_type": "code",
   "execution_count": 1,
   "id": "cfeb5b8e-a096-4b79-b56e-0b439757c1ba",
   "metadata": {},
   "outputs": [
    {
     "name": "stdout",
     "output_type": "stream",
     "text": [
      "Collecting mysql\n",
      "  Downloading mysql-0.0.3-py3-none-any.whl.metadata (746 bytes)\n",
      "Collecting mysqlclient (from mysql)\n",
      "  Downloading mysqlclient-2.2.7-cp313-cp313-win_amd64.whl.metadata (4.8 kB)\n",
      "Downloading mysql-0.0.3-py3-none-any.whl (1.2 kB)\n",
      "Downloading mysqlclient-2.2.7-cp313-cp313-win_amd64.whl (208 kB)\n",
      "Installing collected packages: mysqlclient, mysql\n",
      "Successfully installed mysql-0.0.3 mysqlclient-2.2.7\n",
      "Note: you may need to restart the kernel to use updated packages.\n"
     ]
    },
    {
     "name": "stderr",
     "output_type": "stream",
     "text": [
      "\n",
      "[notice] A new release of pip is available: 24.3.1 -> 25.0.1\n",
      "[notice] To update, run: python.exe -m pip install --upgrade pip\n"
     ]
    }
   ],
   "source": [
    "pip install mysql"
   ]
  },
  {
   "cell_type": "code",
   "execution_count": 2,
   "id": "6ffd005e-6d90-47ac-8324-82d7c101a5fd",
   "metadata": {},
   "outputs": [
    {
     "name": "stdout",
     "output_type": "stream",
     "text": [
      "Collecting mysql-connector\n",
      "  Downloading mysql-connector-2.2.9.tar.gz (11.9 MB)\n",
      "     ---------------------------------------- 0.0/11.9 MB ? eta -:--:--\n",
      "     ---------------------------------------- 0.0/11.9 MB ? eta -:--:--\n",
      "     ---------------------------------------- 0.0/11.9 MB ? eta -:--:--\n",
      "     ---------------------------------------- 0.0/11.9 MB ? eta -:--:--\n",
      "      --------------------------------------- 0.3/11.9 MB ? eta -:--:--\n",
      "      --------------------------------------- 0.3/11.9 MB ? eta -:--:--\n",
      "      --------------------------------------- 0.3/11.9 MB ? eta -:--:--\n",
      "     - ------------------------------------- 0.5/11.9 MB 386.8 kB/s eta 0:00:30\n",
      "     - ------------------------------------- 0.5/11.9 MB 386.8 kB/s eta 0:00:30\n",
      "     - ------------------------------------- 0.5/11.9 MB 386.8 kB/s eta 0:00:30\n",
      "     -- ------------------------------------ 0.8/11.9 MB 418.9 kB/s eta 0:00:27\n",
      "     -- ------------------------------------ 0.8/11.9 MB 418.9 kB/s eta 0:00:27\n",
      "     --- ----------------------------------- 1.0/11.9 MB 457.4 kB/s eta 0:00:24\n",
      "     --- ----------------------------------- 1.0/11.9 MB 457.4 kB/s eta 0:00:24\n",
      "     --- ----------------------------------- 1.0/11.9 MB 457.4 kB/s eta 0:00:24\n",
      "     ---- ---------------------------------- 1.3/11.9 MB 450.5 kB/s eta 0:00:24\n",
      "     ---- ---------------------------------- 1.3/11.9 MB 450.5 kB/s eta 0:00:24\n",
      "     ----- --------------------------------- 1.6/11.9 MB 497.5 kB/s eta 0:00:21\n",
      "     ----- --------------------------------- 1.6/11.9 MB 497.5 kB/s eta 0:00:21\n",
      "     ------ -------------------------------- 1.8/11.9 MB 495.6 kB/s eta 0:00:21\n",
      "     ------ -------------------------------- 2.1/11.9 MB 531.6 kB/s eta 0:00:19\n",
      "     ------ -------------------------------- 2.1/11.9 MB 531.6 kB/s eta 0:00:19\n",
      "     ------- ------------------------------- 2.4/11.9 MB 556.0 kB/s eta 0:00:18\n",
      "     ------- ------------------------------- 2.4/11.9 MB 556.0 kB/s eta 0:00:18\n",
      "     -------- ------------------------------ 2.6/11.9 MB 563.2 kB/s eta 0:00:17\n",
      "     -------- ------------------------------ 2.6/11.9 MB 563.2 kB/s eta 0:00:17\n",
      "     -------- ------------------------------ 2.6/11.9 MB 563.2 kB/s eta 0:00:17\n",
      "     -------- ------------------------------ 2.6/11.9 MB 563.2 kB/s eta 0:00:17\n",
      "     --------- ----------------------------- 2.9/11.9 MB 523.8 kB/s eta 0:00:18\n",
      "     --------- ----------------------------- 2.9/11.9 MB 523.8 kB/s eta 0:00:18\n",
      "     ---------- ---------------------------- 3.1/11.9 MB 518.2 kB/s eta 0:00:17\n",
      "     ---------- ---------------------------- 3.1/11.9 MB 518.2 kB/s eta 0:00:17\n",
      "     ----------- --------------------------- 3.4/11.9 MB 535.7 kB/s eta 0:00:16\n",
      "     ------------ -------------------------- 3.7/11.9 MB 550.3 kB/s eta 0:00:15\n",
      "     ------------ -------------------------- 3.9/11.9 MB 569.8 kB/s eta 0:00:14\n",
      "     ------------ -------------------------- 3.9/11.9 MB 569.8 kB/s eta 0:00:14\n",
      "     ------------- ------------------------- 4.2/11.9 MB 577.6 kB/s eta 0:00:14\n",
      "     ------------- ------------------------- 4.2/11.9 MB 577.6 kB/s eta 0:00:14\n",
      "     -------------- ------------------------ 4.5/11.9 MB 586.9 kB/s eta 0:00:13\n",
      "     --------------- ----------------------- 4.7/11.9 MB 595.2 kB/s eta 0:00:12\n",
      "     ---------------- ---------------------- 5.0/11.9 MB 609.6 kB/s eta 0:00:12\n",
      "     ---------------- ---------------------- 5.0/11.9 MB 609.6 kB/s eta 0:00:12\n",
      "     ----------------- --------------------- 5.2/11.9 MB 615.6 kB/s eta 0:00:11\n",
      "     ----------------- --------------------- 5.2/11.9 MB 615.6 kB/s eta 0:00:11\n",
      "     ------------------ -------------------- 5.5/11.9 MB 621.0 kB/s eta 0:00:11\n",
      "     ------------------ -------------------- 5.8/11.9 MB 633.1 kB/s eta 0:00:10\n",
      "     ------------------- ------------------- 6.0/11.9 MB 642.3 kB/s eta 0:00:10\n",
      "     -------------------- ------------------ 6.3/11.9 MB 650.6 kB/s eta 0:00:09\n",
      "     -------------------- ------------------ 6.3/11.9 MB 650.6 kB/s eta 0:00:09\n",
      "     --------------------- ----------------- 6.6/11.9 MB 662.3 kB/s eta 0:00:09\n",
      "     ---------------------- ---------------- 6.8/11.9 MB 671.4 kB/s eta 0:00:08\n",
      "     ----------------------- --------------- 7.1/11.9 MB 676.2 kB/s eta 0:00:08\n",
      "     ----------------------- --------------- 7.1/11.9 MB 676.2 kB/s eta 0:00:08\n",
      "     ------------------------ -------------- 7.3/11.9 MB 679.4 kB/s eta 0:00:07\n",
      "     ------------------------- ------------- 7.6/11.9 MB 689.0 kB/s eta 0:00:07\n",
      "     ------------------------- ------------- 7.9/11.9 MB 694.2 kB/s eta 0:00:06\n",
      "     ------------------------- ------------- 7.9/11.9 MB 694.2 kB/s eta 0:00:06\n",
      "     -------------------------- ------------ 8.1/11.9 MB 691.4 kB/s eta 0:00:06\n",
      "     -------------------------- ------------ 8.1/11.9 MB 691.4 kB/s eta 0:00:06\n",
      "     --------------------------- ----------- 8.4/11.9 MB 698.5 kB/s eta 0:00:05\n",
      "     --------------------------- ----------- 8.4/11.9 MB 698.5 kB/s eta 0:00:05\n",
      "     ---------------------------- ---------- 8.7/11.9 MB 696.1 kB/s eta 0:00:05\n",
      "     ----------------------------- --------- 8.9/11.9 MB 703.0 kB/s eta 0:00:05\n",
      "     ----------------------------- --------- 8.9/11.9 MB 703.0 kB/s eta 0:00:05\n",
      "     ------------------------------ -------- 9.2/11.9 MB 693.9 kB/s eta 0:00:04\n",
      "     ------------------------------ -------- 9.2/11.9 MB 693.9 kB/s eta 0:00:04\n",
      "     ------------------------------- ------- 9.4/11.9 MB 692.7 kB/s eta 0:00:04\n",
      "     ------------------------------- ------- 9.4/11.9 MB 692.7 kB/s eta 0:00:04\n",
      "     ------------------------------- ------- 9.7/11.9 MB 693.4 kB/s eta 0:00:04\n",
      "     ------------------------------- ------- 9.7/11.9 MB 693.4 kB/s eta 0:00:04\n",
      "     ------------------------------- ------ 10.0/11.9 MB 685.3 kB/s eta 0:00:03\n",
      "     ------------------------------- ------ 10.0/11.9 MB 685.3 kB/s eta 0:00:03\n",
      "     -------------------------------- ----- 10.2/11.9 MB 685.9 kB/s eta 0:00:03\n",
      "     --------------------------------- ---- 10.5/11.9 MB 691.8 kB/s eta 0:00:02\n",
      "     --------------------------------- ---- 10.5/11.9 MB 691.8 kB/s eta 0:00:02\n",
      "     ---------------------------------- --- 10.7/11.9 MB 691.2 kB/s eta 0:00:02\n",
      "     ---------------------------------- --- 10.7/11.9 MB 691.2 kB/s eta 0:00:02\n",
      "     ----------------------------------- -- 11.0/11.9 MB 690.3 kB/s eta 0:00:02\n",
      "     ----------------------------------- -- 11.0/11.9 MB 690.3 kB/s eta 0:00:02\n",
      "     ------------------------------------ - 11.3/11.9 MB 693.0 kB/s eta 0:00:01\n",
      "     ------------------------------------ - 11.3/11.9 MB 693.0 kB/s eta 0:00:01\n",
      "     ------------------------------------ - 11.3/11.9 MB 693.0 kB/s eta 0:00:01\n",
      "     ------------------------------------ - 11.5/11.9 MB 675.9 kB/s eta 0:00:01\n",
      "     ------------------------------------ - 11.5/11.9 MB 675.9 kB/s eta 0:00:01\n",
      "     -------------------------------------- 11.9/11.9 MB 675.3 kB/s eta 0:00:00\n",
      "  Installing build dependencies: started\n",
      "  Installing build dependencies: finished with status 'done'\n",
      "  Getting requirements to build wheel: started\n",
      "  Getting requirements to build wheel: finished with status 'done'\n",
      "  Preparing metadata (pyproject.toml): started\n",
      "  Preparing metadata (pyproject.toml): finished with status 'done'\n",
      "Building wheels for collected packages: mysql-connector\n",
      "  Building wheel for mysql-connector (pyproject.toml): started\n",
      "  Building wheel for mysql-connector (pyproject.toml): finished with status 'done'\n",
      "  Created wheel for mysql-connector: filename=mysql_connector-2.2.9-cp313-cp313-win_amd64.whl size=248023 sha256=26d5778108b8a640a5f91f436a91b0a16251c14060d438bba4fb828cd2edc7cd\n",
      "  Stored in directory: c:\\users\\1011j\\appdata\\local\\pip\\cache\\wheels\\4e\\c1\\23\\9423c444a75266a05275c80ebf5c6efe2368388e976b690a0f\n",
      "Successfully built mysql-connector\n",
      "Installing collected packages: mysql-connector\n",
      "Successfully installed mysql-connector-2.2.9\n",
      "Note: you may need to restart the kernel to use updated packages.\n"
     ]
    },
    {
     "name": "stderr",
     "output_type": "stream",
     "text": [
      "\n",
      "[notice] A new release of pip is available: 24.3.1 -> 25.0.1\n",
      "[notice] To update, run: python.exe -m pip install --upgrade pip\n"
     ]
    }
   ],
   "source": [
    "pip install mysql-connector"
   ]
  },
  {
   "cell_type": "code",
   "execution_count": 1,
   "id": "395e2ebc-f5d4-4d7f-b406-6df4bc54fcfc",
   "metadata": {},
   "outputs": [
    {
     "name": "stdout",
     "output_type": "stream",
     "text": [
      "Collecting pymysql\n",
      "  Downloading PyMySQL-1.1.1-py3-none-any.whl.metadata (4.4 kB)\n",
      "Downloading PyMySQL-1.1.1-py3-none-any.whl (44 kB)\n",
      "Installing collected packages: pymysql\n",
      "Successfully installed pymysql-1.1.1\n",
      "Note: you may need to restart the kernel to use updated packages.\n"
     ]
    },
    {
     "name": "stderr",
     "output_type": "stream",
     "text": [
      "\n",
      "[notice] A new release of pip is available: 24.3.1 -> 25.0.1\n",
      "[notice] To update, run: python.exe -m pip install --upgrade pip\n"
     ]
    }
   ],
   "source": [
    "pip install pymysql"
   ]
  },
  {
   "cell_type": "code",
   "execution_count": 20,
   "id": "6c6daedf-e340-4705-8f04-f3e49bcc60e1",
   "metadata": {},
   "outputs": [
    {
     "name": "stdout",
     "output_type": "stream",
     "text": [
      "('information_schema',)\n",
      "('mysql',)\n",
      "('performance_schema',)\n",
      "('pywit',)\n",
      "('sys',)\n",
      "('wit',)\n"
     ]
    }
   ],
   "source": [
    "#create database and check how many database are there\n",
    "\n",
    "import pymysql\n",
    "\n",
    "myconn = pymysql.connect (\n",
    "    host='localhost',\n",
    "    user='root',\n",
    "    password='Sashu_04'\n",
    ")\n",
    "\n",
    "# print(myconn)\n",
    "\n",
    "cur = myconn.cursor()\n",
    "# cur.execute('create database pywit')\n",
    "cur.execute('show databases')\n",
    "\n",
    "for i in cur:\n",
    "    print(i)\n"
   ]
  },
  {
   "cell_type": "code",
   "execution_count": 28,
   "id": "fb1d2e39-691e-4859-83a0-0c6f35dffc4e",
   "metadata": {},
   "outputs": [
    {
     "name": "stdout",
     "output_type": "stream",
     "text": [
      "('id', 'int', 'NO', 'PRI', None, '')\n",
      "('name', 'varchar(200)', 'YES', '', None, '')\n",
      "('age', 'int', 'YES', '', None, '')\n"
     ]
    }
   ],
   "source": [
    "#Creating table and performing operations on it\n",
    "import pymysql\n",
    "\n",
    "myconn = pymysql.connect(\n",
    "    host = 'localhost',\n",
    "    user = 'root',\n",
    "    password = 'Sashu_04',\n",
    "    database = 'pywit'\n",
    ")\n",
    "\n",
    "cur = myconn.cursor()\n",
    "# cur.execute('show tables')\n",
    "\n",
    "# for i in cur:\n",
    "#     print(i)\n",
    "\n",
    "# cur.execute('create table new(id int primary key, name varchar(200),age int)')\n",
    "\n",
    "# cur.execute('desc new')\n",
    "# for i in cur:\n",
    "#     print(i)\n",
    "\n"
   ]
  },
  {
   "cell_type": "code",
   "execution_count": 31,
   "id": "60afe794-1eb4-4865-af37-0e5ffdbdd1a1",
   "metadata": {},
   "outputs": [
    {
     "name": "stdout",
     "output_type": "stream",
     "text": [
      "('newhaha',)\n"
     ]
    }
   ],
   "source": [
    "#REnaming table name\n",
    "#Creating table and performing operations on it\n",
    "import pymysql\n",
    "\n",
    "myconn = pymysql.connect(\n",
    "    host = 'localhost',\n",
    "    user = 'root',\n",
    "    password = 'Sashu_04',\n",
    "    database = 'pywit'\n",
    ")\n",
    "cur = myconn.cursor()\n",
    "cur.execute('alter table new rename to newhaha')\n",
    "cur.execute('show tables')\n",
    "for i in cur:\n",
    "    print(i)"
   ]
  },
  {
   "cell_type": "code",
   "execution_count": 1,
   "id": "a53f7e7a-e13f-4cb5-9fd3-70439d2c94b3",
   "metadata": {},
   "outputs": [],
   "source": [
    "#Insert values into table\n",
    "import pymysql\n",
    "\n",
    "myconn = pymysql.connect(\n",
    "    host = 'localhost',\n",
    "    user = 'root',\n",
    "    password = 'Sashu_04',\n",
    "    database = 'pywit'\n",
    ")\n",
    "cur = myconn.cursor()\n",
    "# cur.execute('insert into newhaha(id,name,age) values(%s,%s,%s)', (1,'Sakshi',20))\n",
    "\n",
    "query = 'insert into newhaha(id,name,age) values(%s,%s,%s)'\n",
    "val = (2,'Avira',2)\n",
    "cur.execute(query,val)\n",
    "myconn.commit()"
   ]
  },
  {
   "cell_type": "code",
   "execution_count": 2,
   "id": "1e755ba3-4df1-4304-ae8c-610d73d6dbc8",
   "metadata": {},
   "outputs": [],
   "source": [
    "#Multiple data insert into the table\n",
    "import pymysql\n",
    "\n",
    "myconn = pymysql.connect(\n",
    "    host = 'localhost',\n",
    "    user = 'root',\n",
    "    password = 'Sashu_04',\n",
    "    database = 'pywit'\n",
    ")\n",
    "cur = myconn.cursor()\n",
    "\n",
    "query = 'insert into newhaha(id,name,age) values(%s,%s,%s)'\n",
    "val = [\n",
    "    (3, 'Sau', 22),\n",
    "    (4, 'Shreya', 21),\n",
    "    (5, 'Avira', 2),\n",
    "    (6, 'AVI', 25),\n",
    "    (7, 'Rohit', 21)\n",
    "]\n",
    "cur.executemany(query,val)\n",
    "myconn.commit()"
   ]
  },
  {
   "cell_type": "code",
   "execution_count": null,
   "id": "3ac0bbf7-2809-47b2-b561-98bd3abe019f",
   "metadata": {},
   "outputs": [],
   "source": [
    "#delete all recoreds from table using truncate\n",
    "import pymysql\n",
    "\n",
    "myconn = pymysql.connect(\n",
    "    host = 'localhost',\n",
    "    user = 'root',\n",
    "    password = 'Sashu_04',\n",
    "    database = 'pywit'\n",
    ")\n",
    "cur = myconn.cursor()\n",
    "cur.execute('truncate table newhaha')"
   ]
  },
  {
   "cell_type": "code",
   "execution_count": null,
   "id": "81622277-f34b-4791-a206-d2cc05bf435b",
   "metadata": {},
   "outputs": [],
   "source": [
    "#delete single record using some command\n",
    "import pymysql\n",
    "\n",
    "myconn = pymysql.connect(\n",
    "    host = 'localhost',\n",
    "    user = 'root',\n",
    "    password = 'Sashu_04',\n",
    "    database = 'pywit'\n",
    ")\n",
    "cur = myconn.cursor()\n",
    "cur.execute('delete from newhaha where id=4')\n",
    "myconn.commit()"
   ]
  },
  {
   "cell_type": "code",
   "execution_count": null,
   "id": "b5a3820d-dd7e-4a20-9c71-df7a0dd4c558",
   "metadata": {},
   "outputs": [],
   "source": [
    "#update single record using some condition\n",
    "import pymysql\n",
    "\n",
    "myconn = pymysql.connect(\n",
    "    host = 'localhost',\n",
    "    user = 'root',\n",
    "    password = 'Sashu_04',\n",
    "    database = 'pywit'\n",
    ")\n",
    "cur = myconn.cursor()\n",
    "cur.execute('update newhaha set name = \"Avinash\" where id=6')\n",
    "myconn.commit()"
   ]
  },
  {
   "cell_type": "code",
   "execution_count": null,
   "id": "f9265a00-f1ee-4afb-9033-b429c204d515",
   "metadata": {},
   "outputs": [],
   "source": []
  }
 ],
 "metadata": {
  "kernelspec": {
   "display_name": "Python 3 (ipykernel)",
   "language": "python",
   "name": "python3"
  },
  "language_info": {
   "codemirror_mode": {
    "name": "ipython",
    "version": 3
   },
   "file_extension": ".py",
   "mimetype": "text/x-python",
   "name": "python",
   "nbconvert_exporter": "python",
   "pygments_lexer": "ipython3",
   "version": "3.13.2"
  }
 },
 "nbformat": 4,
 "nbformat_minor": 5
}
