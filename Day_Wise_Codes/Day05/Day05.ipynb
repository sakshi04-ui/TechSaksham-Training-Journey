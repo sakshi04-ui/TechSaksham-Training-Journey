{
 "cells": [
  {
   "cell_type": "code",
   "execution_count": 2,
   "id": "16213b75-ab0f-43ad-ad34-4ad5e8dd9a32",
   "metadata": {},
   "outputs": [
    {
     "name": "stdout",
     "output_type": "stream",
     "text": [
      "This is the first class in OOPS\n"
     ]
    }
   ],
   "source": [
    "#Creation of class\n",
    "class First:\n",
    "    print(\"This is the first class in OOPS\")\n",
    "\n",
    "obj=First"
   ]
  },
  {
   "cell_type": "code",
   "execution_count": 30,
   "id": "101b48d8-a83a-448d-a08c-0d79179580d1",
   "metadata": {},
   "outputs": [
    {
     "name": "stdout",
     "output_type": "stream",
     "text": [
      "My name is Sakshi and my age is 18\n",
      "Hey Sakshi this is class method and i know your age is 18\n",
      "Hey Sakshi this is static method and i know your age is 18\n"
     ]
    }
   ],
   "source": [
    "'''Types of method\n",
    "1. Instance method - we cannot access without creating object\n",
    "2. Class method -  we can access without creating object\n",
    "3. Static method - scope of variable in static method is limited to that method only\n",
    "'''\n",
    "#1. Instance method\n",
    "class Abc:\n",
    "    def data(self,name,age):\n",
    "        self.name = name\n",
    "        self.age = age\n",
    "        \n",
    "    def show(self):\n",
    "        print(f\"My name is {self.name} and my age is {self.age}\")\n",
    "obj=Abc()\n",
    "obj.data(\"Sakshi\",18)\n",
    "obj.show()\n",
    "\n",
    "#2. Class Method: uses decorator\n",
    "# -if we need to access variable in same function we do not require to use cls or self but it is nice habbit to do so\n",
    "#uses decorator - @classmethod\n",
    "class Xyz:\n",
    "    @classmethod\n",
    "    def get(cls,name,age):\n",
    "        cls.name = name\n",
    "        cls.age = age\n",
    "        print(f\"Hey {name} this is class method and i know your age is {age}\")\n",
    "\n",
    "Xyz.get(\"Sakshi\",18)\n",
    "\n",
    "#3. Static Method\n",
    "#- we do not have instance here like self in instance method, cls in class method baki it work same as class method \n",
    "#- we cann access the variable in diefferent method also even if in same class\n",
    "# uses decorator - @staticmethod\n",
    "class Pqr:\n",
    "    @staticmethod\n",
    "    def set(name,age):\n",
    "        print(f\"Hey {name} this is static method and i know your age is {age}\")\n",
    "\n",
    "    '''def getter():\n",
    "        print(f\"{name}\")'''\n",
    "\n",
    "Pqr.set(\"Sakshi\",18)\n",
    "#Pqr.getter()"
   ]
  },
  {
   "cell_type": "code",
   "execution_count": 83,
   "id": "701a6816-6297-4f70-8cff-c81cf24004d0",
   "metadata": {},
   "outputs": [
    {
     "name": "stdout",
     "output_type": "stream",
     "text": [
      "I will be called when the object is created, as I am the Constructor.\n",
      "I will free up space, as I am the Destructor and should technically be called last.\n",
      "I will be called when someone calls me, as I am a method.\n"
     ]
    }
   ],
   "source": [
    "class Abc:\n",
    "    def __init__(self):\n",
    "        print(\"I will be called when the object is created, as I am the Constructor.\")\n",
    "\n",
    "    def __del__(self):\n",
    "        print(\"I will free up space, as I am the Destructor and should technically be called last.\")\n",
    "\n",
    "    def show(self):\n",
    "        print(\"I will be called when someone calls me, as I am a method.\")\n",
    "                   \n",
    "obj = Abc()  # Constructor is automatically called here.\n",
    "obj.show()   # Method is explicitly called.\n",
    "\n",
    "#del obj      # Explicitly deleting the object to invoke the destructor.\n"
   ]
  },
  {
   "cell_type": "code",
   "execution_count": 73,
   "id": "f70d49e9-27fc-46f8-9ff2-78ce4cbc058b",
   "metadata": {},
   "outputs": [
    {
     "name": "stdin",
     "output_type": "stream",
     "text": [
      "Enter your account number:  1111\n",
      "Enter your PIN:  1234\n"
     ]
    },
    {
     "name": "stdout",
     "output_type": "stream",
     "text": [
      "Hello Sakshi\n",
      "\n",
      "What do you want to do?\n",
      "1. Withdraw\n",
      "2. Deposit\n",
      "3. Check Balance\n",
      "4. Exit\n"
     ]
    },
    {
     "name": "stdin",
     "output_type": "stream",
     "text": [
      "Choose (1, 2, 3, or 4):  3\n"
     ]
    },
    {
     "name": "stdout",
     "output_type": "stream",
     "text": [
      "Your current balance is: 5000\n",
      "\n",
      "What do you want to do?\n",
      "1. Withdraw\n",
      "2. Deposit\n",
      "3. Check Balance\n",
      "4. Exit\n"
     ]
    },
    {
     "name": "stdin",
     "output_type": "stream",
     "text": [
      "Choose (1, 2, 3, or 4):  2\n",
      "Enter the amount to deposit:  -500\n"
     ]
    },
    {
     "name": "stdout",
     "output_type": "stream",
     "text": [
      "Invalid amount. Deposit amount cannot be negative.\n",
      "\n",
      "What do you want to do?\n",
      "1. Withdraw\n",
      "2. Deposit\n",
      "3. Check Balance\n",
      "4. Exit\n"
     ]
    },
    {
     "name": "stdin",
     "output_type": "stream",
     "text": [
      "Choose (1, 2, 3, or 4):  1\n",
      "Enter the amount to withdraw:  -500\n"
     ]
    },
    {
     "name": "stdout",
     "output_type": "stream",
     "text": [
      "Invalid amount. Withdrawal amount cannot be negative.\n",
      "\n",
      "What do you want to do?\n",
      "1. Withdraw\n",
      "2. Deposit\n",
      "3. Check Balance\n",
      "4. Exit\n"
     ]
    },
    {
     "name": "stdin",
     "output_type": "stream",
     "text": [
      "Choose (1, 2, 3, or 4):  4\n"
     ]
    },
    {
     "name": "stdout",
     "output_type": "stream",
     "text": [
      "Thank you for banking with us!\n"
     ]
    }
   ],
   "source": [
    "class Bank:\n",
    "    def __init__(self, balance, name):\n",
    "        self.balance = balance  \n",
    "        self.name = name\n",
    "    \n",
    "    def withdraw(self, amount):\n",
    "        if amount < 0:\n",
    "            print(\"Invalid amount. Withdrawal amount cannot be negative.\")\n",
    "        elif self.balance >= amount:\n",
    "            self.balance -= amount\n",
    "            print(f\"Withdrawal successful! {self.name}, your remaining balance is: {self.balance}\")\n",
    "        else:\n",
    "            print(\"Insufficient balance.\")\n",
    "\n",
    "    def deposit(self, amount):\n",
    "        if amount < 0:\n",
    "            print(\"Invalid amount. Deposit amount cannot be negative.\")\n",
    "        else:\n",
    "            self.balance += amount\n",
    "            print(f\"Deposit successful! New balance: {self.balance}\")\n",
    "\n",
    "    def check_balance(self):\n",
    "        print(f\"Your current balance is: {self.balance}\")\n",
    "\n",
    "account_no = int(input(\"Enter your account number: \"))\n",
    "pin = int(input(\"Enter your PIN: \"))\n",
    "\n",
    "l2 = [111111, 222222, 333333, 444444]\n",
    "l1 = [1234, 4321, 1104, 1828]\n",
    "names = [\"Sakshi\", \"Avinash\", \"Avira\", \"Saransh\"]\n",
    "balances = [5000, 4000, 6000, 7000]\n",
    "\n",
    "if pin in l1:\n",
    "    index = l1.index(pin)\n",
    "    name = names[index]\n",
    "    balance = balances[index]\n",
    "    obj = Bank(balance, name)\n",
    "    print(f\"Hello {name}\")\n",
    "\n",
    "    while True: \n",
    "        print(\"\\nWhat do you want to do?\")\n",
    "        print(\"1. Withdraw\\n2. Deposit\\n3. Check Balance\\n4. Exit\")\n",
    "        \n",
    "        choose = int(input(\"Choose (1, 2, 3, or 4): \"))\n",
    "\n",
    "        if choose == 1: \n",
    "            amount = int(input(\"Enter the amount to withdraw: \"))\n",
    "            obj.withdraw(amount)\n",
    "        elif choose == 2: \n",
    "            amount = int(input(\"Enter the amount to deposit: \"))\n",
    "            obj.deposit(amount)\n",
    "        elif choose == 3:  \n",
    "            obj.check_balance()\n",
    "        elif choose == 4:  \n",
    "            print(\"Thank you for banking with us!\")\n",
    "            break\n",
    "        else:\n",
    "            print(\"Invalid choice. Please try again.\")\n",
    "else:\n",
    "    print(\"Invalid PIN.\")\n"
   ]
  },
  {
   "cell_type": "code",
   "execution_count": 71,
   "id": "1300a39d-869a-4647-bc66-e0245eb34742",
   "metadata": {},
   "outputs": [
    {
     "name": "stdin",
     "output_type": "stream",
     "text": [
      "Enter your account number:  435623987634\n",
      "Enter your PIN:  2345\n"
     ]
    },
    {
     "name": "stdout",
     "output_type": "stream",
     "text": [
      "\n",
      "Login successful!\n",
      "\n",
      "\n",
      "Options: Withdraw, Deposit, BankBalance, Exit\n"
     ]
    },
    {
     "name": "stdin",
     "output_type": "stream",
     "text": [
      "What do you want to do?  deposit\n",
      "Enter amount you want to deposit:  -5000\n"
     ]
    },
    {
     "name": "stdout",
     "output_type": "stream",
     "text": [
      "\n",
      "Invalid deposit amount. Please enter a positive number.\n",
      "\n",
      "\n",
      "Options: Withdraw, Deposit, BankBalance, Exit\n"
     ]
    },
    {
     "name": "stdin",
     "output_type": "stream",
     "text": [
      "What do you want to do?  deposit\n",
      "Enter amount you want to deposit:  4000\n"
     ]
    },
    {
     "name": "stdout",
     "output_type": "stream",
     "text": [
      "\n",
      "You successfully deposited 4000.\n",
      "Updated Balance: 6000\n",
      "\n",
      "\n",
      "Options: Withdraw, Deposit, BankBalance, Exit\n"
     ]
    },
    {
     "name": "stdin",
     "output_type": "stream",
     "text": [
      "What do you want to do?  exit\n"
     ]
    },
    {
     "name": "stdout",
     "output_type": "stream",
     "text": [
      "\n",
      "Thank you for using our bank! Goodbye!\n",
      "\n"
     ]
    }
   ],
   "source": [
    "#Mitali's code using dict\n",
    "class Bank:\n",
    "    def __init__(self):\n",
    "        self.accounts = {\n",
    "            123652356781: {'pin': 1234, 'balance': 1000},\n",
    "            435623987634: {'pin': 2345, 'balance': 2000},\n",
    "            237694235623: {'pin': 2156, 'balance': 1500}\n",
    "        }\n",
    "        self.current_account = None  \n",
    "\n",
    "    def authenticate(self):\n",
    "        acc_num = int(input(\"Enter your account number: \"))\n",
    "        pin = int(input(\"Enter your PIN: \"))\n",
    "\n",
    "        if acc_num in self.accounts and self.accounts[acc_num]['pin'] == pin:\n",
    "            self.current_account = acc_num\n",
    "            print(\"\\nLogin successful!\\n\")\n",
    "            return True\n",
    "        else:\n",
    "            print(\"\\nInvalid credentials. Try again.\\n\")\n",
    "            return False\n",
    "\n",
    "    def deposit(self):\n",
    "        if self.current_account is None:\n",
    "            print(\"Please login first.\")\n",
    "            return\n",
    "\n",
    "        dep = int(input(\"Enter amount you want to deposit: \"))\n",
    "        if dep > 0:\n",
    "            self.accounts[self.current_account]['balance'] += dep\n",
    "            print(f\"\\nYou successfully deposited {dep}.\")\n",
    "            print(f\"Updated Balance: {self.accounts[self.current_account]['balance']}\\n\")\n",
    "        else:\n",
    "            print(\"\\nInvalid deposit amount. Please enter a positive number.\\n\")\n",
    "\n",
    "    def withdraw(self):\n",
    "        if self.current_account is None:\n",
    "            print(\"Please login first.\")\n",
    "            return\n",
    "\n",
    "        wit = int(input(\"Enter amount you want to withdraw: \"))\n",
    "        if wit <= 0:\n",
    "            print(\"\\nInvalid withdrawal amount. Please enter a positive number.\\n\")\n",
    "        elif wit > self.accounts[self.current_account]['balance']:\n",
    "            print(\"\\nInsufficient balance!\\n\")\n",
    "        else:\n",
    "            self.accounts[self.current_account]['balance'] -= wit\n",
    "            print(f\"\\nYou successfully withdrew {wit}.\")\n",
    "            print(f\"Updated Balance: {self.accounts[self.current_account]['balance']}\\n\")\n",
    "\n",
    "    def bank_balance(self):\n",
    "        if self.current_account is None:\n",
    "            print(\"Please login first.\")\n",
    "            return\n",
    "\n",
    "        print(f\"\\nBalance: {self.accounts[self.current_account]['balance']}\\n\")\n",
    "\n",
    "    def menu(self):\n",
    "        '''Run the bank menu after successful login.'''\n",
    "        if not self.authenticate():\n",
    "            return \n",
    "\n",
    "        while True:\n",
    "            print(\"\\nOptions: Withdraw, Deposit, BankBalance, Exit\")\n",
    "            choice = input(\"What do you want to do? \").strip().lower()\n",
    "            \n",
    "            if choice == \"deposit\":\n",
    "                self.deposit()\n",
    "            elif choice == \"withdraw\":\n",
    "                self.withdraw()\n",
    "            elif choice == \"bankbalance\":\n",
    "                self.bank_balance()\n",
    "            elif choice == \"exit\":\n",
    "                print(\"\\nThank you for using our bank! Goodbye!\\n\")\n",
    "                break\n",
    "            else:\n",
    "                print(\"\\nInvalid choice! Please enter a valid option.\\n\")\n",
    "\n",
    "\n",
    "# Initialize and run the bank application\n",
    "bk = Bank()\n",
    "bk.menu()\n"
   ]
  },
  {
   "cell_type": "code",
   "execution_count": 92,
   "id": "df5edbad-7f19-4f50-89a5-25940aa82849",
   "metadata": {},
   "outputs": [
    {
     "name": "stdin",
     "output_type": "stream",
     "text": [
      "Enter username:  user1\n",
      "Enter the password:  123\n",
      "How much amount do you want to deposit?  5000\n"
     ]
    },
    {
     "name": "stdout",
     "output_type": "stream",
     "text": [
      "5000 credited to your account. Total balance is 5020\n",
      "name = xyz\n",
      "amount = 5020\n",
      "account = 123456789\n"
     ]
    }
   ],
   "source": [
    "class Bank:\n",
    "    def __init__(self):  # Fixed the constructor name\n",
    "        self.details = {\n",
    "            'user1': {123: {'name': 'xyz', 'amount': 20, 'account': 123456789}},\n",
    "            'user2': {234: {'name': 'pqr', 'amount': 0, 'account': 523641789}},\n",
    "            'user3': {567: {'name': 'abc', 'amount': 30, 'account': 35214987}}\n",
    "        }\n",
    "\n",
    "    def deposite(self, user, password, depo):\n",
    "        if user in self.details and password in self.details[user]:  # Check if user and password exist\n",
    "            self.details[user][password]['amount'] += depo  # Update the balance\n",
    "            a = self.details[user][password]['amount']\n",
    "\n",
    "            print(f\"{depo} credited to your account. Total balance is {a}\")\n",
    "            for i in self.details[user][password]:\n",
    "                print(f\"{i} = {self.details[user][password][i]}\")\n",
    "        else:\n",
    "            print(\"Invalid user or password.\")\n",
    "\n",
    "    def withdraw(self, user, password, wid):\n",
    "        if user in self.details and password in self.details[user]:  # Check if user and password exist\n",
    "            if self.details[user][password]['amount'] >= wid:  # Check for sufficient funds\n",
    "                self.details[user][password]['amount'] -= wid  # Update the balance\n",
    "                a = self.details[user][password]['amount']\n",
    "\n",
    "                print(f\"{wid} debited from your account. Total balance is {a}\")\n",
    "                for i in self.details[user][password]:\n",
    "                    print(f\"{i} = {self.details[user][password][i]}\")\n",
    "            else:\n",
    "                print(\"Insufficient funds.\")\n",
    "        else:\n",
    "            print(\"Invalid user or password.\")\n",
    "\n",
    "# Example usage\n",
    "obj = Bank()\n",
    "user = input(\"Enter username: \")\n",
    "passw = int(input(\"Enter the password: \"))\n",
    "amount = int(input(\"How much amount do you want to deposit? \"))\n",
    "obj.deposite(user, passw, amount)\n"
   ]
  },
  {
   "cell_type": "code",
   "execution_count": 94,
   "id": "9ba956d3-fd71-4e3c-af65-9ca259728be6",
   "metadata": {},
   "outputs": [
    {
     "name": "stdout",
     "output_type": "stream",
     "text": [
      "My father gifted me BMW\n"
     ]
    }
   ],
   "source": [
    "'''\n",
    "Inheritance : here child class inherits properties of parent class\n",
    "Types of Inheritance\n",
    "1. Single level Inheritance : A single child class inherits from a single parent class.\n",
    "2. Multi level Inheritance : A child class inherits from a parent class, and another child class inherits from that child class (forming a chain).\n",
    "3. Multiple Inheritance : A single child class inherits from more than one parent class.\n",
    "4. Hierarchy Inheritance : Multiple child classes inherit from a single parent class (opposite of multiple inheritance).\n",
    "5. Hybrid Inheritance  : A combination of two or more types of inheritance (e.g., combining multiple and hierarchical).\n",
    "'''\n",
    "\n",
    "class Parent:\n",
    "    def __init__(self,house,car):\n",
    "        self.house = house\n",
    "        self.car = car\n",
    "\n",
    "class Child(Parent):\n",
    "    def cshow(self):\n",
    "        print(f\"My father gifted me {self.car}\")\n",
    "\n",
    "obj=Child('bunglow','BMW')\n",
    "obj.cshow()"
   ]
  },
  {
   "cell_type": "code",
   "execution_count": 4,
   "id": "c57b14f2-ae36-4ae8-82db-06ee4df2f9f0",
   "metadata": {},
   "outputs": [
    {
     "name": "stdout",
     "output_type": "stream",
     "text": [
      "House: Villa\n",
      "Car: BMW\n"
     ]
    }
   ],
   "source": [
    "#Single level inheritance\n",
    "class Parent:\n",
    "    def __init__(self, house):\n",
    "        self.house = house\n",
    "        print(\"House:\", self.house)\n",
    "\n",
    "class Child(Parent):\n",
    "    def __init__(self, house, car):\n",
    "        super().__init__(house)  # Pass the `house` argument to the Parent class constructor\n",
    "        self.car = car\n",
    "        print(\"Car:\", self.car)\n",
    "\n",
    "# Create an object of the Child class\n",
    "obj = Child(\"Villa\", \"BMW\")\n"
   ]
  },
  {
   "cell_type": "code",
   "execution_count": 3,
   "id": "8d70d5a3-60ee-4a35-b5d8-db7c62fedcdc",
   "metadata": {},
   "outputs": [
    {
     "name": "stdout",
     "output_type": "stream",
     "text": [
      "My name is Kantilal, I have a child and a grandchild.\n",
      "My father's name is Kantilal and I have a child.\n",
      "My grandfather's name is Kantilal and I love him.\n"
     ]
    }
   ],
   "source": [
    "#Multi level Inheritance\n",
    "class A:\n",
    "    def __init__(self, name):\n",
    "        self.name = name  \n",
    "        print(f\"My name is {name}, I have a child and a grandchild.\")\n",
    "\n",
    "class B(A):\n",
    "    def show1(self):\n",
    "        print(f\"My father's name is {self.name} and I have a child.\")\n",
    "\n",
    "class C(B):  \n",
    "    def show2(self):\n",
    "        print(f\"My grandfather's name is {self.name} and I love him.\")\n",
    "\n",
    "\n",
    "obj = C(\"Kantilal\")  \n",
    "obj.show1()          \n",
    "obj.show2()          "
   ]
  },
  {
   "cell_type": "code",
   "execution_count": 15,
   "id": "4937a7ba-c21f-46ad-88f0-53096a4c2318",
   "metadata": {},
   "outputs": [
    {
     "name": "stdout",
     "output_type": "stream",
     "text": [
      "Class Name:Tybtech\n",
      "College Name:WIT\n"
     ]
    }
   ],
   "source": [
    "#mulitple inheritance\n",
    "# here classname is used instead of  super keyword because , here in multiple inheritance diamond problem creates, so to avoid this we use class name instead\n",
    "class ClassData:\n",
    "    def __init__(self,clsname):\n",
    "        self.clsname = clsname\n",
    "        print(f\"Class Name:{self.clsname}\")\n",
    "\n",
    "class CollegeData:\n",
    "    def __init__(self,clgname):\n",
    "        self.clgname = clgname\n",
    "        print(f\"College Name:{self.clgname}\")\n",
    "\n",
    "\n",
    "class StudentData(ClassData,CollegeData):\n",
    "    def __init__(self,name,clsname,clgname):\n",
    "        ClassData.__init__(self,clsname)\n",
    "        CollegeData.__init__(self,clgname)\n",
    "        \n",
    "\n",
    "obj = StudentData(\"Sakshi\",\"Tybtech\",\"WIT\")\n"
   ]
  },
  {
   "cell_type": "code",
   "execution_count": 20,
   "id": "ee70c188-baed-48c9-b6fd-23dec22feb79",
   "metadata": {},
   "outputs": [
    {
     "name": "stdout",
     "output_type": "stream",
     "text": [
      "Addition of 2 numbers are : 5\n"
     ]
    }
   ],
   "source": [
    "#Hierarchy Inheritance\n",
    "class A:\n",
    "    def __init__(self,a):\n",
    "        self.a=a\n",
    "\n",
    "class B(A):\n",
    "    pass\n",
    "\n",
    "class C(A):\n",
    "    pass\n",
    "\n",
    "class D(A):\n",
    "    def __init__(self,a,b):\n",
    "        self.b = b\n",
    "        super().__init__(a)\n",
    "        print(f\"Addition of 2 numbers are : {self.a + self.b}\")\n",
    "\n",
    "obj = D(2,3)\n",
    "\n",
    "    "
   ]
  },
  {
   "cell_type": "code",
   "execution_count": 28,
   "id": "908ed334-331f-46a9-895f-bf95491579a5",
   "metadata": {},
   "outputs": [
    {
     "name": "stdout",
     "output_type": "stream",
     "text": [
      "I am Student 1\n",
      "I am Student 2\n",
      "I am student 3\n",
      "I am Teacher of student 1, student 2 and student 3\n"
     ]
    }
   ],
   "source": [
    "#Hybrid Inheritance\n",
    "class Student1:\n",
    "    def show(self):\n",
    "        print(\"I am Student 1\")\n",
    "\n",
    "class Student2(Student1):\n",
    "    def show2(self):\n",
    "        print(\"I am Student 2\")\n",
    "\n",
    "class Student3:\n",
    "    def show3(self):\n",
    "        print(\"I am student 3\")\n",
    "\n",
    "class Teacher(Student2,Student3):\n",
    "    def show4(self):\n",
    "        print(\"I am Teacher of student 1, student 2 and student 3\")\n",
    "\n",
    "obj = Teacher()\n",
    "obj.show()\n",
    "obj.show2()\n",
    "obj.show3()\n",
    "obj.show4()\n"
   ]
  },
  {
   "cell_type": "code",
   "execution_count": 6,
   "id": "868a8655-286b-4725-80c4-f9d4c675a0c2",
   "metadata": {},
   "outputs": [
    {
     "name": "stdout",
     "output_type": "stream",
     "text": [
      "[1, 8, 27, 64]\n"
     ]
    }
   ],
   "source": [
    "#map\n",
    "b = list(map(lambda x:x**3,[1,2,3,4]))\n",
    "print(b)"
   ]
  },
  {
   "cell_type": "code",
   "execution_count": 9,
   "id": "0faf3cde-5904-4b3f-9bfe-1cc322151244",
   "metadata": {},
   "outputs": [
    {
     "name": "stdout",
     "output_type": "stream",
     "text": [
      "(2, 4, 6, 8, 10, 12, 14)\n"
     ]
    }
   ],
   "source": [
    "#filter\n",
    "c=tuple(filter(lambda y: y%2 ==0,(1,2,3,4,5,6,7,8,9,10,11,12,13,14)))\n",
    "print(c)"
   ]
  },
  {
   "cell_type": "code",
   "execution_count": 10,
   "id": "8239b163-cdb6-40e8-bee7-ab5dacb99ac0",
   "metadata": {},
   "outputs": [
    {
     "name": "stdin",
     "output_type": "stream",
     "text": [
      "Enter a number:  1 2 4 7 8 5 9 3 0\n"
     ]
    },
    {
     "name": "stdout",
     "output_type": "stream",
     "text": [
      "[9, 8, 7, 5, 4, 3, 2, 1, 0]\n"
     ]
    }
   ],
   "source": [
    "#Sorting\n",
    "a = list(map(int,input(\"Enter a number: \").split()))\n",
    "\n",
    "for i in range (len(a)):\n",
    "    for j in range(len(a)):\n",
    "        if  a[i] >= a[j]:\n",
    "            temp = a[i]\n",
    "            a[i] = a[j]\n",
    "            a[j] = temp\n",
    "\n",
    "print(a)"
   ]
  },
  {
   "cell_type": "code",
   "execution_count": 13,
   "id": "77a4dca1-56c0-4a4f-9666-8fda9c1f5877",
   "metadata": {},
   "outputs": [
    {
     "name": "stdin",
     "output_type": "stream",
     "text": [
      "Enter number1:  18\n",
      "Enter number2:  48\n"
     ]
    },
    {
     "name": "stdout",
     "output_type": "stream",
     "text": [
      "6\n"
     ]
    }
   ],
   "source": [
    "#GCD of Two numbers\n",
    "a = int(input(\"Enter number1: \"))\n",
    "b = int(input(\"Enter number2: \"))\n",
    "gcd = 0\n",
    "for i in range(1,a):\n",
    "    if a % i == 0 and b % i == 0:\n",
    "        gcd = i\n",
    "\n",
    "print(gcd)"
   ]
  },
  {
   "cell_type": "code",
   "execution_count": 32,
   "id": "9ff998e9-92ba-46ff-bd0a-9fe8721fad39",
   "metadata": {},
   "outputs": [
    {
     "data": {
      "text/plain": [
       "5"
      ]
     },
     "execution_count": 32,
     "metadata": {},
     "output_type": "execute_result"
    }
   ],
   "source": [
    "def count_one(nums):\n",
    "    count = 0\n",
    "    ans = 0\n",
    "    for i in nums:\n",
    "        if i == 1:\n",
    "            count = count + 1\n",
    "        else:\n",
    "            ans = max(ans,count)\n",
    "            count = 0\n",
    "    return max(ans,count)      \n",
    "\n",
    "nums = [1,1,1,0,0,0,5,1,1,1,1,1]\n",
    "count_one(nums)"
   ]
  },
  {
   "cell_type": "code",
   "execution_count": 1,
   "id": "27c6e909-0a07-4cf5-9609-02403ae71d41",
   "metadata": {},
   "outputs": [
    {
     "name": "stdout",
     "output_type": "stream",
     "text": [
      "10 is second smallest no\n"
     ]
    }
   ],
   "source": [
    "#printing second smallest number\n",
    "a = [1,34,50,75,10]\n",
    "sm = float('inf')\n",
    "ssm = float('inf')\n",
    "for i in a:\n",
    "    if i < sm:\n",
    "        ssm = sm\n",
    "        sm= i \n",
    "    elif sm< i < ssm:\n",
    "        ssm = i\n",
    "if ssm == float('inf'):\n",
    "    print(\"No smallest found\")\n",
    "else:\n",
    "    print(f\"{ssm} is second smallest no\")"
   ]
  },
  {
   "cell_type": "code",
   "execution_count": 5,
   "id": "61a72c29-e63c-4f71-b2d7-93ad6b93f62f",
   "metadata": {},
   "outputs": [
    {
     "name": "stdin",
     "output_type": "stream",
     "text": [
      "Enter the number:  7\n"
     ]
    },
    {
     "name": "stdout",
     "output_type": "stream",
     "text": [
      "            * \n",
      "          * * * \n",
      "        * * * * * \n",
      "      * * * * * * * \n",
      "    * * * * * * * * * \n",
      "  * * * * * * * * * * * \n",
      "* * * * * * * * * * * * * \n"
     ]
    }
   ],
   "source": [
    "#pattern Printing \n",
    "'''\n",
    "    * \n",
    "  * * * \n",
    "* * * * * \n",
    "'''\n",
    "def full_pyramid(n):\n",
    "    #traversal\n",
    "    for row in range(1,n+1):\n",
    "        #Space prinitng\n",
    "        for col in range(n-row):\n",
    "            print(\" \",end = \" \")\n",
    "        #pattern printing\n",
    "        for cols in range(1,2*row):\n",
    "            print(\"*\",end=\" \")\n",
    "        print()\n",
    "\n",
    "full_pyramid(int(input(\"Enter the number: \")))"
   ]
  },
  {
   "cell_type": "code",
   "execution_count": 8,
   "id": "a4a3157f-fff6-4f61-a99d-efd5d0736434",
   "metadata": {},
   "outputs": [
    {
     "name": "stdout",
     "output_type": "stream",
     "text": [
      "Bank 1 amount : 1000\n",
      "Bank 2 amount : 200\n",
      "Total balance in 2 accounts1200\n"
     ]
    }
   ],
   "source": [
    "#example of mutiple inhertence\n",
    "class Bank1:\n",
    "    def __init__(self,B1amt):\n",
    "        self.B1amt=B1amt\n",
    "        print(f\"Bank 1 amount : {self.B1amt}\")\n",
    "\n",
    "class Bank2:\n",
    "    def __init__(self,B2amt):\n",
    "        self.B2amt=B2amt\n",
    "        print(f\"Bank 2 amount : {self.B2amt}\")\n",
    "\n",
    "class Balance(Bank1,Bank2):\n",
    "    def __init__(self,B1amt,B2amt):\n",
    "        Bank1.__init__(self,B1amt)\n",
    "        Bank2.__init__(self,B2amt)\n",
    "        print(f\"Total balance in 2 accounts{self.B1amt+self.B2amt}\")\n",
    "\n",
    "obj=Balance(1000,200)"
   ]
  },
  {
   "cell_type": "code",
   "execution_count": 13,
   "id": "7f813c86-9cdf-4e5f-afd0-9306b7e5fa07",
   "metadata": {},
   "outputs": [
    {
     "name": "stdin",
     "output_type": "stream",
     "text": [
      "Enter a number:  6\n"
     ]
    },
    {
     "name": "stdout",
     "output_type": "stream",
     "text": [
      "The Factorial of 6 is 720\n"
     ]
    }
   ],
   "source": [
    "def facto(n):\n",
    "    fact = 1\n",
    "    for i in range(1, n + 1):  # Loop should start from 1, not 'i'\n",
    "        fact *= i\n",
    "    return fact\n",
    "\n",
    "num = int(input(\"Enter a number: \"))\n",
    "print(f\"The Factorial of {num} is {facto(num)}\")  # Fixed function call in print\n"
   ]
  },
  {
   "cell_type": "code",
   "execution_count": 10,
   "id": "8423db9a-7a2a-4b18-a376-b20b73db5383",
   "metadata": {},
   "outputs": [
    {
     "name": "stdout",
     "output_type": "stream",
     "text": [
      "4.0\n"
     ]
    }
   ],
   "source": [
    "#missing number \n",
    "arr=[1,2,3,5,6]\n",
    "def find_missing(arr):\n",
    "    n=len(arr)+1\n",
    "    actual_sum=(n*(n+1))/2\n",
    "    sum=0\n",
    "    for i in range (len(arr)):\n",
    "        sum+=arr[i]\n",
    "    return actual_sum-sum\n",
    "missing_num=find_missing(arr)\n",
    "print(missing_num)"
   ]
  },
  {
   "cell_type": "code",
   "execution_count": 11,
   "id": "d12ead6f-9c46-40d5-ae0a-42787775f06c",
   "metadata": {},
   "outputs": [
    {
     "name": "stdout",
     "output_type": "stream",
     "text": [
      "16.0\n"
     ]
    }
   ],
   "source": [
    "#missing number in for sqaure containing list\n",
    "arr=[1,4,9,25,36]\n",
    "def find_missing(arr):\n",
    "    n=len(arr)+1\n",
    "    actual_sum=(n*(n+1)*(2*n+1))/6\n",
    "    sum=0\n",
    "    for i in range (len(arr)):\n",
    "        sum+=arr[i]\n",
    "    return actual_sum-sum\n",
    "missing_num=find_missing(arr)\n",
    "print(missing_num)"
   ]
  },
  {
   "cell_type": "code",
   "execution_count": 12,
   "id": "4c74df9b-2edc-4646-a4dd-5dee0b1a5af3",
   "metadata": {},
   "outputs": [
    {
     "name": "stdout",
     "output_type": "stream",
     "text": [
      "composite number\n"
     ]
    }
   ],
   "source": [
    "#optimised code for finding prime number \n",
    "import math\n",
    "def prime(num):\n",
    "    for i in range (2,int(math.sqrt(num)+1)):\n",
    "        if num % i == 0:\n",
    "            print(\"composite number\")\n",
    "            return\n",
    "    print(\"prime number\")\n",
    "\n",
    "prime(6)"
   ]
  },
  {
   "cell_type": "code",
   "execution_count": 14,
   "id": "169b5d7e-2cee-473a-a476-e78a253c14bf",
   "metadata": {},
   "outputs": [
    {
     "name": "stdin",
     "output_type": "stream",
     "text": [
      "enter the number 9\n"
     ]
    },
    {
     "name": "stdout",
     "output_type": "stream",
     "text": [
      "the number is neon number\n"
     ]
    }
   ],
   "source": [
    "#neon number\n",
    "n=int(input(\"enter the number\"))\n",
    "sq=n*n\n",
    "sum=0\n",
    "org=n\n",
    "while sq>0:\n",
    "    d=sq%10\n",
    "    sum=sum+d\n",
    "    sq=sq//10\n",
    "if sum==org:\n",
    "    print(\"the number is neon number\")\n",
    "else:\n",
    "    print(\"the number is not a neon number\")"
   ]
  },
  {
   "cell_type": "code",
   "execution_count": 15,
   "id": "c698a345-9695-46f2-88f7-a321943eb52f",
   "metadata": {},
   "outputs": [
    {
     "name": "stdout",
     "output_type": "stream",
     "text": [
      "element is found at 1 index\n"
     ]
    }
   ],
   "source": [
    "#linear search \n",
    "def search(arr,target):\n",
    "    for i in range (len(arr)):\n",
    "        if arr[i]==target:\n",
    "            print(f\"element is found at {i} index\")\n",
    "            return\n",
    "    print(\"element not found \")\n",
    "    return\n",
    "arr=[10,50,30,40,70]\n",
    "target=50\n",
    "search(arr,target)"
   ]
  },
  {
   "cell_type": "code",
   "execution_count": 16,
   "id": "d7bce80e-ed86-4031-8535-66bbbc4cfac9",
   "metadata": {},
   "outputs": [
    {
     "name": "stdin",
     "output_type": "stream",
     "text": [
      "Enter num:  145\n"
     ]
    },
    {
     "name": "stdout",
     "output_type": "stream",
     "text": [
      "Krishnamurty no.\n"
     ]
    }
   ],
   "source": [
    "#krishnmurti number \n",
    "n= int (input(\"Enter num: \"))\n",
    "org=n\n",
    "sum=0\n",
    "while n>0:\n",
    "    rem=n%10\n",
    "    f=1\n",
    "    for i in range (1,rem+1):\n",
    "        f=f*i\n",
    "    sum = sum+f\n",
    "    n=n//10\n",
    "if sum==org:\n",
    "    print(\"Krishnamurty no.\")\n",
    "else:\n",
    "    print(\"Not a krishnamutry no.\")"
   ]
  },
  {
   "cell_type": "code",
   "execution_count": null,
   "id": "9bc47977-5a6b-4256-a169-07f9a0dad9da",
   "metadata": {},
   "outputs": [],
   "source": []
  }
 ],
 "metadata": {
  "kernelspec": {
   "display_name": "Python 3 (ipykernel)",
   "language": "python",
   "name": "python3"
  },
  "language_info": {
   "codemirror_mode": {
    "name": "ipython",
    "version": 3
   },
   "file_extension": ".py",
   "mimetype": "text/x-python",
   "name": "python",
   "nbconvert_exporter": "python",
   "pygments_lexer": "ipython3",
   "version": "3.12.1"
  }
 },
 "nbformat": 4,
 "nbformat_minor": 5
}
