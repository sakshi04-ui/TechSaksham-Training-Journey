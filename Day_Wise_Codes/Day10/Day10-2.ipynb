{
 "cells": [
  {
   "cell_type": "code",
   "execution_count": 2,
   "id": "0995e047-7343-4248-b84b-55a98c0ec6a8",
   "metadata": {},
   "outputs": [],
   "source": [
    "import numpy as np\n",
    "import pandas as pd\n",
    "import matplotlib.pyplot as plt"
   ]
  },
  {
   "cell_type": "code",
   "execution_count": 4,
   "id": "9027ca06-8a5d-4dc7-9dbe-bf413d2a1191",
   "metadata": {
    "scrolled": true
   },
   "outputs": [
    {
     "name": "stdout",
     "output_type": "stream",
     "text": [
      "                      Car_Name  Year  Selling_Price  Present_Price  Kms_Driven Fuel_Type Seller_Type Transmission  Owner\n",
      "0                         ritz  2014           3.35          5.590       27000    Petrol      Dealer       Manual      0\n",
      "1                          sx4  2013           4.75          9.540       43000    Diesel      Dealer       Manual      0\n",
      "2                         ciaz  2017           7.25          9.850        6900    Petrol      Dealer       Manual      0\n",
      "3                      wagon r  2011           2.85          4.150        5200    Petrol      Dealer       Manual      0\n",
      "4                        swift  2014           4.60          6.870       42450    Diesel      Dealer       Manual      0\n",
      "5                vitara brezza  2018           9.25          9.830        2071    Diesel      Dealer       Manual      0\n",
      "6                         ciaz  2015           6.75          8.120       18796    Petrol      Dealer       Manual      0\n",
      "7                      s cross  2015           6.50          8.610       33429    Diesel      Dealer       Manual      0\n",
      "8                         ciaz  2016           8.75          8.890       20273    Diesel      Dealer       Manual      0\n",
      "9                         ciaz  2015           7.45          8.920       42367    Diesel      Dealer       Manual      0\n",
      "10                    alto 800  2017           2.85          3.600        2135    Petrol      Dealer       Manual      0\n",
      "11                        ciaz  2015           6.85         10.380       51000    Diesel      Dealer       Manual      0\n",
      "12                        ciaz  2015           7.50          9.940       15000    Petrol      Dealer    Automatic      0\n",
      "13                      ertiga  2015           6.10          7.710       26000    Petrol      Dealer       Manual      0\n",
      "14                       dzire  2009           2.25          7.210       77427    Petrol      Dealer       Manual      0\n",
      "15                      ertiga  2016           7.75         10.790       43000    Diesel      Dealer       Manual      0\n",
      "16                      ertiga  2015           7.25         10.790       41678    Diesel      Dealer       Manual      0\n",
      "17                      ertiga  2016           7.75         10.790       43000    Diesel      Dealer       Manual      0\n",
      "18                     wagon r  2015           3.25          5.090       35500       CNG      Dealer       Manual      0\n",
      "19                         sx4  2010           2.65          7.980       41442    Petrol      Dealer       Manual      0\n",
      "20                    alto k10  2016           2.85          3.950       25000    Petrol      Dealer       Manual      0\n",
      "21                       ignis  2017           4.90          5.710        2400    Petrol      Dealer       Manual      0\n",
      "22                         sx4  2011           4.40          8.010       50000    Petrol      Dealer    Automatic      0\n",
      "23                    alto k10  2014           2.50          3.460       45280    Petrol      Dealer       Manual      0\n",
      "24                     wagon r  2013           2.90          4.410       56879    Petrol      Dealer       Manual      0\n",
      "25                       swift  2011           3.00          4.990       20000    Petrol      Dealer       Manual      0\n",
      "26                       swift  2013           4.15          5.870       55138    Petrol      Dealer       Manual      0\n",
      "27                       swift  2017           6.00          6.490       16200    Petrol  Individual       Manual      0\n",
      "28                    alto k10  2010           1.95          3.950       44542    Petrol      Dealer       Manual      0\n",
      "29                        ciaz  2015           7.45         10.380       45000    Diesel      Dealer       Manual      0\n",
      "30                        ritz  2012           3.10          5.980       51439    Diesel      Dealer       Manual      0\n",
      "31                        ritz  2011           2.35          4.890       54200    Petrol      Dealer       Manual      0\n",
      "32                       swift  2014           4.95          7.490       39000    Diesel      Dealer       Manual      0\n",
      "33                      ertiga  2014           6.00          9.950       45000    Diesel      Dealer       Manual      0\n",
      "34                       dzire  2014           5.50          8.060       45000    Diesel      Dealer       Manual      0\n",
      "35                         sx4  2011           2.95          7.740       49998       CNG      Dealer       Manual      0\n",
      "36                       dzire  2015           4.65          7.200       48767    Petrol      Dealer       Manual      0\n",
      "37                         800  2003           0.35          2.280      127000    Petrol  Individual       Manual      0\n",
      "38                    alto k10  2016           3.00          3.760       10079    Petrol      Dealer       Manual      0\n",
      "39                         sx4  2003           2.25          7.980       62000    Petrol      Dealer       Manual      0\n",
      "40                      baleno  2016           5.85          7.870       24524    Petrol      Dealer    Automatic      0\n",
      "41                    alto k10  2014           2.55          3.980       46706    Petrol      Dealer       Manual      0\n",
      "42                         sx4  2008           1.95          7.150       58000    Petrol      Dealer       Manual      0\n",
      "43                       dzire  2014           5.50          8.060       45780    Diesel      Dealer       Manual      0\n",
      "44                        omni  2012           1.25          2.690       50000    Petrol      Dealer       Manual      0\n",
      "45                        ciaz  2014           7.50         12.040       15000    Petrol      Dealer    Automatic      0\n",
      "46                        ritz  2013           2.65          4.890       64532    Petrol      Dealer       Manual      0\n",
      "47                     wagon r  2006           1.05          4.150       65000    Petrol      Dealer       Manual      0\n",
      "48                      ertiga  2015           5.80          7.710       25870    Petrol      Dealer       Manual      0\n",
      "49                        ciaz  2017           7.75          9.290       37000    Petrol      Dealer    Automatic      0\n",
      "50                    fortuner  2012          14.90         30.610      104707    Diesel      Dealer    Automatic      0\n",
      "51                    fortuner  2015          23.00         30.610       40000    Diesel      Dealer    Automatic      0\n",
      "52                      innova  2017          18.00         19.770       15000    Diesel      Dealer    Automatic      0\n",
      "53                    fortuner  2013          16.00         30.610      135000    Diesel  Individual    Automatic      0\n",
      "54                      innova  2005           2.75         10.210       90000    Petrol  Individual       Manual      0\n",
      "55               corolla altis  2009           3.60         15.040       70000    Petrol      Dealer    Automatic      0\n",
      "56                 etios cross  2015           4.50          7.270       40534    Petrol      Dealer       Manual      0\n",
      "57               corolla altis  2010           4.75         18.540       50000    Petrol      Dealer       Manual      0\n",
      "58                     etios g  2014           4.10          6.800       39485    Petrol      Dealer       Manual      1\n",
      "59                    fortuner  2014          19.99         35.960       41000    Diesel      Dealer    Automatic      0\n",
      "60               corolla altis  2013           6.95         18.610       40001    Petrol      Dealer       Manual      0\n",
      "61                 etios cross  2015           4.50          7.700       40588    Petrol      Dealer       Manual      0\n",
      "62                    fortuner  2014          18.75         35.960       78000    Diesel      Dealer    Automatic      0\n",
      "63                    fortuner  2015          23.50         35.960       47000    Diesel      Dealer    Automatic      0\n",
      "64                    fortuner  2017          33.00         36.230        6000    Diesel      Dealer    Automatic      0\n",
      "65                  etios liva  2014           4.75          6.950       45000    Diesel      Dealer       Manual      0\n",
      "66                      innova  2017          19.75         23.150       11000    Petrol      Dealer    Automatic      0\n",
      "67                    fortuner  2010           9.25         20.450       59000    Diesel      Dealer       Manual      0\n",
      "68               corolla altis  2011           4.35         13.740       88000    Petrol      Dealer       Manual      0\n",
      "69               corolla altis  2016          14.25         20.910       12000    Petrol      Dealer       Manual      0\n",
      "70                  etios liva  2014           3.95          6.760       71000    Diesel      Dealer       Manual      0\n",
      "71               corolla altis  2011           4.50         12.480       45000    Diesel      Dealer       Manual      0\n",
      "72               corolla altis  2013           7.45         18.610       56001    Petrol      Dealer       Manual      0\n",
      "73                  etios liva  2011           2.65          5.710       43000    Petrol      Dealer       Manual      0\n",
      "74                 etios cross  2014           4.90          8.930       83000    Diesel      Dealer       Manual      0\n",
      "75                     etios g  2015           3.95          6.800       36000    Petrol      Dealer       Manual      0\n",
      "76               corolla altis  2013           5.50         14.680       72000    Petrol      Dealer       Manual      0\n",
      "77                     corolla  2004           1.50         12.350      135154    Petrol      Dealer    Automatic      0\n",
      "78               corolla altis  2010           5.25         22.830       80000    Petrol      Dealer    Automatic      0\n",
      "79                    fortuner  2012          14.50         30.610       89000    Diesel      Dealer    Automatic      0\n",
      "80               corolla altis  2016          14.73         14.890       23000    Diesel      Dealer       Manual      0\n",
      "81                    etios gd  2015           4.75          7.850       40000    Diesel      Dealer       Manual      0\n",
      "82                      innova  2017          23.00         25.390       15000    Diesel      Dealer    Automatic      0\n",
      "83                      innova  2015          12.50         13.460       38000    Diesel      Dealer       Manual      0\n",
      "84                      innova  2005           3.49         13.460      197176    Diesel      Dealer       Manual      0\n",
      "85                       camry  2006           2.50         23.730      142000    Petrol  Individual    Automatic      3\n",
      "86                land cruiser  2010          35.00         92.600       78000    Diesel      Dealer       Manual      0\n",
      "87               corolla altis  2012           5.90         13.740       56000    Petrol      Dealer       Manual      0\n",
      "88                  etios liva  2013           3.45          6.050       47000    Petrol      Dealer       Manual      0\n",
      "89                     etios g  2014           4.75          6.760       40000    Petrol      Dealer       Manual      0\n",
      "90               corolla altis  2009           3.80         18.610       62000    Petrol      Dealer       Manual      0\n",
      "91                      innova  2014          11.25         16.090       58242    Diesel      Dealer       Manual      0\n",
      "92                      innova  2005           3.51         13.700       75000    Petrol      Dealer       Manual      0\n",
      "93                    fortuner  2015          23.00         30.610       40000    Diesel      Dealer    Automatic      0\n",
      "94               corolla altis  2008           4.00         22.780       89000    Petrol      Dealer    Automatic      0\n",
      "95               corolla altis  2012           5.85         18.610       72000    Petrol      Dealer       Manual      0\n",
      "96                      innova  2016          20.75         25.390       29000    Diesel      Dealer    Automatic      0\n",
      "97               corolla altis  2017          17.00         18.640        8700    Petrol      Dealer       Manual      0\n",
      "98               corolla altis  2013           7.05         18.610       45000    Petrol      Dealer       Manual      0\n",
      "99                    fortuner  2010           9.65         20.450       50024    Diesel      Dealer       Manual      0\n",
      "100  Royal Enfield Thunder 500  2016           1.75          1.900        3000    Petrol  Individual       Manual      0\n",
      "101         UM Renegade Mojave  2017           1.70          1.820        1400    Petrol  Individual       Manual      0\n",
      "102                  KTM RC200  2017           1.65          1.780        4000    Petrol  Individual       Manual      0\n",
      "103          Bajaj Dominar 400  2017           1.45          1.600        1200    Petrol  Individual       Manual      0\n",
      "104  Royal Enfield Classic 350  2017           1.35          1.470        4100    Petrol  Individual       Manual      0\n",
      "105                  KTM RC390  2015           1.35          2.370       21700    Petrol  Individual       Manual      0\n",
      "106             Hyosung GT250R  2014           1.35          3.450       16500    Petrol  Individual       Manual      1\n",
      "107  Royal Enfield Thunder 350  2013           1.25          1.500       15000    Petrol  Individual       Manual      0\n",
      "108  Royal Enfield Thunder 350  2016           1.20          1.500       18000    Petrol  Individual       Manual      0\n",
      "109  Royal Enfield Classic 350  2017           1.20          1.470       11000    Petrol  Individual       Manual      0\n",
      "110                  KTM RC200  2016           1.20          1.780        6000    Petrol  Individual       Manual      0\n",
      "111  Royal Enfield Thunder 350  2016           1.15          1.500        8700    Petrol  Individual       Manual      0\n",
      "112              KTM 390 Duke   2014           1.15          2.400        7000    Petrol  Individual       Manual      0\n",
      "113        Mahindra Mojo XT300  2016           1.15          1.400       35000    Petrol  Individual       Manual      0\n",
      "114  Royal Enfield Classic 350  2015           1.15          1.470       17000    Petrol  Individual       Manual      0\n",
      "115  Royal Enfield Classic 350  2015           1.11          1.470       17500    Petrol  Individual       Manual      0\n",
      "116  Royal Enfield Classic 350  2013           1.10          1.470       33000    Petrol  Individual       Manual      0\n",
      "117  Royal Enfield Thunder 500  2015           1.10          1.900       14000    Petrol  Individual       Manual      0\n",
      "118  Royal Enfield Classic 350  2015           1.10          1.470       26000    Petrol  Individual       Manual      0\n",
      "119  Royal Enfield Thunder 500  2013           1.05          1.900        5400    Petrol  Individual       Manual      0\n",
      "120         Bajaj Pulsar RS200  2016           1.05          1.260        5700    Petrol  Individual       Manual      0\n",
      "121  Royal Enfield Thunder 350  2011           1.05          1.500        6900    Petrol  Individual       Manual      0\n",
      "122   Royal Enfield Bullet 350  2016           1.05          1.170        6000    Petrol  Individual       Manual      0\n",
      "123  Royal Enfield Classic 350  2013           1.00          1.470       46500    Petrol  Individual       Manual      0\n",
      "124  Royal Enfield Classic 500  2012           0.95          1.750       11500    Petrol  Individual       Manual      0\n",
      "125  Royal Enfield Classic 500  2009           0.90          1.750       40000    Petrol  Individual       Manual      0\n",
      "126          Bajaj Avenger 220  2017           0.90          0.950        1300    Petrol  Individual       Manual      0\n",
      "127          Bajaj Avenger 150  2016           0.75          0.800        7000    Petrol  Individual       Manual      0\n",
      "128       Honda CB Hornet 160R  2017           0.80          0.870        3000    Petrol  Individual       Manual      0\n",
      "129          Yamaha FZ S V 2.0  2017           0.78          0.840        5000    Petrol  Individual       Manual      0\n",
      "130       Honda CB Hornet 160R  2017           0.75          0.870       11000    Petrol  Individual       Manual      0\n",
      "131               Yamaha FZ 16  2015           0.75          0.820       18000    Petrol  Individual       Manual      0\n",
      "132          Bajaj Avenger 220  2017           0.75          0.950        3500    Petrol  Individual       Manual      0\n",
      "133          Bajaj Avenger 220  2016           0.72          0.950         500    Petrol  Individual       Manual      0\n",
      "134         TVS Apache RTR 160  2017           0.65          0.810       11800    Petrol  Individual       Manual      0\n",
      "135           Bajaj Pulsar 150  2015           0.65          0.740        5000    Petrol  Individual       Manual      0\n",
      "136              Honda CBR 150  2014           0.65          1.200       23500    Petrol  Individual       Manual      0\n",
      "137               Hero Extreme  2013           0.65          0.787       16000    Petrol  Individual       Manual      0\n",
      "138       Honda CB Hornet 160R  2016           0.60          0.870       15000    Petrol  Individual       Manual      0\n",
      "139     Bajaj Avenger 220 dtsi  2015           0.60          0.950       16600    Petrol  Individual       Manual      0\n",
      "140              Honda CBR 150  2013           0.60          1.200       32000    Petrol  Individual       Manual      0\n",
      "141   Bajaj Avenger 150 street  2016           0.60          0.800       20000    Petrol  Individual       Manual      0\n",
      "142           Yamaha FZ  v 2.0  2015           0.60          0.840       29000    Petrol  Individual       Manual      0\n",
      "143           Yamaha FZ  v 2.0  2016           0.60          0.840       25000    Petrol  Individual       Manual      0\n",
      "144       Bajaj Pulsar  NS 200  2014           0.60          0.990       25000    Petrol  Individual       Manual      0\n",
      "145         TVS Apache RTR 160  2012           0.60          0.810       19000    Petrol  Individual       Manual      0\n",
      "146               Hero Extreme  2014           0.55          0.787       15000    Petrol  Individual       Manual      0\n",
      "147          Yamaha FZ S V 2.0  2015           0.55          0.840       58000    Petrol  Individual       Manual      0\n",
      "148         Bajaj Pulsar 220 F  2010           0.52          0.940       45000    Petrol  Individual       Manual      0\n",
      "149         Bajaj Pulsar 220 F  2016           0.51          0.940       24000    Petrol  Individual       Manual      0\n",
      "150         TVS Apache RTR 180  2011           0.50          0.826        6000    Petrol  Individual       Manual      0\n",
      "151         Hero Passion X pro  2016           0.50          0.550       31000    Petrol  Individual       Manual      0\n",
      "152        Bajaj Pulsar NS 200  2012           0.50          0.990       13000    Petrol  Individual       Manual      0\n",
      "153        Bajaj Pulsar NS 200  2013           0.50          0.990       45000    Petrol  Individual       Manual      0\n",
      "154              Yamaha Fazer   2014           0.50          0.880        8000    Petrol  Individual       Manual      0\n",
      "155            Honda Activa 4G  2017           0.48          0.510        4300    Petrol  Individual    Automatic      0\n",
      "156                 TVS Sport   2017           0.48          0.520       15000    Petrol  Individual       Manual      0\n",
      "157          Yamaha FZ S V 2.0  2015           0.48          0.840       23000    Petrol  Individual       Manual      0\n",
      "158          Honda Dream Yuga   2017           0.48          0.540        8600    Petrol  Individual       Manual      0\n",
      "159            Honda Activa 4G  2017           0.45          0.510        4000    Petrol  Individual    Automatic      0\n",
      "160   Bajaj Avenger Street 220  2011           0.45          0.950       24000    Petrol  Individual       Manual      0\n",
      "161         TVS Apache RTR 180  2014           0.45          0.826       23000    Petrol  Individual       Manual      0\n",
      "162        Bajaj Pulsar NS 200  2012           0.45          0.990       14500    Petrol  Individual       Manual      0\n",
      "163     Bajaj Avenger 220 dtsi  2010           0.45          0.950       27000    Petrol  Individual       Manual      0\n",
      "164       Hero Splender iSmart  2016           0.45          0.540       14000    Petrol  Individual       Manual      0\n",
      "165                  Activa 3g  2016           0.45          0.540         500    Petrol  Individual    Automatic      0\n",
      "166           Hero Passion Pro  2016           0.45          0.550        1000    Petrol  Individual       Manual      0\n",
      "167         TVS Apache RTR 160  2014           0.42          0.810       42000    Petrol  Individual       Manual      0\n",
      "168           Honda CB Trigger  2013           0.42          0.730       12000    Petrol  Individual       Manual      0\n",
      "169       Hero Splender iSmart  2015           0.40          0.540       14000    Petrol  Individual       Manual      0\n",
      "170               Yamaha FZ S   2012           0.40          0.830        5500    Petrol  Individual       Manual      0\n",
      "171           Hero Passion Pro  2015           0.40          0.550        6700    Petrol  Individual       Manual      0\n",
      "172        Bajaj Pulsar 135 LS  2014           0.40          0.640       13700    Petrol  Individual       Manual      0\n",
      "173                  Activa 4g  2017           0.40          0.510        1300    Petrol  Individual    Automatic      0\n",
      "174           Honda CB Unicorn  2015           0.38          0.720       38600    Petrol  Individual       Manual      0\n",
      "175     Hero Honda CBZ extreme  2011           0.38          0.787       75000    Petrol  Individual       Manual      0\n",
      "176              Honda Karizma  2011           0.35          1.050       30000    Petrol  Individual       Manual      0\n",
      "177           Honda Activa 125  2016           0.35          0.570       24000    Petrol  Individual    Automatic      0\n",
      "178                TVS Jupyter  2014           0.35          0.520       19000    Petrol  Individual    Automatic      0\n",
      "179              Honda Karizma  2010           0.31          1.050      213000    Petrol  Individual       Manual      0\n",
      "180     Hero Honda Passion Pro  2012           0.30          0.510       60000    Petrol  Individual       Manual      0\n",
      "181         Hero Splender Plus  2016           0.30          0.480       50000    Petrol  Individual       Manual      0\n",
      "182             Honda CB Shine  2013           0.30          0.580       30000    Petrol  Individual       Manual      0\n",
      "183         Bajaj Discover 100  2013           0.27          0.470       21000    Petrol  Individual       Manual      0\n",
      "184           Bajaj Pulsar 150  2008           0.25          0.750       26000    Petrol  Individual       Manual      1\n",
      "185          Suzuki Access 125  2008           0.25          0.580        1900    Petrol  Individual    Automatic      0\n",
      "186                   TVS Wego  2010           0.25          0.520       22000    Petrol  Individual    Automatic      0\n",
      "187           Honda CB twister  2013           0.25          0.510       32000    Petrol  Individual       Manual      0\n",
      "188               Hero Glamour  2013           0.25          0.570       18000    Petrol  Individual       Manual      0\n",
      "189        Hero Super Splendor  2005           0.20          0.570       55000    Petrol  Individual       Manual      0\n",
      "190           Bajaj Pulsar 150  2008           0.20          0.750       60000    Petrol  Individual       Manual      0\n",
      "191         Bajaj Discover 125  2012           0.20          0.570       25000    Petrol  Individual       Manual      1\n",
      "192                  Hero Hunk  2007           0.20          0.750       49000    Petrol  Individual       Manual      1\n",
      "193         Hero  Ignitor Disc  2013           0.20          0.650       24000    Petrol  Individual       Manual      1\n",
      "194           Hero  CBZ Xtreme  2008           0.20          0.787       50000    Petrol  Individual       Manual      0\n",
      "195              Bajaj  ct 100  2015           0.18          0.320       35000    Petrol  Individual       Manual      0\n",
      "196                  Activa 3g  2008           0.17          0.520      500000    Petrol  Individual    Automatic      0\n",
      "197           Honda CB twister  2010           0.16          0.510       33000    Petrol  Individual       Manual      0\n",
      "198         Bajaj Discover 125  2011           0.15          0.570       35000    Petrol  Individual       Manual      1\n",
      "199             Honda CB Shine  2007           0.12          0.580       53000    Petrol  Individual       Manual      0\n",
      "200           Bajaj Pulsar 150  2006           0.10          0.750       92233    Petrol  Individual       Manual      0\n",
      "201                        i20  2010           3.25          6.790       58000    Diesel      Dealer       Manual      1\n",
      "202                  grand i10  2015           4.40          5.700       28200    Petrol      Dealer       Manual      0\n",
      "203                        i10  2011           2.95          4.600       53460    Petrol      Dealer       Manual      0\n",
      "204                        eon  2015           2.75          4.430       28282    Petrol      Dealer       Manual      0\n",
      "205                  grand i10  2016           5.25          5.700        3493    Petrol      Dealer       Manual      1\n",
      "206                      xcent  2017           5.75          7.130       12479    Petrol      Dealer       Manual      0\n",
      "207                  grand i10  2015           5.15          5.700       34797    Petrol      Dealer    Automatic      0\n",
      "208                        i20  2017           7.90          8.100        3435    Petrol      Dealer       Manual      0\n",
      "209                  grand i10  2015           4.85          5.700       21125    Diesel      Dealer       Manual      0\n",
      "210                        i10  2012           3.10          4.600       35775    Petrol      Dealer       Manual      0\n",
      "211                    elantra  2015          11.75         14.790       43535    Diesel      Dealer       Manual      0\n",
      "212                      creta  2016          11.25         13.600       22671    Petrol      Dealer       Manual      0\n",
      "213                        i20  2011           2.90          6.790       31604    Petrol      Dealer       Manual      0\n",
      "214                  grand i10  2017           5.25          5.700       20114    Petrol      Dealer       Manual      0\n",
      "215                      verna  2012           4.50          9.400       36100    Petrol      Dealer       Manual      0\n",
      "216                        eon  2016           2.90          4.430       12500    Petrol      Dealer       Manual      0\n",
      "217                        eon  2016           3.15          4.430       15000    Petrol      Dealer       Manual      0\n",
      "218                      verna  2014           6.45          9.400       45078    Petrol      Dealer       Manual      0\n",
      "219                      verna  2012           4.50          9.400       36000    Petrol      Dealer       Manual      0\n",
      "220                        eon  2017           3.50          4.430       38488    Petrol      Dealer       Manual      0\n",
      "221                        i20  2013           4.50          6.790       32000    Petrol      Dealer    Automatic      0\n",
      "222                        i20  2014           6.00          7.600       77632    Diesel      Dealer       Manual      0\n",
      "223                      verna  2015           8.25          9.400       61381    Diesel      Dealer       Manual      0\n",
      "224                      verna  2013           5.11          9.400       36198    Petrol      Dealer    Automatic      0\n",
      "225                        i10  2011           2.70          4.600       22517    Petrol      Dealer       Manual      0\n",
      "226                  grand i10  2015           5.25          5.700       24678    Petrol      Dealer       Manual      0\n",
      "227                        i10  2011           2.55          4.430       57000    Petrol      Dealer       Manual      0\n",
      "228                      verna  2012           4.95          9.400       60000    Diesel      Dealer       Manual      0\n",
      "229                        i20  2012           3.10          6.790       52132    Diesel      Dealer       Manual      0\n",
      "230                      verna  2013           6.15          9.400       45000    Diesel      Dealer       Manual      0\n",
      "231                      verna  2017           9.25          9.400       15001    Petrol      Dealer       Manual      0\n",
      "232                    elantra  2015          11.45         14.790       12900    Petrol      Dealer    Automatic      0\n",
      "233                  grand i10  2013           3.90          5.700       53000    Diesel      Dealer       Manual      0\n",
      "234                  grand i10  2015           5.50          5.700        4492    Petrol      Dealer       Manual      0\n",
      "235                      verna  2017           9.10          9.400       15141    Petrol      Dealer       Manual      0\n",
      "236                        eon  2016           3.10          4.430       11849    Petrol      Dealer       Manual      0\n",
      "237                      creta  2015          11.25         13.600       68000    Diesel      Dealer       Manual      0\n",
      "238                      verna  2013           4.80          9.400       60241    Petrol      Dealer       Manual      0\n",
      "239                        eon  2012           2.00          4.430       23709    Petrol      Dealer       Manual      0\n",
      "240                      verna  2012           5.35          9.400       32322    Diesel      Dealer       Manual      0\n",
      "241                      xcent  2015           4.75          7.130       35866    Petrol      Dealer       Manual      1\n",
      "242                      xcent  2014           4.40          7.130       34000    Petrol      Dealer       Manual      0\n",
      "243                        i20  2016           6.25          7.600        7000    Petrol      Dealer       Manual      0\n",
      "244                      verna  2013           5.95          9.400       49000    Diesel      Dealer       Manual      0\n",
      "245                      verna  2012           5.20          9.400       71000    Diesel      Dealer       Manual      0\n",
      "246                        i20  2012           3.75          6.790       35000    Petrol      Dealer       Manual      0\n",
      "247                      verna  2015           5.95          9.400       36000    Petrol      Dealer       Manual      0\n",
      "248                        i10  2013           4.00          4.600       30000    Petrol      Dealer       Manual      0\n",
      "249                        i20  2016           5.25          7.600       17000    Petrol      Dealer       Manual      0\n",
      "250                      creta  2016          12.90         13.600       35934    Diesel      Dealer       Manual      0\n",
      "251                       city  2013           5.00          9.900       56701    Petrol      Dealer       Manual      0\n",
      "252                       brio  2015           5.40          6.820       31427    Petrol      Dealer    Automatic      0\n",
      "253                       city  2014           7.20          9.900       48000    Diesel      Dealer       Manual      0\n",
      "254                       city  2013           5.25          9.900       54242    Petrol      Dealer       Manual      0\n",
      "255                       brio  2012           3.00          5.350       53675    Petrol      Dealer       Manual      0\n",
      "256                       city  2016          10.25         13.600       49562    Petrol      Dealer       Manual      0\n",
      "257                       city  2015           8.50         13.600       40324    Petrol      Dealer       Manual      0\n",
      "258                       city  2015           8.40         13.600       25000    Petrol      Dealer       Manual      0\n",
      "259                      amaze  2014           3.90          7.000       36054    Petrol      Dealer       Manual      0\n",
      "260                       city  2016           9.15         13.600       29223    Petrol      Dealer       Manual      0\n",
      "261                       brio  2016           5.50          5.970        5600    Petrol      Dealer       Manual      0\n",
      "262                      amaze  2015           4.00          5.800       40023    Petrol      Dealer       Manual      0\n",
      "263                       jazz  2016           6.60          7.700       16002    Petrol      Dealer       Manual      0\n",
      "264                      amaze  2015           4.00          7.000       40026    Petrol      Dealer       Manual      0\n",
      "265                       jazz  2017           6.50          8.700       21200    Petrol      Dealer       Manual      0\n",
      "266                      amaze  2014           3.65          7.000       35000    Petrol      Dealer       Manual      0\n",
      "267                       city  2016           8.35          9.400       19434    Diesel      Dealer       Manual      0\n",
      "268                       brio  2017           4.80          5.800       19000    Petrol      Dealer       Manual      0\n",
      "269                       city  2015           6.70         10.000       18828    Petrol      Dealer       Manual      0\n",
      "270                       city  2011           4.10         10.000       69341    Petrol      Dealer       Manual      0\n",
      "271                       city  2009           3.00         10.000       69562    Petrol      Dealer       Manual      0\n",
      "272                       city  2015           7.50         10.000       27600    Petrol      Dealer       Manual      0\n",
      "273                       jazz  2010           2.25          7.500       61203    Petrol      Dealer       Manual      0\n",
      "274                       brio  2014           5.30          6.800       16500    Petrol      Dealer       Manual      0\n",
      "275                       city  2016          10.90         13.600       30753    Petrol      Dealer    Automatic      0\n",
      "276                       city  2015           8.65         13.600       24800    Petrol      Dealer       Manual      0\n",
      "277                       city  2015           9.70         13.600       21780    Petrol      Dealer       Manual      0\n",
      "278                       jazz  2016           6.00          8.400        4000    Petrol      Dealer       Manual      0\n",
      "279                       city  2014           6.25         13.600       40126    Petrol      Dealer       Manual      0\n",
      "280                       brio  2015           5.25          5.900       14465    Petrol      Dealer       Manual      0\n",
      "281                       city  2006           2.10          7.600       50456    Petrol      Dealer       Manual      0\n",
      "282                       city  2014           8.25         14.000       63000    Diesel      Dealer       Manual      0\n",
      "283                       city  2016           8.99         11.800        9010    Petrol      Dealer       Manual      0\n",
      "284                       brio  2013           3.50          5.900        9800    Petrol      Dealer       Manual      0\n",
      "285                       jazz  2016           7.40          8.500       15059    Petrol      Dealer    Automatic      0\n",
      "286                       jazz  2016           5.65          7.900       28569    Petrol      Dealer       Manual      0\n",
      "287                      amaze  2015           5.75          7.500       44000    Petrol      Dealer    Automatic      0\n",
      "288                       city  2015           8.40         13.600       34000    Petrol      Dealer       Manual      0\n",
      "289                       city  2016          10.11         13.600       10980    Petrol      Dealer       Manual      0\n",
      "290                      amaze  2014           4.50          6.400       19000    Petrol      Dealer       Manual      0\n",
      "291                       brio  2015           5.40          6.100       31427    Petrol      Dealer       Manual      0\n",
      "292                       jazz  2016           6.40          8.400       12000    Petrol      Dealer       Manual      0\n",
      "293                       city  2010           3.25          9.900       38000    Petrol      Dealer       Manual      0\n",
      "294                      amaze  2014           3.75          6.800       33019    Petrol      Dealer       Manual      0\n",
      "295                       city  2015           8.55         13.090       60076    Diesel      Dealer       Manual      0\n",
      "296                       city  2016           9.50         11.600       33988    Diesel      Dealer       Manual      0\n",
      "297                       brio  2015           4.00          5.900       60000    Petrol      Dealer       Manual      0\n",
      "298                       city  2009           3.35         11.000       87934    Petrol      Dealer       Manual      0\n",
      "299                       city  2017          11.50         12.500        9000    Diesel      Dealer       Manual      0\n",
      "300                       brio  2016           5.30          5.900        5464    Petrol      Dealer       Manual      0\n"
     ]
    }
   ],
   "source": [
    "df = pd.read_csv('car_dekho.csv')\n",
    "print(df.to_string())"
   ]
  },
  {
   "cell_type": "code",
   "execution_count": 5,
   "id": "d32daeb2-974e-4ed9-9b19-338dd4f36f39",
   "metadata": {
    "scrolled": true
   },
   "outputs": [
    {
     "name": "stdout",
     "output_type": "stream",
     "text": [
      "<class 'pandas.core.frame.DataFrame'>\n",
      "RangeIndex: 301 entries, 0 to 300\n",
      "Data columns (total 9 columns):\n",
      " #   Column         Non-Null Count  Dtype  \n",
      "---  ------         --------------  -----  \n",
      " 0   Car_Name       301 non-null    object \n",
      " 1   Year           301 non-null    int64  \n",
      " 2   Selling_Price  301 non-null    float64\n",
      " 3   Present_Price  301 non-null    float64\n",
      " 4   Kms_Driven     301 non-null    int64  \n",
      " 5   Fuel_Type      301 non-null    object \n",
      " 6   Seller_Type    301 non-null    object \n",
      " 7   Transmission   301 non-null    object \n",
      " 8   Owner          301 non-null    int64  \n",
      "dtypes: float64(2), int64(3), object(4)\n",
      "memory usage: 21.3+ KB\n"
     ]
    }
   ],
   "source": [
    "df.info()"
   ]
  },
  {
   "cell_type": "code",
   "execution_count": 8,
   "id": "677df17b-1dfb-4360-8de5-5c0dd109c38c",
   "metadata": {
    "scrolled": true
   },
   "outputs": [
    {
     "data": {
      "text/html": [
       "<div>\n",
       "<style scoped>\n",
       "    .dataframe tbody tr th:only-of-type {\n",
       "        vertical-align: middle;\n",
       "    }\n",
       "\n",
       "    .dataframe tbody tr th {\n",
       "        vertical-align: top;\n",
       "    }\n",
       "\n",
       "    .dataframe thead th {\n",
       "        text-align: right;\n",
       "    }\n",
       "</style>\n",
       "<table border=\"1\" class=\"dataframe\">\n",
       "  <thead>\n",
       "    <tr style=\"text-align: right;\">\n",
       "      <th></th>\n",
       "      <th>Year</th>\n",
       "      <th>Selling_Price</th>\n",
       "      <th>Present_Price</th>\n",
       "      <th>Kms_Driven</th>\n",
       "      <th>Owner</th>\n",
       "    </tr>\n",
       "  </thead>\n",
       "  <tbody>\n",
       "    <tr>\n",
       "      <th>count</th>\n",
       "      <td>301.000000</td>\n",
       "      <td>301.000000</td>\n",
       "      <td>301.000000</td>\n",
       "      <td>301.000000</td>\n",
       "      <td>301.000000</td>\n",
       "    </tr>\n",
       "    <tr>\n",
       "      <th>mean</th>\n",
       "      <td>2013.627907</td>\n",
       "      <td>4.661296</td>\n",
       "      <td>7.628472</td>\n",
       "      <td>36947.205980</td>\n",
       "      <td>0.043189</td>\n",
       "    </tr>\n",
       "    <tr>\n",
       "      <th>std</th>\n",
       "      <td>2.891554</td>\n",
       "      <td>5.082812</td>\n",
       "      <td>8.644115</td>\n",
       "      <td>38886.883882</td>\n",
       "      <td>0.247915</td>\n",
       "    </tr>\n",
       "    <tr>\n",
       "      <th>min</th>\n",
       "      <td>2003.000000</td>\n",
       "      <td>0.100000</td>\n",
       "      <td>0.320000</td>\n",
       "      <td>500.000000</td>\n",
       "      <td>0.000000</td>\n",
       "    </tr>\n",
       "    <tr>\n",
       "      <th>25%</th>\n",
       "      <td>2012.000000</td>\n",
       "      <td>0.900000</td>\n",
       "      <td>1.200000</td>\n",
       "      <td>15000.000000</td>\n",
       "      <td>0.000000</td>\n",
       "    </tr>\n",
       "    <tr>\n",
       "      <th>50%</th>\n",
       "      <td>2014.000000</td>\n",
       "      <td>3.600000</td>\n",
       "      <td>6.400000</td>\n",
       "      <td>32000.000000</td>\n",
       "      <td>0.000000</td>\n",
       "    </tr>\n",
       "    <tr>\n",
       "      <th>75%</th>\n",
       "      <td>2016.000000</td>\n",
       "      <td>6.000000</td>\n",
       "      <td>9.900000</td>\n",
       "      <td>48767.000000</td>\n",
       "      <td>0.000000</td>\n",
       "    </tr>\n",
       "    <tr>\n",
       "      <th>max</th>\n",
       "      <td>2018.000000</td>\n",
       "      <td>35.000000</td>\n",
       "      <td>92.600000</td>\n",
       "      <td>500000.000000</td>\n",
       "      <td>3.000000</td>\n",
       "    </tr>\n",
       "  </tbody>\n",
       "</table>\n",
       "</div>"
      ],
      "text/plain": [
       "              Year  Selling_Price  Present_Price     Kms_Driven       Owner\n",
       "count   301.000000     301.000000     301.000000     301.000000  301.000000\n",
       "mean   2013.627907       4.661296       7.628472   36947.205980    0.043189\n",
       "std       2.891554       5.082812       8.644115   38886.883882    0.247915\n",
       "min    2003.000000       0.100000       0.320000     500.000000    0.000000\n",
       "25%    2012.000000       0.900000       1.200000   15000.000000    0.000000\n",
       "50%    2014.000000       3.600000       6.400000   32000.000000    0.000000\n",
       "75%    2016.000000       6.000000       9.900000   48767.000000    0.000000\n",
       "max    2018.000000      35.000000      92.600000  500000.000000    3.000000"
      ]
     },
     "execution_count": 8,
     "metadata": {},
     "output_type": "execute_result"
    }
   ],
   "source": [
    "df.describe() #static information that mezns only nuerical value"
   ]
  },
  {
   "cell_type": "code",
   "execution_count": 9,
   "id": "aa0cba58-dd0a-4af9-98f6-ec90d4ccd26c",
   "metadata": {
    "scrolled": true
   },
   "outputs": [
    {
     "data": {
      "text/html": [
       "<div>\n",
       "<style scoped>\n",
       "    .dataframe tbody tr th:only-of-type {\n",
       "        vertical-align: middle;\n",
       "    }\n",
       "\n",
       "    .dataframe tbody tr th {\n",
       "        vertical-align: top;\n",
       "    }\n",
       "\n",
       "    .dataframe thead th {\n",
       "        text-align: right;\n",
       "    }\n",
       "</style>\n",
       "<table border=\"1\" class=\"dataframe\">\n",
       "  <thead>\n",
       "    <tr style=\"text-align: right;\">\n",
       "      <th></th>\n",
       "      <th>Car_Name</th>\n",
       "      <th>Year</th>\n",
       "      <th>Selling_Price</th>\n",
       "      <th>Present_Price</th>\n",
       "      <th>Kms_Driven</th>\n",
       "      <th>Fuel_Type</th>\n",
       "      <th>Seller_Type</th>\n",
       "      <th>Transmission</th>\n",
       "      <th>Owner</th>\n",
       "    </tr>\n",
       "  </thead>\n",
       "  <tbody>\n",
       "    <tr>\n",
       "      <th>0</th>\n",
       "      <td>False</td>\n",
       "      <td>False</td>\n",
       "      <td>False</td>\n",
       "      <td>False</td>\n",
       "      <td>False</td>\n",
       "      <td>False</td>\n",
       "      <td>False</td>\n",
       "      <td>False</td>\n",
       "      <td>False</td>\n",
       "    </tr>\n",
       "    <tr>\n",
       "      <th>1</th>\n",
       "      <td>False</td>\n",
       "      <td>False</td>\n",
       "      <td>False</td>\n",
       "      <td>False</td>\n",
       "      <td>False</td>\n",
       "      <td>False</td>\n",
       "      <td>False</td>\n",
       "      <td>False</td>\n",
       "      <td>False</td>\n",
       "    </tr>\n",
       "    <tr>\n",
       "      <th>2</th>\n",
       "      <td>False</td>\n",
       "      <td>False</td>\n",
       "      <td>False</td>\n",
       "      <td>False</td>\n",
       "      <td>False</td>\n",
       "      <td>False</td>\n",
       "      <td>False</td>\n",
       "      <td>False</td>\n",
       "      <td>False</td>\n",
       "    </tr>\n",
       "    <tr>\n",
       "      <th>3</th>\n",
       "      <td>False</td>\n",
       "      <td>False</td>\n",
       "      <td>False</td>\n",
       "      <td>False</td>\n",
       "      <td>False</td>\n",
       "      <td>False</td>\n",
       "      <td>False</td>\n",
       "      <td>False</td>\n",
       "      <td>False</td>\n",
       "    </tr>\n",
       "    <tr>\n",
       "      <th>4</th>\n",
       "      <td>False</td>\n",
       "      <td>False</td>\n",
       "      <td>False</td>\n",
       "      <td>False</td>\n",
       "      <td>False</td>\n",
       "      <td>False</td>\n",
       "      <td>False</td>\n",
       "      <td>False</td>\n",
       "      <td>False</td>\n",
       "    </tr>\n",
       "    <tr>\n",
       "      <th>...</th>\n",
       "      <td>...</td>\n",
       "      <td>...</td>\n",
       "      <td>...</td>\n",
       "      <td>...</td>\n",
       "      <td>...</td>\n",
       "      <td>...</td>\n",
       "      <td>...</td>\n",
       "      <td>...</td>\n",
       "      <td>...</td>\n",
       "    </tr>\n",
       "    <tr>\n",
       "      <th>296</th>\n",
       "      <td>False</td>\n",
       "      <td>False</td>\n",
       "      <td>False</td>\n",
       "      <td>False</td>\n",
       "      <td>False</td>\n",
       "      <td>False</td>\n",
       "      <td>False</td>\n",
       "      <td>False</td>\n",
       "      <td>False</td>\n",
       "    </tr>\n",
       "    <tr>\n",
       "      <th>297</th>\n",
       "      <td>False</td>\n",
       "      <td>False</td>\n",
       "      <td>False</td>\n",
       "      <td>False</td>\n",
       "      <td>False</td>\n",
       "      <td>False</td>\n",
       "      <td>False</td>\n",
       "      <td>False</td>\n",
       "      <td>False</td>\n",
       "    </tr>\n",
       "    <tr>\n",
       "      <th>298</th>\n",
       "      <td>False</td>\n",
       "      <td>False</td>\n",
       "      <td>False</td>\n",
       "      <td>False</td>\n",
       "      <td>False</td>\n",
       "      <td>False</td>\n",
       "      <td>False</td>\n",
       "      <td>False</td>\n",
       "      <td>False</td>\n",
       "    </tr>\n",
       "    <tr>\n",
       "      <th>299</th>\n",
       "      <td>False</td>\n",
       "      <td>False</td>\n",
       "      <td>False</td>\n",
       "      <td>False</td>\n",
       "      <td>False</td>\n",
       "      <td>False</td>\n",
       "      <td>False</td>\n",
       "      <td>False</td>\n",
       "      <td>False</td>\n",
       "    </tr>\n",
       "    <tr>\n",
       "      <th>300</th>\n",
       "      <td>False</td>\n",
       "      <td>False</td>\n",
       "      <td>False</td>\n",
       "      <td>False</td>\n",
       "      <td>False</td>\n",
       "      <td>False</td>\n",
       "      <td>False</td>\n",
       "      <td>False</td>\n",
       "      <td>False</td>\n",
       "    </tr>\n",
       "  </tbody>\n",
       "</table>\n",
       "<p>301 rows × 9 columns</p>\n",
       "</div>"
      ],
      "text/plain": [
       "     Car_Name   Year  Selling_Price  Present_Price  Kms_Driven  Fuel_Type  \\\n",
       "0       False  False          False          False       False      False   \n",
       "1       False  False          False          False       False      False   \n",
       "2       False  False          False          False       False      False   \n",
       "3       False  False          False          False       False      False   \n",
       "4       False  False          False          False       False      False   \n",
       "..        ...    ...            ...            ...         ...        ...   \n",
       "296     False  False          False          False       False      False   \n",
       "297     False  False          False          False       False      False   \n",
       "298     False  False          False          False       False      False   \n",
       "299     False  False          False          False       False      False   \n",
       "300     False  False          False          False       False      False   \n",
       "\n",
       "     Seller_Type  Transmission  Owner  \n",
       "0          False         False  False  \n",
       "1          False         False  False  \n",
       "2          False         False  False  \n",
       "3          False         False  False  \n",
       "4          False         False  False  \n",
       "..           ...           ...    ...  \n",
       "296        False         False  False  \n",
       "297        False         False  False  \n",
       "298        False         False  False  \n",
       "299        False         False  False  \n",
       "300        False         False  False  \n",
       "\n",
       "[301 rows x 9 columns]"
      ]
     },
     "execution_count": 9,
     "metadata": {},
     "output_type": "execute_result"
    }
   ],
   "source": [
    "#check whether null value is present or not\n",
    "df.isnull()"
   ]
  },
  {
   "cell_type": "code",
   "execution_count": 11,
   "id": "8deb4a51-1d23-47af-be32-ee07d1522500",
   "metadata": {},
   "outputs": [
    {
     "data": {
      "text/plain": [
       "Fuel_Type\n",
       "Petrol    239\n",
       "Diesel     60\n",
       "CNG         2\n",
       "Name: count, dtype: int64"
      ]
     },
     "execution_count": 11,
     "metadata": {},
     "output_type": "execute_result"
    }
   ],
   "source": [
    "#check count of fuel type that means how many car are theier of petrol, diesol or cng\n",
    "df['Fuel_Type'].value_counts()"
   ]
  },
  {
   "cell_type": "code",
   "execution_count": 32,
   "id": "05170c97-3dbe-4356-9053-0b3eed943fe1",
   "metadata": {},
   "outputs": [
    {
     "data": {
      "image/png": "[encoded data removed]",
      "text/plain": [
       "<Figure size 640x480 with 1 Axes>"
      ]
     },
     "metadata": {},
     "output_type": "display_data"
    }
   ],
   "source": [
    "f = df['Fuel_Type'].value_counts()\n",
    "color = ['green','orange','red']\n",
    "f.plot(kind='bar', color = color)\n",
    "plt.title(\"Fuel Distribution...\")\n",
    "plt.ylabel(\"Car Count\")\n",
    "plt.grid()\n",
    "plt.show()\n"
   ]
  },
  {
   "cell_type": "code",
   "execution_count": 33,
   "id": "b22119ea-f1c6-4973-8afd-8cf19bc8231a",
   "metadata": {
    "scrolled": true
   },
   "outputs": [
    {
     "data": {
      "image/png": "[encoded data removed]",
      "text/plain": [
       "<Figure size 640x480 with 1 Axes>"
      ]
     },
     "metadata": {},
     "output_type": "display_data"
    },
    {
     "name": "stdout",
     "output_type": "stream",
     "text": [
      "\n"
     ]
    }
   ],
   "source": [
    "f = df['Fuel_Type'].value_counts()\n",
    "f.plot(kind='pie')\n",
    "plt.show()\n",
    "print()\n"
   ]
  },
  {
   "cell_type": "code",
   "execution_count": 38,
   "id": "ce16c577-e728-48a8-b9c3-ee7e6a95e04e",
   "metadata": {},
   "outputs": [
    {
     "data": {
      "text/plain": [
       "Transmission\n",
       "Manual       261\n",
       "Automatic     40\n",
       "Name: count, dtype: int64"
      ]
     },
     "execution_count": 38,
     "metadata": {},
     "output_type": "execute_result"
    }
   ],
   "source": [
    "#check count of transmission i.e how many are manual or automatic\n",
    "df['Transmission'].value_counts()"
   ]
  },
  {
   "cell_type": "code",
   "execution_count": 40,
   "id": "91905a4f-7688-4ec0-852d-1bbaeea097ea",
   "metadata": {
    "scrolled": true
   },
   "outputs": [
    {
     "data": {
      "image/png": "[encoded data removed]",
      "text/plain": [
       "<Figure size 640x480 with 1 Axes>"
      ]
     },
     "metadata": {},
     "output_type": "display_data"
    }
   ],
   "source": [
    "T = df['Transmission'].value_counts()\n",
    "color = ['green','red']\n",
    "T.plot(kind='bar', color = color)\n",
    "plt.title(\"Car Type...\")\n",
    "plt.ylabel(\"Car Count\")\n",
    "plt.show()"
   ]
  },
  {
   "cell_type": "code",
   "execution_count": 44,
   "id": "41bf826a-ab5a-4087-a832-0ba8f2cd4e14",
   "metadata": {
    "scrolled": true
   },
   "outputs": [
    {
     "data": {
      "image/png": "[encoded data removed]",
      "text/plain": [
       "<Figure size 640x480 with 1 Axes>"
      ]
     },
     "metadata": {},
     "output_type": "display_data"
    }
   ],
   "source": [
    "T = df['Transmission'].value_counts()\n",
    "color = ['green','red']\n",
    "T.plot(kind='pie', colors = color)\n",
    "plt.title(\"Car Type...\")\n",
    "plt.ylabel(\"Car Count\")\n",
    "plt.show()"
   ]
  },
  {
   "cell_type": "code",
   "execution_count": 50,
   "id": "1bf13040-e407-4423-9034-fa0657c5bd72",
   "metadata": {
    "scrolled": true
   },
   "outputs": [
    {
     "data": {
      "text/plain": [
       "Year\n",
       "2015    61\n",
       "2016    50\n",
       "2014    38\n",
       "2017    35\n",
       "2013    33\n",
       "2012    23\n",
       "2011    19\n",
       "2010    15\n",
       "2008     7\n",
       "2009     6\n",
       "2005     4\n",
       "2006     4\n",
       "2007     2\n",
       "2003     2\n",
       "2018     1\n",
       "2004     1\n",
       "Name: count, dtype: int64"
      ]
     },
     "execution_count": 50,
     "metadata": {},
     "output_type": "execute_result"
    }
   ],
   "source": [
    "#check count of Year of selling in which year how mych car was sold\n",
    "df['Year'].value_counts()"
   ]
  },
  {
   "cell_type": "code",
   "execution_count": 53,
   "id": "cb08af8a-0d48-4a3a-86a4-f2f4f91653d5",
   "metadata": {
    "scrolled": true
   },
   "outputs": [
    {
     "data": {
      "image/png": "[encoded data removed]",
      "text/plain": [
       "<Figure size 640x480 with 1 Axes>"
      ]
     },
     "metadata": {},
     "output_type": "display_data"
    }
   ],
   "source": [
    "C = df['Year'].value_counts()\n",
    "colors = ('green','red','blue','gray','green','red','blue','gray','green','red','blue','gray')\n",
    "\n",
    "C.plot(kind = 'bar' ,color = colors)\n",
    "plt.title('Car selling in each year')\n",
    "plt.ylabel('No of cars sold')\n",
    "plt.show()"
   ]
  },
  {
   "cell_type": "code",
   "execution_count": 54,
   "id": "bbddba12-8a52-4a19-b2e6-471cf7f438b2",
   "metadata": {
    "scrolled": true
   },
   "outputs": [
    {
     "data": {
      "image/png": "[encoded data removed]",
      "text/plain": [
       "<Figure size 640x480 with 1 Axes>"
      ]
     },
     "metadata": {},
     "output_type": "display_data"
    }
   ],
   "source": [
    "C = df['Year'].value_counts()\n",
    "C.plot(kind = 'pie')\n",
    "plt.title('Car selling in each year')\n",
    "plt.ylabel('No of cars sold')\n",
    "plt.show()"
   ]
  },
  {
   "cell_type": "code",
   "execution_count": 58,
   "id": "91ec9c5c-d101-4a69-abb7-51c6712a45b0",
   "metadata": {},
   "outputs": [
    {
     "data": {
      "text/plain": [
       "Present_Price\n",
       "9.40     15\n",
       "13.60    13\n",
       "5.70      8\n",
       "1.47      7\n",
       "4.43      7\n",
       "         ..\n",
       "6.10      1\n",
       "13.09     1\n",
       "11.60     1\n",
       "11.00     1\n",
       "12.50     1\n",
       "Name: count, Length: 147, dtype: int64"
      ]
     },
     "execution_count": 58,
     "metadata": {},
     "output_type": "execute_result"
    }
   ],
   "source": [
    "# df['Selling_Price'].value_counts()\n",
    "df['Present_Price'].value_counts()"
   ]
  },
  {
   "cell_type": "code",
   "execution_count": 59,
   "id": "a02e6d3e-05dc-4f3a-8afb-53d86f7449b1",
   "metadata": {},
   "outputs": [
    {
     "data": {
      "text/plain": [
       "Seller_Type\n",
       "Dealer        195\n",
       "Individual    106\n",
       "Name: count, dtype: int64"
      ]
     },
     "execution_count": 59,
     "metadata": {},
     "output_type": "execute_result"
    }
   ],
   "source": [
    "df['Seller_Type'].value_counts()"
   ]
  },
  {
   "cell_type": "code",
   "execution_count": 66,
   "id": "92ec5c08-b81d-4c19-8f53-2bdfac6b5978",
   "metadata": {
    "scrolled": true
   },
   "outputs": [
    {
     "data": {
      "image/png": "[encoded data removed]",
      "text/plain": [
       "<Figure size 640x480 with 1 Axes>"
      ]
     },
     "metadata": {},
     "output_type": "display_data"
    }
   ],
   "source": [
    "C = df['Seller_Type'].value_counts()\n",
    "colors = ('blue','red')\n",
    "C.plot(kind = 'bar' ,color = colors)\n",
    "plt.title('Car sold to...')\n",
    "plt.ylabel('No of cars sold')\n",
    "plt.grid(axis='y')\n",
    "plt.show()"
   ]
  },
  {
   "cell_type": "markdown",
   "id": "37e139cd-60c3-4f88-874f-a3c90001df0a",
   "metadata": {},
   "source": [
    "Insights from DataFrame (car_dekho.csv)\n",
    "\n",
    "Total Entries → 301 rows\n",
    "Total Columns → 9 columns.\n",
    "Data Types:\n",
    "Integer (int64) → Year, Kms_Driven, Owner.\n",
    "Float (float64) → Selling_Price, Present_Price.\n",
    "Object (str) → Car_Name, Fuel_Type, Seller_Type, Transmission.\n",
    "No Missing Values → All columns have 301 non-null values.\n",
    "\n",
    "Operations we performed are:\n",
    "Insights from Operations Performed on car_dekho.csv\n",
    "•\tFuel Type Distribution (value_counts() + Pie Chart/Bar Chart)\n",
    "o\tDisplays the proportion of fuel types (Petrol, Diesel, etc.) in a pie chart.\n",
    "o\tHelps visualize the dominance of a petrol fuel type.\n",
    "•\tTransmission Type Analysis (value_counts() + Bar Chart)\n",
    "o\tShows the count of manual vs. automatic cars.\n",
    "o\tGreen represents manual, Red automatic.\n",
    "o\tHelps understand the market trend for transmission preferences.\n",
    "•\tYear-wise Car Sales (value_counts() + Bar Chart)\n",
    "o\tDisplays the number of cars sold each year in a bar chart.\n",
    "o\tDifferent colors used for different years.\n",
    "o\tHelps track sales trends and peak-selling years.\n",
    "•\tSeller Type Analysis (value_counts() + Bar Chart + Grid)\n",
    "o\tAnalyzes whether cars were sold by individual sellers or dealers.\n",
    "o\tBlue and Red represent  dealer and individual resp.\n",
    "o\tGrid on Y-axis improves readability of car count.\n",
    "\n",
    "\n"
   ]
  }
 ],
 "metadata": {
  "kernelspec": {
   "display_name": "Python 3 (ipykernel)",
   "language": "python",
   "name": "python3"
  },
  "language_info": {
   "codemirror_mode": {
    "name": "ipython",
    "version": 3
   },
   "file_extension": ".py",
   "mimetype": "text/x-python",
   "name": "python",
   "nbconvert_exporter": "python",
   "pygments_lexer": "ipython3",
   "version": "3.13.2"
  }
 },
 "nbformat": 4,
 "nbformat_minor": 5
}
