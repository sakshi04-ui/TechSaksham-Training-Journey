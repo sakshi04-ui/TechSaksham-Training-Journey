{
 "cells": [
  {
   "cell_type": "code",
   "execution_count": 2,
   "id": "8736babd-f5fb-4749-91b0-76b7fbdcacbb",
   "metadata": {},
   "outputs": [
    {
     "name": "stdout",
     "output_type": "stream",
     "text": [
      "140731926002104\n",
      "140731926002104\n"
     ]
    }
   ],
   "source": [
    "a = 1\n",
    "print(id(a))\n",
    "b=1\n",
    "print(id(b))"
   ]
  },
  {
   "cell_type": "code",
   "execution_count": 7,
   "id": "e83f8deb-5158-4765-8327-8bd9de55bcd7",
   "metadata": {},
   "outputs": [
    {
     "name": "stdout",
     "output_type": "stream",
     "text": [
      "***"
     ]
    }
   ],
   "source": [
    "#how to print on same line\n",
    "print(\"*\",end=\"\")\n",
    "print(\"*\",end=\"\")\n",
    "print(\"*\",end=\"\")\n"
   ]
  },
  {
   "cell_type": "code",
   "execution_count": 8,
   "id": "cca3c93a-7ff4-4608-85c9-bd9b3789711b",
   "metadata": {},
   "outputs": [
    {
     "name": "stdout",
     "output_type": "stream",
     "text": [
      "****************************************************************************************************\n"
     ]
    }
   ],
   "source": [
    "print(100*\"*\")"
   ]
  },
  {
   "cell_type": "code",
   "execution_count": 9,
   "id": "10df658d-1bee-4888-a79a-4acc1448fe71",
   "metadata": {},
   "outputs": [
    {
     "name": "stdout",
     "output_type": "stream",
     "text": [
      "* * * * * * * * * * * * * * * * * * * * * * * * * * * * * * * * * * * * * * * * * * * * * * * * * * * * * * * * * * * * * * * * * * * * * * * * * * * * * * * * * * * * * * * * * * * * * * * * * * * * * * * * * * * * * * * * * * * * * * * * * * * * * * * * * * * * * * * * * * * * * * * * * * * * * * * * * * * * * * * * * * * * * * * * * * * * * * * * * * * * * * * * * * * * * * * * * * * * * * * * * * * * * * * * * * * * * * * * * * * * * * * * * * * * * * * * * * * * * * * * * * * * * * * * * * * * * * * * * * * * * * * * * * * * * * * * * * * * * * * * * * * * * * * * * * * * * * * * * * * * * * * * * * * * * * * * * * * * * * * * * * * * * * * * * * * * * * * * * * * * * * * * * * * * * * * * * * * * * * * * * * * * * * * * * * * * * * * * * * * * * * * * * * * * * * * * * * * * * * * * * * * * * * * * * * * * * * * * * * * * * * * * * * * * * * * * * * * * * * * * * * * * * * * * * * * * * * * * * * * * * * * * * * * * * * * * * * * * * * * * * * * * * * * * * * * * * * * * * * * * * * * * * * * * * * * * * * * * * * * * * * * * * * * * * * * * * * * * * * * * * * * * * * * * * * * * * * * * * * * * * * * * * * * * * * * * * * * * * * * * * * * * * * * * * * * * * * * * * * * * * * * * * * * * * * * * * * * * * * * * * * * * * * * * * * * * * * * * * * * * * * * * * * * * * * * * * * * * * * * * * * * * * * * * * * * * * * * * * * * * * * * * * * * * * * * * * * * * * * * * * * * * * * * * * * * * * * * * * * * * * * * * * * * * * * * * * * * * * * * * * * * * * * * * * * * * * * * * * * * * * * * * * * * * * * * * * * * * * * * * * * * * * * * * * * * * * * * * * * * * * * * * * * * * * * * * * * * * * * * * * * * * * * * * * * * * * * * * * * * * * * * * * * * * * * * * * * * * * * * * * * * * * * * * * * * * * * * * * * * * * * * * * * * * * * * * * * * * * * * * * * * * * * * * * * * * * * * * * * * * * * * * * * * * * * * * * * * * * * * * * * * * * * * * * * * * * * * * * * * * * * * * * * * * * * * * * * * * * * * * * * * * * * * * * * * * * * * * * * * * \n"
     ]
    }
   ],
   "source": [
    "print(1000*\"* \")"
   ]
  },
  {
   "cell_type": "code",
   "execution_count": 11,
   "id": "e6811b00-8401-4261-940b-55de771240d4",
   "metadata": {},
   "outputs": [
    {
     "name": "stdout",
     "output_type": "stream",
     "text": [
      "My name is  Sakshi My age is: 18\n"
     ]
    }
   ],
   "source": [
    "name = \"Sakshi\"\n",
    "age = 18\n",
    "print(\"My name is \",name,\"My age is:\",age)"
   ]
  },
  {
   "cell_type": "code",
   "execution_count": 12,
   "id": "052e6b4c-fc16-4b89-9a87-0076cfe2ce58",
   "metadata": {},
   "outputs": [
    {
     "name": "stdout",
     "output_type": "stream",
     "text": [
      "My name is Sakshi and I live in Chalisgaon\n"
     ]
    }
   ],
   "source": [
    "#Learning about String formatting Method \n",
    "name = \"Sakshi\"\n",
    "city = \"Chalisgaon\"\n",
    "print(\"My name is {} and I live in {}\".format(name,city))"
   ]
  },
  {
   "cell_type": "code",
   "execution_count": 24,
   "id": "75ac8404-215b-48c8-96f7-b04de567620e",
   "metadata": {},
   "outputs": [
    {
     "name": "stdout",
     "output_type": "stream",
     "text": [
      "My name is Sakshi I live in Chalisgaon and my age is 18, My semester marks are 88.000\n"
     ]
    }
   ],
   "source": [
    "#Another method to print the variable_val in stmt\n",
    "name = \"Sakshi\"\n",
    "age = 18\n",
    "city = \"Chalisgaon\"\n",
    "marks = 88.00\n",
    "print(\"My name is %s I live in %s and my age is %d, My semester marks are %.3f\" %(name,city,age,marks))"
   ]
  },
  {
   "cell_type": "code",
   "execution_count": 29,
   "id": "1620f6d8-bd33-4bbb-aa5d-576b6bbaffe1",
   "metadata": {},
   "outputs": [
    {
     "name": "stdout",
     "output_type": "stream",
     "text": [
      "My name is Sakshi and I live in Chalisgaon\n"
     ]
    }
   ],
   "source": [
    "#f-string method to print variavle and this is widely used we can use it for number,float too\n",
    "name = \"Sakshi\"\n",
    "city = \"Chalisgaon\"\n",
    "age = 18\n",
    "print(f\"My name is {name} and I live in {city}\")"
   ]
  },
  {
   "cell_type": "code",
   "execution_count": 32,
   "id": "76944386-2d9c-4dbb-a908-0eeb3e818d58",
   "metadata": {},
   "outputs": [
    {
     "name": "stdout",
     "output_type": "stream",
     "text": [
      "ihskaS si eman yM\n"
     ]
    }
   ],
   "source": [
    "#How to reverse a string\n",
    "data = \"My name is Sakshi\"\n",
    "reverse = data[::-1]\n",
    "print(reverse)"
   ]
  },
  {
   "cell_type": "code",
   "execution_count": 44,
   "id": "1370e3bb-39ec-49ad-bf7c-160b1ea3f285",
   "metadata": {},
   "outputs": [
    {
     "name": "stdout",
     "output_type": "stream",
     "text": [
      "name\n",
      "name\n"
     ]
    }
   ],
   "source": [
    "#How to print name word from the string using positive and negativeslicing\n",
    "data = \"My name is something\"\n",
    "print(data[3:7:1])\n",
    "print(data[-17:-13:1])"
   ]
  },
  {
   "cell_type": "code",
   "execution_count": 45,
   "id": "647b5f59-9aa6-47c5-8c33-05fbfe5eb851",
   "metadata": {},
   "outputs": [
    {
     "name": "stdout",
     "output_type": "stream",
     "text": [
      "something\n"
     ]
    }
   ],
   "source": [
    "#Converts string in lower case\n",
    "name = \"SOMETHING\"\n",
    "print(name.lower())"
   ]
  },
  {
   "cell_type": "code",
   "execution_count": 46,
   "id": "117dbef3-c8af-4796-a009-565363272337",
   "metadata": {},
   "outputs": [
    {
     "name": "stdout",
     "output_type": "stream",
     "text": [
      "SOMETHING\n"
     ]
    }
   ],
   "source": [
    "#Converts string into upper case\n",
    "name = \"something\"\n",
    "print(name.upper())"
   ]
  },
  {
   "cell_type": "code",
   "execution_count": 47,
   "id": "c9c153e0-3415-457e-a826-ed1236e3c015",
   "metadata": {},
   "outputs": [
    {
     "name": "stdout",
     "output_type": "stream",
     "text": [
      "My Name Is Sakshi And I Live In Csn\n"
     ]
    }
   ],
   "source": [
    "#Converts first letter of every word into caplital\n",
    "name = \"my name is sakshi and i live in csn\"\n",
    "print(name.title())"
   ]
  },
  {
   "cell_type": "code",
   "execution_count": 48,
   "id": "7a6a2b22-3670-4e6f-9c16-3ff5e0f60104",
   "metadata": {},
   "outputs": [
    {
     "name": "stdout",
     "output_type": "stream",
     "text": [
      "My name is sakshi and i live in scn\n"
     ]
    }
   ],
   "source": [
    "#Converts only first letter of string in capital\n",
    "name = \"my name is sakshi and i live in scn\"\n",
    "print(name.capitalize())"
   ]
  },
  {
   "cell_type": "code",
   "execution_count": 63,
   "id": "f05f0c9a-28b7-40b5-b832-c2563c2f010c",
   "metadata": {},
   "outputs": [
    {
     "name": "stdout",
     "output_type": "stream",
     "text": [
      "[1, 2, 3, 'abc', 'xyz']\n",
      "<class 'list'>\n",
      "[1, 2, 3, 4, 'abc', 'xyz']\n",
      "[1, 2, 3, 4, 'Sakshi', 'xyz']\n",
      "[1, 2, 4, 'Sakshi', 'xyz']\n",
      "[1, 2, 'WIT', 4, 'Sakshi', 'xyz']\n"
     ]
    }
   ],
   "source": [
    "#Multi-collection Data types : List\n",
    "#1st way to define list: using constructor method\n",
    "\n",
    "a=list((1,2,3,\"abc\",\"xyz\"))\n",
    "print(a)\n",
    "print(type(a))\n",
    "\n",
    "#method 2 which we will follow \n",
    "b=[1,2,3,4,\"abc\",\"xyz\"]\n",
    "print(b)\n",
    "\n",
    "#How to update the element in list\n",
    "b[4]=\"Sakshi\"\n",
    "print(b)\n",
    "\n",
    "#how to delete an element using remove function-use value and not index , del ketyword , pop\n",
    "b.pop(2) #index value\n",
    "#del b[2] #index value\n",
    "#b.remove(3)\n",
    "print(b)\n",
    "\n",
    "#How to add an element at certain index - using insert as it takes two arg, one index_no and new_vale\n",
    "#We can use append to add at last index\n",
    "b.insert(2,\"WIT\")\n",
    "print(b)\n"
   ]
  },
  {
   "cell_type": "code",
   "execution_count": 68,
   "id": "3ab62dab-c8da-4a34-9c53-c062be2df18f",
   "metadata": {},
   "outputs": [
    {
     "name": "stdout",
     "output_type": "stream",
     "text": [
      "[[['a', [1, 2, [[0, 2, 'BigBoss', [12, 11, 33]]]]]]]\n"
     ]
    }
   ],
   "source": [
    "a=[[[\"a\",[1,2,[[0,2,\"bb\",[12,11,33]]]]]]]\n",
    "a[0][0][1][2][0][2]=\"BigBoss\"\n",
    "print(a)"
   ]
  },
  {
   "cell_type": "code",
   "execution_count": 71,
   "id": "7b164f43-2d3c-4f10-85ad-c8494623e530",
   "metadata": {},
   "outputs": [
    {
     "name": "stdout",
     "output_type": "stream",
     "text": [
      "[1, 2, [0, [[['xyx', [0, 99, 4, ['a', 'b', [1, 2, 3, ['yes', 'Sakshi', [[18]]]]]]]]]]]\n"
     ]
    }
   ],
   "source": [
    "a=[1,2,[0,[[['xyx',[0,99,4,['a','b',[1,2,3,['yes','no',[[5]]]]]]]]]]]\n",
    "a[2][1][0][0][1][3][2][3][1]=\"Sakshi\"\n",
    "a[2][1][0][0][1][3][2][3][2][0][0] = 18\n",
    "print(a)"
   ]
  },
  {
   "cell_type": "code",
   "execution_count": 72,
   "id": "92cb4c7e-6b8a-4569-b52c-0a0a14385de2",
   "metadata": {},
   "outputs": [
    {
     "name": "stdout",
     "output_type": "stream",
     "text": [
      "(1, 2, 3, 4, 'Sakshi', 'abc')\n",
      "<class 'tuple'>\n",
      "(1, 2, 3, 'abc')\n"
     ]
    }
   ],
   "source": [
    "#tuples - defined using ()\n",
    "a= tuple((1,2,3,4,\"Sakshi\",\"abc\"))\n",
    "print(a)\n",
    "print(type(a))\n",
    "\n",
    "#Method 2 to define tuple\n",
    "b=(1,2,3,\"abc\")\n",
    "print(b)\n"
   ]
  },
  {
   "cell_type": "code",
   "execution_count": 74,
   "id": "f0689664-bbe5-4840-aac7-0c1d699a74a8",
   "metadata": {},
   "outputs": [
    {
     "name": "stdout",
     "output_type": "stream",
     "text": [
      "<class 'tuple'>\n"
     ]
    }
   ],
   "source": [
    "#If we want to store single value in tuple and amke it conside as tuple then we need to give extra comma after the value\n",
    "a=(6,)\n",
    "print(type(a))"
   ]
  },
  {
   "cell_type": "code",
   "execution_count": 75,
   "id": "3ca7d862-067e-4d46-9ce9-df1216b59cb1",
   "metadata": {},
   "outputs": [
    {
     "name": "stdout",
     "output_type": "stream",
     "text": [
      "(1, 2, 3, 4)\n"
     ]
    }
   ],
   "source": [
    "#Add two tuple\n",
    "a=(1,2)\n",
    "b=(3,4)\n",
    "print(a+b)"
   ]
  },
  {
   "cell_type": "code",
   "execution_count": 80,
   "id": "c4f4a457-bc2c-48ef-af8a-bb11c4a059f4",
   "metadata": {},
   "outputs": [
    {
     "name": "stdout",
     "output_type": "stream",
     "text": [
      "rohit\n",
      "Mumbai\n",
      "55\n"
     ]
    }
   ],
   "source": [
    "#assigning value of tupple to individual variable\n",
    "a=('rohit','Mumbai',55)\n",
    "(name,city,age) =a\n",
    "print(name)\n",
    "print(city)\n",
    "print(age)"
   ]
  },
  {
   "cell_type": "code",
   "execution_count": 91,
   "id": "ab63d0b9-b2d7-4869-8a47-fdeaf2976acc",
   "metadata": {},
   "outputs": [
    {
     "name": "stdout",
     "output_type": "stream",
     "text": [
      "[1, 2, [0, [['xyx', (0, 99, 4, ['a', 'b', [1, 2, 3, ['yes', ('Wit',), [[5]]]]])]]]]\n"
     ]
    }
   ],
   "source": [
    "#Operation on list\n",
    "a=[1,2,[0,([['xyx',(0,99,4,['a','b',[1,2,3,['yes',('no'),[[5]]]]])]])]]\n",
    "(a[2][1][0][1][3][2][3][1]) = ('WIT',)\n",
    "\n",
    "print(a)"
   ]
  },
  {
   "cell_type": "code",
   "execution_count": 95,
   "id": "6a0e8f39-e5cc-4604-a1fa-7d51c262b510",
   "metadata": {},
   "outputs": [
    {
     "name": "stdout",
     "output_type": "stream",
     "text": [
      "<class 'dict'>\n",
      "{'name': 'Sakshi', 'age': 18}\n",
      "2\n",
      "Sakshi\n",
      "Sakshi\n",
      "{'name': 'Sakshi', 'age': 18, 'year': 1992, 'new': 'Something'}\n"
     ]
    }
   ],
   "source": [
    "#dictionary\n",
    "a={'name': 'Sakshi' , 'age':18}\n",
    "print(type(a))\n",
    "print(a)\n",
    "\n",
    "#print length\n",
    "print(len(a))\n",
    "\n",
    "#Access any elemnt\n",
    "print(a['name'])\n",
    "print(a.get('name'))\n",
    "\n",
    "#To add extra Value\n",
    "a.update({'year':1992})\n",
    "a['new']='Something'\n",
    "\n",
    "#del a['name']  #del will delete complete object\n",
    "#a.clear()      #delete value but structure will remain same\n",
    "\n",
    "print(a)\n",
    "\n"
   ]
  },
  {
   "cell_type": "code",
   "execution_count": 101,
   "id": "3de4afec-07b1-4f22-bc74-45cd6332a6dc",
   "metadata": {},
   "outputs": [
    {
     "name": "stdout",
     "output_type": "stream",
     "text": [
      "{'name': {'age': 33, 'data': [1, 2, 3, 5, 7, {'data': {'new': ['yes']}}]}}\n",
      "{'name': {'age': 33, 'data': [1, 2, 3, 5, 7, {'data': {'new': ['No']}}]}}\n"
     ]
    }
   ],
   "source": [
    "a = {'name': {'age': 33, 'data': [1, 2, 3, 5, 7, {'data': {'new': ['yes']}}]}}\n",
    "print(a)\n",
    "a['name']['data'][5]['data']['new'][0] = \"No\"\n",
    "print(a)"
   ]
  },
  {
   "cell_type": "code",
   "execution_count": 2,
   "id": "c7ba0ae1-b402-4026-ae3d-b65f9f1b5d2f",
   "metadata": {},
   "outputs": [
    {
     "name": "stdout",
     "output_type": "stream",
     "text": [
      "dict_values(['Sakshi', 18, 2004])\n",
      "dict_keys(['name', 'age', 'year'])\n",
      "dict_items([('name', 'Sakshi'), ('age', 18), ('year', 2004)])\n"
     ]
    }
   ],
   "source": [
    "#Print values separately\n",
    "a={'name':'Sakshi','age':18,'year':2004}\n",
    "print(a.values())\n",
    "print(a.keys())\n",
    "print(a.items())"
   ]
  },
  {
   "cell_type": "code",
   "execution_count": 7,
   "id": "37f98edc-2f8f-4dde-a5c6-5fd9a13b48f8",
   "metadata": {},
   "outputs": [
    {
     "name": "stdout",
     "output_type": "stream",
     "text": [
      "{'a', 1, 'xyz', 'b', 'abc'}\n"
     ]
    }
   ],
   "source": [
    "#set\n",
    "a={\"abc\",1,\"xyz\",'a','b'}\n",
    "print(a)"
   ]
  },
  {
   "cell_type": "code",
   "execution_count": 8,
   "id": "ba2c7c17-b7e7-47d7-adbc-e116f07cd3bd",
   "metadata": {},
   "outputs": [
    {
     "name": "stdout",
     "output_type": "stream",
     "text": [
      "1\n",
      "2\n",
      "3\n",
      "4\n",
      "5\n",
      "6\n",
      "7\n",
      "8\n",
      "9\n",
      "10\n"
     ]
    }
   ],
   "source": [
    "#while loop\n",
    "i=1\n",
    "while i<=10:\n",
    "    print(i)\n",
    "    i+=1"
   ]
  },
  {
   "cell_type": "code",
   "execution_count": 13,
   "id": "de3f21a4-aafb-4374-b6fd-a3673229a880",
   "metadata": {},
   "outputs": [
    {
     "name": "stdout",
     "output_type": "stream",
     "text": [
      "1\n",
      "2\n",
      "3\n",
      "4\n",
      "5\n",
      "6\n",
      "7\n",
      "8\n",
      "9\n",
      "10\n"
     ]
    }
   ],
   "source": [
    "#for loop\n",
    "for i in range(1,11,1):\n",
    "    print(i)"
   ]
  },
  {
   "cell_type": "code",
   "execution_count": 24,
   "id": "95d045a9-f223-482f-b3b8-0c08a3524e1e",
   "metadata": {},
   "outputs": [
    {
     "name": "stdout",
     "output_type": "stream",
     "text": [
      "2\n",
      "4\n",
      "6\n",
      "8\n",
      "10\n",
      "56\n",
      "58\n"
     ]
    }
   ],
   "source": [
    "#Print only even values method-1\n",
    "a=[1,2,3,4,5,6,7,8,9,10,55,56,57,58]\n",
    "for i in  a:\n",
    "    if i%2==0 :\n",
    "        print(i)"
   ]
  },
  {
   "cell_type": "code",
   "execution_count": 25,
   "id": "ec7fe4c5-3510-41f6-85e7-f7fad99f4342",
   "metadata": {},
   "outputs": [
    {
     "name": "stdout",
     "output_type": "stream",
     "text": [
      "[2, 4, 6, 8, 10, 56, 58]\n"
     ]
    }
   ],
   "source": [
    "#Method 2 to add in list as we need answer in a list\n",
    "a=[1,2,3,4,5,6,7,8,9,10,55,56,57,58]\n",
    "b=[]\n",
    "for i in range(len(a)):\n",
    "    if a[i]%2==0:\n",
    "        b.append(a[i])\n",
    "print(b)"
   ]
  },
  {
   "cell_type": "code",
   "execution_count": 33,
   "id": "1ae431fb-4b3c-49cb-b008-19916db18c72",
   "metadata": {},
   "outputs": [
    {
     "name": "stdout",
     "output_type": "stream",
     "text": [
      "[1, 2, 3, 4, 5, 18, 20, 22, 66]\n",
      "[1, 2, 3, 4, 5, 18, 20, 22, 66]\n",
      "[66, 22, 20, 18, 5, 4, 3, 2, 1]\n"
     ]
    }
   ],
   "source": [
    "#sort the list using bubble sort\n",
    "a=[18,20,2,3,4,5,66,1,22]\n",
    "n=len(a)\n",
    "for i in range(n):\n",
    "    for j in range(0,n-i-1):\n",
    "        if a[j]>a[j+1]:\n",
    "            temp=a[j]\n",
    "            a[j]=a[j+1]\n",
    "            a[j+1]=temp\n",
    "print(a)    \n",
    "\n",
    "#ONE more way to use bubble sort\n",
    "for i in range(len(a)):\n",
    "    for j in range(len(a)):\n",
    "        if a[i]<=a[j]:\n",
    "            t   = a[i]\n",
    "            a[i] = a[j]\n",
    "            a[j] = t\n",
    "print(a)\n",
    "\n",
    "#Descneding Order\n",
    "for i in range(len(a)):\n",
    "    for j in range(len(a)):\n",
    "        if a[i]>=a[j]:\n",
    "            t   = a[i]\n",
    "            a[i] = a[j]\n",
    "            a[j] = t\n",
    "print(a)"
   ]
  },
  {
   "cell_type": "code",
   "execution_count": 42,
   "id": "b6b29742-633d-45c2-87d5-1ae5b7a2be4b",
   "metadata": {},
   "outputs": [
    {
     "name": "stdout",
     "output_type": "stream",
     "text": [
      "2\n"
     ]
    }
   ],
   "source": [
    "#Second lowest number \n",
    "a=[88,34,1,2,2,1,85,77,69]\n",
    "smallest=a[0]\n",
    "second_smallest=a[0]\n",
    "for num in a:\n",
    "    if num < smallest:\n",
    "        second_smallest = smallest\n",
    "        smallest = num\n",
    "    elif smallest < num < second_smallest:\n",
    "        second_smallest = num\n",
    "\n",
    "print(second_smallest)\n",
    "    "
   ]
  },
  {
   "cell_type": "code",
   "execution_count": 46,
   "id": "4f0d96b7-ec00-434c-9a47-21ecd085408b",
   "metadata": {},
   "outputs": [
    {
     "name": "stdout",
     "output_type": "stream",
     "text": [
      "[88, 34, 1, 2, 85, 77, 69]\n",
      "[1, 2, 34, 69, 77, 85, 88]\n",
      "2\n"
     ]
    }
   ],
   "source": [
    "#Method 2using membership operator\n",
    "a=[88,34,1,2,2,1,85,77,69]\n",
    "b=[]\n",
    "for i in a:\n",
    "    if i not in b:\n",
    "        b.append(i)\n",
    "print(b)\n",
    "\n",
    "for i in range(len(b)):\n",
    "    for j in range(len(b)):\n",
    "        if b[i]<=b[j]:\n",
    "            t   = b[i]\n",
    "            b[i] = b[j]\n",
    "            b[j] = t\n",
    "print(b)\n",
    "print(b[1])"
   ]
  },
  {
   "cell_type": "code",
   "execution_count": 67,
   "id": "19c3557a-b1fb-4313-a877-cc16d1156ec7",
   "metadata": {},
   "outputs": [
    {
     "name": "stdout",
     "output_type": "stream",
     "text": [
      "A \n",
      "B B \n",
      "C C C \n",
      "D D D D \n",
      "\n",
      "\n",
      "A\n",
      "BB\n",
      "CCC\n",
      "DDDD\n"
     ]
    }
   ],
   "source": [
    "a=[\"A\",\"B\",\"C\",\"D\"]\n",
    "\n",
    "for row in range(len(a)):\n",
    "    for col in range(row+1):\n",
    "        print(a[row], end=\" \")\n",
    "    print()   \n",
    "\n",
    "print()\n",
    "print()\n",
    "#Using single loop\n",
    "col=1\n",
    "for row in range(len(a)):\n",
    "    print(a[row]*col)\n",
    "    col+=1"
   ]
  },
  {
   "cell_type": "code",
   "execution_count": 81,
   "id": "5580f6f2-d484-40da-8a7d-e3ea75ce18fe",
   "metadata": {},
   "outputs": [
    {
     "name": "stdout",
     "output_type": "stream",
     "text": [
      "********************** Check Result **********************\n"
     ]
    },
    {
     "name": "stdin",
     "output_type": "stream",
     "text": [
      "Enter your seat number:  8765\n",
      "Enter your mother's name:  Shravani\n"
     ]
    },
    {
     "name": "stdout",
     "output_type": "stream",
     "text": [
      "Student Name: Avira\n",
      "Seat Number: 8765\n",
      "Marks: 8.68\n",
      "Mother's Name: Shravani\n",
      "**************** Congratulations on Passing *****************\n"
     ]
    }
   ],
   "source": [
    "print(\"********************** Check Result **********************\")\n",
    "\n",
    "class Student:\n",
    "    def __init__(self, name, seat_no, marks, mother_name):\n",
    "        self.name = name\n",
    "        self.seat_no = seat_no\n",
    "        self.marks = marks\n",
    "        self.mother_name = mother_name\n",
    "\n",
    "    def display_details(self):\n",
    "        print(f\"Student Name: {self.name}\")\n",
    "        print(f\"Seat Number: {self.seat_no}\")\n",
    "        print(f\"Marks: {self.marks}\")\n",
    "        print(f\"Mother's Name: {self.mother_name}\")\n",
    "\n",
    "\n",
    "Student1 = Student(\"Sakshi\", 1234, 9.67, \"Sonali\")\n",
    "Student2 = Student(\"Saransh\", 5678, 7.67, \"Shreya\")\n",
    "Student3 = Student(\"Avira\", 8765, 8.68, \"Shravani\")\n",
    "Student4 = Student(\"Tanisha\", 4321, 8.67, \"Kavita\")\n",
    "\n",
    "\n",
    "\n",
    "seat_no = int(input(\"Enter your seat number: \"))\n",
    "mother_name = input(\"Enter your mother's name: \")\n",
    "\n",
    "\n",
    "if seat_no == 1234 and mother_name == \"Sonali\":\n",
    "    Student1.display_details()\n",
    "    print(\"**************** Congratulations on Passing *****************\")\n",
    "elif seat_no == 4321 and mother_name == \"Kavita\":\n",
    "    Student4.display_details()\n",
    "    print(\"**************** Congratulations on Passing *****************\")\n",
    "elif seat_no == 5678 and mother_name == \"Shreya\":\n",
    "    Student2.display_details()\n",
    "    print(\"**************** Congratulations on Passing *****************\")\n",
    "elif seat_no == 8765 and mother_name == \"Shravani\":\n",
    "    Student3.display_details()\n",
    "    print(\"**************** Congratulations on Passing *****************\")\n",
    "else:\n",
    "    print(\"Invalid input\")\n",
    "\n"
   ]
  },
  {
   "cell_type": "code",
   "execution_count": 94,
   "id": "a52a317c-ec15-4dbf-82aa-85eca6646582",
   "metadata": {},
   "outputs": [
    {
     "name": "stdin",
     "output_type": "stream",
     "text": [
      "enter your seat number: 422\n",
      "enter your mother name: pqr\n"
     ]
    },
    {
     "name": "stdout",
     "output_type": "stream",
     "text": [
      "[45, 67, 78, 76, 76]\n",
      "Mathematics:45\n",
      "Chemistry:67\n",
      "Physiscs:78\n",
      "English:76\n",
      "Hindi:76\n",
      "Percentage:  53.2 %\n"
     ]
    }
   ],
   "source": [
    "#Method 2 for result\n",
    "useat=int(input(\"enter your seat number:\"))\n",
    "uname=input(\"enter your mother name:\")\n",
    "seat=[420,421,422,423]\n",
    "mname=['abc','xyz','pqr','str']\n",
    "data={420:[42,42,42,54,65],421:[37,67,45,78,34],422:[45,67,78,76,76],423:[45,67,89,45,35]}\n",
    "for i in range(len(seat)):\n",
    "      if seat[i]==useat and mname[i]==uname:\n",
    "            for j in data:\n",
    "                if j==seat[i]:\n",
    "                    print(data[j])\n",
    "                    print(f\"Mathematics:{data[j][0]}\")\n",
    "                    print(f\"Chemistry:{data[j][1]}\")\n",
    "                    print(f\"Physiscs:{data[j][2]}\")\n",
    "                    print(f\"English:{data[j][3]}\")\n",
    "                    print(f\"Hindi:{data[j][4]}\")\n",
    "                    avg = ((data[j][0]+data[j][1]+data[j][2]+data[j][3]))/5\n",
    "                    print(\"Percentage: \",avg,\"%\")"
   ]
  },
  {
   "cell_type": "code",
   "execution_count": 131,
   "id": "1471783c-8584-48b5-8f36-3a80aca867d0",
   "metadata": {},
   "outputs": [
    {
     "name": "stdout",
     "output_type": "stream",
     "text": [
      "********************ATM Machine********************\n"
     ]
    },
    {
     "name": "stdin",
     "output_type": "stream",
     "text": [
      "Enter your pin:  789\n"
     ]
    },
    {
     "name": "stdout",
     "output_type": "stream",
     "text": [
      "Invalid Pin, Please put correct pin\n"
     ]
    },
    {
     "name": "stdin",
     "output_type": "stream",
     "text": [
      "Enter your pin:  789\n"
     ]
    },
    {
     "name": "stdout",
     "output_type": "stream",
     "text": [
      "Invalid Pin, Please put correct pin\n"
     ]
    },
    {
     "name": "stdin",
     "output_type": "stream",
     "text": [
      "Enter your pin:  7890\n"
     ]
    },
    {
     "name": "stdout",
     "output_type": "stream",
     "text": [
      "Invalid Pin, Please put correct pin\n",
      "Your account has been blocked for 24 hours try contacting your bank!\n",
      "Thankyou for choosing us...Have a good day\n"
     ]
    }
   ],
   "source": [
    "print(\"********************ATM Machine********************\")\n",
    "attempts=3\n",
    "while(attempts>=1):\n",
    "    pin = int(input(\"Enter your pin: \"))\n",
    "    l1=[1104,1207,1828,1234]\n",
    "    if pin in l1:\n",
    "        amount = int(input(\"Enter the amount of withdrawal: \"))\n",
    "        \n",
    "        if amount % 100 != 0:\n",
    "            print(\"Amount should be in multiples of 100\")\n",
    "            print(\"Thankyou for choosing us...Have a good day\")\n",
    "        else:\n",
    "            total_500 = amount // 500  \n",
    "            remaining = amount % 500  \n",
    "        \n",
    "            total_200 = remaining // 200 \n",
    "            remain = total_200 % 200\n",
    "        \n",
    "            total_100 = remain // 100\n",
    "        \n",
    "            print(\"Total notes you will get- 500:\", total_500, \"\\nof 200:\", total_200, \"\\nof 100:\", total_100)\n",
    "            break\n",
    "\n",
    "    else:\n",
    "        print(\"Invalid Pin, Please put correct pin\")\n",
    "        attempts=attempts-1\n",
    "print(\"Your account has been blocked for 24 hours try contacting your bank!\")\n",
    "print(\"Thankyou for choosing us...Have a good day\")\n"
   ]
  },
  {
   "cell_type": "code",
   "execution_count": null,
   "id": "5cc0ea60-d113-4b60-8801-648aa472aea0",
   "metadata": {},
   "outputs": [],
   "source": []
  }
 ],
 "metadata": {
  "kernelspec": {
   "display_name": "Python 3 (ipykernel)",
   "language": "python",
   "name": "python3"
  },
  "language_info": {
   "codemirror_mode": {
    "name": "ipython",
    "version": 3
   },
   "file_extension": ".py",
   "mimetype": "text/x-python",
   "name": "python",
   "nbconvert_exporter": "python",
   "pygments_lexer": "ipython3",
   "version": "3.12.1"
  }
 },
 "nbformat": 4,
 "nbformat_minor": 5
}
