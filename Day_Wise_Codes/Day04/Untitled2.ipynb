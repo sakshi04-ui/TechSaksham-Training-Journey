{
 "cells": [
  {
   "cell_type": "code",
   "execution_count": 1,
   "id": "a273f53a-4d05-476d-a41b-365b66a44a63",
   "metadata": {},
   "outputs": [
    {
     "name": "stdout",
     "output_type": "stream",
     "text": [
      "************* Palindrome -Number Checker *************\n"
     ]
    },
    {
     "name": "stdin",
     "output_type": "stream",
     "text": [
      "Enter the number to check whether the number is palindrome or not:  153\n"
     ]
    },
    {
     "name": "stdout",
     "output_type": "stream",
     "text": [
      "153 you enter is not Palindrome.\n",
      "Try Sample palindrome number is : 1234321\n"
     ]
    }
   ],
   "source": [
    "# palindrome number: without using any built in function or without type acsting and only using while \n",
    "\n",
    "print(\"************* Palindrome -Number Checker *************\")\n",
    "num=int(input(\"Enter the number to check whether the number is palindrome or not: \"))\n",
    "\n",
    "def reverse_number(num):\n",
    "    reversed_num = 0\n",
    "    while num != 0:\n",
    "        last_digit = num % 10 \n",
    "        reversed_num = reversed_num * 10 + last_digit  #Another statement we can write is :  reversed_num = reversed_num * 10 + num % 10\n",
    "        num //= 10 \n",
    "    return reversed_num\n",
    "    \n",
    "reverse_num=reverse_number(num)\n",
    "if num == reverse_num:\n",
    "    print(f\"{num} you enter is Palindrome.\")\n",
    "    \n",
    "else:\n",
    "    print(f\"{num} you enter is not Palindrome.\")\n",
    "    print(\"Try Sample palindrome number is : 1234321\")"
   ]
  },
  {
   "cell_type": "code",
   "execution_count": 2,
   "id": "f2fcbdda-13a0-43d9-ba1b-2122a4e3533e",
   "metadata": {},
   "outputs": [
    {
     "name": "stdout",
     "output_type": "stream",
     "text": [
      "************* Armstrong - Number Checker *************\n"
     ]
    },
    {
     "name": "stdin",
     "output_type": "stream",
     "text": [
      "Enter the number 153\n"
     ]
    },
    {
     "name": "stdout",
     "output_type": "stream",
     "text": [
      "153 is a armstrong Number\n"
     ]
    }
   ],
   "source": [
    "#Number is armstrong or not\n",
    "print(\"************* Armstrong - Number Checker *************\")\n",
    "num=int(input(\"Enter the number\"))\n",
    "count = 0\n",
    "temp = num\n",
    "while temp!=0:\n",
    "    count +=1\n",
    "    temp//=10\n",
    "\n",
    "pow_sum = 0\n",
    "temp = num\n",
    "while temp > 0:\n",
    "     last_digit = temp % 10 \n",
    "     pow_sum = pow_sum + last_digit**count  #Another statement we can write is :  reversed_num = reversed_num * 10 + num % 10\n",
    "     temp //= 10\n",
    "\n",
    "if pow_sum == num:\n",
    "    print(f\"{num} is a armstrong Number\")\n",
    "else:\n",
    "    print(f\"{num} is not a armstrong Number\")\n",
    "    print(\"Sample Armstrong number is 153\")"
   ]
  },
  {
   "cell_type": "code",
   "execution_count": 3,
   "id": "52151ee4-caae-4f06-90e3-c41b04afc238",
   "metadata": {},
   "outputs": [
    {
     "name": "stdout",
     "output_type": "stream",
     "text": [
      "************* Prime- Number Checker *************\n"
     ]
    },
    {
     "name": "stdin",
     "output_type": "stream",
     "text": [
      "Enter your number:  6\n"
     ]
    },
    {
     "name": "stdout",
     "output_type": "stream",
     "text": [
      "Not a prime\n"
     ]
    }
   ],
   "source": [
    "print(\"************* Prime- Number Checker *************\")\n",
    "num=int(input(\"Enter your number: \"))\n",
    "c=0\n",
    "i=2\n",
    "while i<num:\n",
    "    if num % i == 0:\n",
    "        c=1\n",
    "        #c=c+1\n",
    "        #To check how many factors are there : c=c+1\n",
    "        i=i+1\n",
    "    else:\n",
    "        i=i+1 \n",
    "        \n",
    "if c==0:\n",
    "    print(\"Prime number\")\n",
    "else:\n",
    "    print(\"Not a prime\")\n",
    "    #print(f\"How many factors are there of {num} : {c+1}\") #c+1 becaus it willnot count istself in loop but now it will\n",
    "    "
   ]
  },
  {
   "cell_type": "code",
   "execution_count": 4,
   "id": "92f4bb14-d5d9-43d1-9460-48d3110aa0e6",
   "metadata": {},
   "outputs": [
    {
     "name": "stdout",
     "output_type": "stream",
     "text": [
      "************* Prime Numbers from 1 to 100 *************\n",
      "Prime numbers from 1 to 100: [2, 3, 5, 7, 11, 13, 17, 19, 23, 29, 31, 37, 41, 43, 47, 53, 59, 61, 67, 71, 73, 79, 83, 89, 97]\n",
      "Non - prime numbers from 1 to 100: [4, 6, 8, 9, 10, 12, 14, 15, 16, 18, 20, 21, 22, 24, 25, 26, 27, 28, 30, 32, 33, 34, 35, 36, 38, 39, 40, 42, 44, 45, 46, 48, 49, 50, 51, 52, 54, 55, 56, 57, 58, 60, 62, 63, 64, 65, 66, 68, 69, 70, 72, 74, 75, 76, 77, 78, 80, 81, 82, 84, 85, 86, 87, 88, 90, 91, 92, 93, 94, 95, 96, 98, 99, 100]\n"
     ]
    }
   ],
   "source": [
    "print(\"************* Prime Numbers from 1 to 100 *************\")\n",
    "\n",
    "prime_numbers = []\n",
    "not_prime_numbers = []\n",
    "num = 1 \n",
    "while num <= 100:\n",
    "    if num > 1:  \n",
    "        is_prime = True\n",
    "        divisor = 2\n",
    "        while divisor <= num // 2:  \n",
    "            if num % divisor == 0:\n",
    "                is_prime = False\n",
    "                break\n",
    "            divisor += 1\n",
    "        if is_prime:\n",
    "            prime_numbers.append(num)\n",
    "        else:\n",
    "            not_prime_numbers.append(num)\n",
    "    num += 1\n",
    "\n",
    "print(\"Prime numbers from 1 to 100:\", prime_numbers)\n",
    "print(\"Non - prime numbers from 1 to 100:\",not_prime_numbers)\n"
   ]
  },
  {
   "cell_type": "code",
   "execution_count": 5,
   "id": "e31285e4-7f59-4b6a-b9c7-a1d6c0466645",
   "metadata": {},
   "outputs": [
    {
     "name": "stdout",
     "output_type": "stream",
     "text": [
      "[2, 4, 6, 8, 10, 12, 14, 16, 18, 20, 22, 24, 26, 28, 30, 32, 34, 36, 38, 40, 42, 44, 46, 48, 50, 52, 54, 56, 58, 60, 62, 64, 66, 68, 70, 72, 74, 76, 78, 80, 82, 84, 86, 88, 90, 92, 94, 96, 98, 100, 102, 104, 106, 108, 110, 112, 114, 116, 118, 120, 122, 124, 126, 128, 130, 132, 134, 136, 138, 140, 142, 144, 146, 148, 150, 152, 154, 156, 158, 160, 162, 164, 166, 168, 170, 172, 174, 176, 178, 180, 182, 184, 186, 188, 190, 192, 194, 196, 198, 200, 202, 204, 206, 208, 210, 212, 214, 216, 218, 220, 222, 224, 226, 228, 230, 232, 234, 236, 238, 240, 242, 244, 246, 248, 250, 252, 254, 256, 258, 260, 262, 264, 266, 268, 270, 272, 274, 276, 278, 280, 282, 284, 286, 288, 290, 292, 294, 296, 298, 300, 302, 304, 306, 308, 310, 312, 314, 316, 318, 320, 322, 324, 326, 328, 330, 332, 334, 336, 338, 340, 342, 344, 346, 348, 350, 352, 354, 356, 358, 360, 362, 364, 366, 368, 370, 372, 374, 376, 378, 380, 382, 384, 386, 388, 390, 392, 394, 396, 398, 400, 402, 404, 406, 408, 410, 412, 414, 416, 418, 420, 422, 424, 426, 428, 430, 432, 434, 436, 438, 440, 442, 444, 446, 448, 450, 452, 454, 456, 458, 460, 462, 464, 466, 468, 470, 472, 474, 476, 478, 480, 482, 484, 486, 488, 490, 492, 494, 496, 498, 500, 502, 504, 506, 508, 510, 512, 514, 516, 518, 520, 522, 524, 526, 528, 530, 532, 534, 536, 538, 540, 542, 544, 546, 548, 550, 552, 554, 556, 558, 560, 562, 564, 566, 568, 570, 572, 574, 576, 578, 580, 582, 584, 586, 588, 590, 592, 594, 596, 598, 600, 602, 604, 606, 608, 610, 612, 614, 616, 618, 620, 622, 624, 626, 628, 630, 632, 634, 636, 638, 640, 642, 644, 646, 648, 650, 652, 654, 656, 658, 660, 662, 664, 666, 668, 670, 672, 674, 676, 678, 680, 682, 684, 686, 688, 690, 692, 694, 696, 698, 700, 702, 704, 706, 708, 710, 712, 714, 716, 718, 720, 722, 724, 726, 728, 730, 732, 734, 736, 738, 740, 742, 744, 746, 748, 750, 752, 754, 756, 758, 760, 762, 764, 766, 768, 770, 772, 774, 776, 778, 780, 782, 784, 786, 788, 790, 792, 794, 796, 798, 800, 802, 804, 806, 808, 810, 812, 814, 816, 818, 820, 822, 824, 826, 828, 830, 832, 834, 836, 838, 840, 842, 844, 846, 848, 850, 852, 854, 856, 858, 860, 862, 864, 866, 868, 870, 872, 874, 876, 878, 880, 882, 884, 886, 888, 890, 892, 894, 896, 898, 900, 902, 904, 906, 908, 910, 912, 914, 916, 918, 920, 922, 924, 926, 928, 930, 932, 934, 936, 938, 940, 942, 944, 946, 948, 950, 952, 954, 956, 958, 960, 962, 964, 966, 968, 970, 972, 974, 976, 978, 980, 982, 984, 986, 988, 990, 992, 994, 996, 998]\n"
     ]
    }
   ],
   "source": [
    "#Even Numbers from 1 to 1000\n",
    "#but challenge is only using 2 line\n",
    "#now we can using list comprehension\n",
    "\n",
    "a = [i for i in range(2,1000,2)]\n",
    "print(a)\n"
   ]
  },
  {
   "cell_type": "code",
   "execution_count": 6,
   "id": "b5ef5680-e04a-4fb8-814b-5a21535c76c1",
   "metadata": {},
   "outputs": [
    {
     "name": "stdout",
     "output_type": "stream",
     "text": [
      "b\n"
     ]
    }
   ],
   "source": [
    "#Random function\n",
    "import random\n",
    "\n",
    "a = ['a','b','c','d','e']\n",
    "print(random.choice(a))"
   ]
  },
  {
   "cell_type": "code",
   "execution_count": 7,
   "id": "b4a1a044-a5cc-42d0-afd7-9c547336901e",
   "metadata": {},
   "outputs": [
    {
     "name": "stdout",
     "output_type": "stream",
     "text": [
      "************* Welcome to the Word Simulator Game! *************\n",
      "✔ Use ALL the letters given (no extra or missing letters).\n",
      "✔ The word must be the exact same length as the given word.\n",
      "✔ Earn 3 points for each correct word.\n",
      "✔ Type 'quit' to exit anytime.\n",
      "\n"
     ]
    },
    {
     "name": "stdin",
     "output_type": "stream",
     "text": [
      "Enter a word rearranged from 'Led':  Led\n"
     ]
    },
    {
     "name": "stdout",
     "output_type": "stream",
     "text": [
      "Invalid word! The input does not match any rearranged word.\n",
      "Your current score: 0\n"
     ]
    },
    {
     "name": "stdin",
     "output_type": "stream",
     "text": [
      "Do you want to continue? (yes/no):  no\n"
     ]
    },
    {
     "name": "stdout",
     "output_type": "stream",
     "text": [
      "Final score: 0\n",
      "Thanks for playing!\n"
     ]
    }
   ],
   "source": [
    "#My approach\n",
    "import random\n",
    "\n",
    "print(\"************* Welcome to the Word Simulator Game! *************\")\n",
    "print(\"✔ Use ALL the letters given (no extra or missing letters).\")\n",
    "print(\"✔ The word must be the exact same length as the given word.\")\n",
    "print(\"✔ Earn 3 points for each correct word.\")\n",
    "print(\"✔ Type 'quit' to exit anytime.\\n\")\n",
    "\n",
    "original_words = [\n",
    "    \"Cat\", \"Bat\", \"Top\", \"Tap\", \"Rat\", \n",
    "    \"God\", \"Lap\", \"Net\", \"Saw\", \"Tar\", \n",
    "    \"Bag\", \"Lap\", \"Pan\", \"Led\", \"Ton\"\n",
    "]\n",
    "\n",
    "rearranged_words = [\n",
    "    \"Act\", \"Tab\", \"Pot\", \"Pat\", \"Art\", \n",
    "    \"Dog\", \"Pal\", \"Ten\", \"Was\", \"Rat\", \n",
    "    \"Gab\", \"Alp\", \"Nap\", \"Del\", \"Not\"\n",
    "]\n",
    "\n",
    "score = 0\n",
    "\n",
    "while True:\n",
    "    random_word = random.choice(original_words)\n",
    "    index = original_words.index(random_word)\n",
    "    word = input(f\"Enter a word rearranged from '{random_word}': \")\n",
    "\n",
    "    if word in rearranged_words:\n",
    "        input_index = rearranged_words.index(word)\n",
    "        if input_index == index:\n",
    "            print(\"Correct! The word matches.\")\n",
    "            score += 3\n",
    "        else:\n",
    "            print(\"Incorrect! The word is valid but does not match the correct pair.\")\n",
    "    else:\n",
    "        print(\"Invalid word! The input does not match any rearranged word.\")\n",
    "\n",
    "    print(f\"Your current score: {score}\")\n",
    "    continue_game = input(\"Do you want to continue? (yes/no): \").strip().lower()\n",
    "    if continue_game != \"yes\":\n",
    "        break\n",
    "\n",
    "print(f\"Final score: {score}\")\n",
    "print(\"Thanks for playing!\")"
   ]
  },
  {
   "cell_type": "code",
   "execution_count": 8,
   "id": "812b9de9-21e9-4121-8dd2-f1b0a8d4060c",
   "metadata": {},
   "outputs": [
    {
     "name": "stdout",
     "output_type": "stream",
     "text": [
      "Your Word :  ['t', 'o', 'p']\n",
      "top\n"
     ]
    },
    {
     "name": "stdin",
     "output_type": "stream",
     "text": [
      "If you want to play enter the write word or quit:  quit\n"
     ]
    },
    {
     "name": "stdout",
     "output_type": "stream",
     "text": [
      "You quitted the Game!\n",
      "You earned 0 score\n"
     ]
    }
   ],
   "source": [
    "#Instructor Approach\n",
    "import random\n",
    "\n",
    "data = ['cat', 'act', 'tab', 'bat', 'net', 'ten', 'rat', 'tar', 'art', 'dog', 'god', 'lap', 'pal', 'pot', 'top', 'pat', 'tap', 'gab', 'bag', 'nap', 'pan', 'ton', 'not']\n",
    "score = 0\n",
    "attempt = 3\n",
    "\n",
    "while True:\n",
    "    gen_word = random.choice(data)\n",
    "    letters = list(gen_word)\n",
    "    print('Your Word : ', letters)\n",
    "    print(\"\".join(letters))\n",
    "\n",
    "    user_word = input(\"If you want to play enter the write word or quit: \").strip().lower()\n",
    "    if user_word == \"quit\":\n",
    "        print(\"You quitted the Game!\")\n",
    "        print(f\"You earned {score} score\")\n",
    "        break\n",
    "\n",
    "    L = True\n",
    "\n",
    "    for letter in user_word:\n",
    "        if letter in letters:\n",
    "            letters.remove(letter)\n",
    "        else:\n",
    "            L = False\n",
    "\n",
    "    if L and user_word in data:\n",
    "        if gen_word == user_word:\n",
    "            score -= 3\n",
    "            attempt -= 1\n",
    "            if attempt == 0:\n",
    "                print(\"You failed the game. Try harder next time!\")\n",
    "                break\n",
    "            print(f\"You earned {score} score\")\n",
    "        else:\n",
    "            score += 3\n",
    "            print(f\"You earned {score} score\")\n",
    "    else:\n",
    "        print(\"Incorrect Word\")"
   ]
  },
  {
   "cell_type": "code",
   "execution_count": 9,
   "id": "f4ca73ec-c6f0-44ea-914e-716ed82d2cb5",
   "metadata": {},
   "outputs": [
    {
     "name": "stdin",
     "output_type": "stream",
     "text": [
      "Enter row number:  4\n"
     ]
    },
    {
     "name": "stdout",
     "output_type": "stream",
     "text": [
      "      a \n",
      "    b b b \n",
      "  c c c c c \n",
      "d d d d d d d \n"
     ]
    }
   ],
   "source": [
    "#Afternoon Session Starts here\n",
    "#Print a pattern\n",
    "'''\n",
    "      a \n",
    "    b b b \n",
    "  c c c c c \n",
    "d d d d d d d \n",
    "'''\n",
    "i=0\n",
    "row=int(input(\"Enter row number: \"))\n",
    "\n",
    "while i < row:\n",
    "    col=0\n",
    "    while col<row-i-1:\n",
    "        print(\" \",end=\" \")\n",
    "        col+=1\n",
    "    col=0\n",
    "    while col<2*i+1:\n",
    "        print(chr(97+i),end=\" \")\n",
    "        col+=1\n",
    "\n",
    "    print()\n",
    "    i+=1"
   ]
  },
  {
   "cell_type": "code",
   "execution_count": 13,
   "id": "3ad2b441-1938-4b67-a673-2d7ce32e512b",
   "metadata": {},
   "outputs": [
    {
     "name": "stdout",
     "output_type": "stream",
     "text": [
      "      a \n",
      "    a b c \n",
      "  a b c d e \n",
      "a b c d e f g \n"
     ]
    }
   ],
   "source": [
    "#Afternoon Session Starts here\n",
    "#Print a pattern\n",
    "'''\n",
    "      a \n",
    "    a b c \n",
    "  a b c d e \n",
    "a b c d e f g\n",
    "'''\n",
    "row=1\n",
    "while row<=4:\n",
    "    cols=1\n",
    "    while cols<=4-row:\n",
    "        print(\" \",end=\" \")\n",
    "        cols+=1\n",
    "    cols=1\n",
    "    while cols<(2*row):\n",
    "        print(chr(96+cols),end=\" \")\n",
    "        cols+=1\n",
    "    row+=1\n",
    "    print()"
   ]
  },
  {
   "cell_type": "code",
   "execution_count": 27,
   "id": "e139bc76-379a-43f7-b390-79be5a7a22d2",
   "metadata": {},
   "outputs": [
    {
     "name": "stdout",
     "output_type": "stream",
     "text": [
      "************************** Welcome to Avira Retaurant **************************\n"
     ]
    },
    {
     "name": "stdin",
     "output_type": "stream",
     "text": [
      "Can you please Enter Your name for us to process order:  sakshi\n",
      "Hey sakshi, would you like to have veg or nonveg?:  veg\n"
     ]
    },
    {
     "name": "stdout",
     "output_type": "stream",
     "text": [
      "Samosa= 20 to order press 0\n",
      "Paneer Tikka= 150 to order press 1\n",
      "Spring Roll= 100 to order press 2\n",
      "Paneer Butter Masala= 250 to order press 3\n",
      "Dal Makhani= 200 to order press 4\n",
      "Chana Masala= 180 to order press 5\n",
      "Roti= 20 to order press 6\n",
      "Naan= 40 to order press 7\n",
      "Paratha= 50 to order press 8\n",
      "Gulab Jamun= 50 to order press 9\n",
      "Rasgulla= 60 to order press 10\n",
      "Kheer= 80 to order press 11\n",
      "Lassi= 60 to order press 12\n",
      "Masala Chai= 40 to order press 13\n",
      "Cold Coffee= 100 to order press 14\n"
     ]
    },
    {
     "name": "stdin",
     "output_type": "stream",
     "text": [
      "Enter the value to order food:  0\n"
     ]
    },
    {
     "name": "stdout",
     "output_type": "stream",
     "text": [
      "Your order has been successfully placed\n",
      "Order Summary:  Samosa= 20\n"
     ]
    }
   ],
   "source": [
    "print(\"************************** Welcome to Avira Retaurant **************************\")\n",
    "name=input(\"Can you please Enter Your name for us to process order: \")\n",
    "\n",
    "food = {\n",
    "    'veg': [\n",
    "         \"Samosa= 20\", \"Paneer Tikka= 150\", \"Spring Roll= 100\",\n",
    "        \"Paneer Butter Masala= 250\", \"Dal Makhani= 200\", \"Chana Masala= 180\",\n",
    "        \"Roti= 20\", \"Naan= 40\", \"Paratha= 50\",\n",
    "         \"Gulab Jamun= 50\", \"Rasgulla= 60\", \"Kheer= 80\",\n",
    "         \"Lassi= 60\", \"Masala Chai= 40\", \"Cold Coffee= 100\"\n",
    "],\n",
    "    'nonVeg': [\n",
    "         \"Chicken Tikka= 200\", \"Mutton Seekh Kebab= 250\", \"Fish Fry= 220\",\n",
    "        \"Butter Chicken= 300\", \"Mutton Rogan Josh= 350\", \"Prawn Masala= 320\",\n",
    "        \"Roti= 20\", \"Naan= 40\", \"Paratha= 50\",\n",
    "        \"Gulab Jamun= 50\", \"Rasgulla= 60\", \"Kheer= 80\",\n",
    "        \"Lassi= 60\", \"Masala Chai= 40\", \"Cold Coffee= 100\"\n",
    "        ]\n",
    "}\n",
    "category=input(f\"Hey {name}, would you like to have veg or nonveg?: \")\n",
    "c=0\n",
    "\n",
    "for i in food[category]:\n",
    "    print(f\"{i} to order press {c}\")\n",
    "    c+=1\n",
    "\n",
    "order=int(input(\"Enter the value to order food: \"))\n",
    "print(\"Your order has been successfully placed\")\n",
    "print(\"Order Summary: \",food[category][order])"
   ]
  },
  {
   "cell_type": "code",
   "execution_count": 17,
   "id": "d5e57095-ae01-442d-b357-0b3ac3ec4505",
   "metadata": {},
   "outputs": [
    {
     "name": "stdout",
     "output_type": "stream",
     "text": [
      "Select your menu type:\n",
      "Enter 'v' for Vegetarian Menu or 'nv' for Non-Vegetarian Menu.\n"
     ]
    },
    {
     "name": "stdin",
     "output_type": "stream",
     "text": [
      "Your choice:  v\n"
     ]
    },
    {
     "name": "stdout",
     "output_type": "stream",
     "text": [
      "------------------------------\n",
      "\n",
      "Starters:\n",
      "  1. Veg Spring Rolls\n",
      "  2. Paneer Tikka\n",
      "  3. Veg Hara Bhara Kebab\n",
      "  4. Stuffed Mushroom\n",
      "  5. Crispy Corn\n",
      "\n",
      "Soups:\n",
      "  1. Tomato Basil Soup\n",
      "  2. Sweet Corn Soup\n",
      "  3. Hot and Sour Veg Soup\n",
      "  4. Spinach and Garlic Soup\n",
      "\n",
      "Salads:\n",
      "  1. Caesar Salad (Veg)\n",
      "  2. Greek Salad\n",
      "  3. Chickpea Salad\n",
      "  4. Cucumber and Mint Salad\n",
      "\n",
      "Main Course:\n",
      "  1. Paneer Butter Masala\n",
      "  2. Veg Biryani\n",
      "  3. Dal Tadka\n",
      "  4. Aloo Gobi\n",
      "  5. Mixed Vegetable Curry\n",
      "\n",
      "Breads:\n",
      "  1. Butter Naan\n",
      "  2. Tandoori Roti\n",
      "  3. Lachha Paratha\n",
      "  4. Garlic Naan\n",
      "\n",
      "Desserts:\n",
      "  1. Gulab Jamun\n",
      "  2. Jalebi\n",
      "  3. Rasmalai\n",
      "  4. Ice Cream (Vanilla/Chocolate)\n",
      "------------------------------\n",
      "Enter the numbers corresponding to the items you want to order.\n",
      "Type 'done' when you are finished ordering.\n",
      "\n",
      "Select items from Starters:\n"
     ]
    },
    {
     "name": "stdin",
     "output_type": "stream",
     "text": [
      "Enter item number (or 'done' to finish Starters):  1\n"
     ]
    },
    {
     "name": "stdout",
     "output_type": "stream",
     "text": [
      "Added Veg Spring Rolls to your order.\n"
     ]
    },
    {
     "name": "stdin",
     "output_type": "stream",
     "text": [
      "Enter item number (or 'done' to finish Starters):  5\n"
     ]
    },
    {
     "name": "stdout",
     "output_type": "stream",
     "text": [
      "Added Crispy Corn to your order.\n"
     ]
    },
    {
     "name": "stdin",
     "output_type": "stream",
     "text": [
      "Enter item number (or 'done' to finish Starters):  done\n"
     ]
    },
    {
     "name": "stdout",
     "output_type": "stream",
     "text": [
      "\n",
      "Select items from Soups:\n"
     ]
    },
    {
     "name": "stdin",
     "output_type": "stream",
     "text": [
      "Enter item number (or 'done' to finish Soups):  done\n"
     ]
    },
    {
     "name": "stdout",
     "output_type": "stream",
     "text": [
      "\n",
      "Select items from Salads:\n"
     ]
    },
    {
     "name": "stdin",
     "output_type": "stream",
     "text": [
      "Enter item number (or 'done' to finish Salads):  done\n"
     ]
    },
    {
     "name": "stdout",
     "output_type": "stream",
     "text": [
      "\n",
      "Select items from Main Course:\n"
     ]
    },
    {
     "name": "stdin",
     "output_type": "stream",
     "text": [
      "Enter item number (or 'done' to finish Main Course):  1\n"
     ]
    },
    {
     "name": "stdout",
     "output_type": "stream",
     "text": [
      "Added Paneer Butter Masala to your order.\n"
     ]
    },
    {
     "name": "stdin",
     "output_type": "stream",
     "text": [
      "Enter item number (or 'done' to finish Main Course):  5\n"
     ]
    },
    {
     "name": "stdout",
     "output_type": "stream",
     "text": [
      "Added Mixed Vegetable Curry to your order.\n"
     ]
    },
    {
     "name": "stdin",
     "output_type": "stream",
     "text": [
      "Enter item number (or 'done' to finish Main Course):  done\n"
     ]
    },
    {
     "name": "stdout",
     "output_type": "stream",
     "text": [
      "\n",
      "Select items from Breads:\n"
     ]
    },
    {
     "name": "stdin",
     "output_type": "stream",
     "text": [
      "Enter item number (or 'done' to finish Breads):  3\n"
     ]
    },
    {
     "name": "stdout",
     "output_type": "stream",
     "text": [
      "Added Lachha Paratha to your order.\n"
     ]
    },
    {
     "name": "stdin",
     "output_type": "stream",
     "text": [
      "Enter item number (or 'done' to finish Breads):  done\n"
     ]
    },
    {
     "name": "stdout",
     "output_type": "stream",
     "text": [
      "\n",
      "Select items from Desserts:\n"
     ]
    },
    {
     "name": "stdin",
     "output_type": "stream",
     "text": [
      "Enter item number (or 'done' to finish Desserts):  4\n"
     ]
    },
    {
     "name": "stdout",
     "output_type": "stream",
     "text": [
      "Added Ice Cream (Vanilla/Chocolate) to your order.\n"
     ]
    },
    {
     "name": "stdin",
     "output_type": "stream",
     "text": [
      "Enter item number (or 'done' to finish Desserts):  done\n"
     ]
    },
    {
     "name": "stdout",
     "output_type": "stream",
     "text": [
      "\n",
      "Your Order Summary:\n",
      "------------------------------\n",
      "  - Veg Spring Rolls\n",
      "  - Crispy Corn\n",
      "  - Paneer Butter Masala\n",
      "  - Mixed Vegetable Curry\n",
      "  - Lachha Paratha\n",
      "  - Ice Cream (Vanilla/Chocolate)\n",
      "------------------------------\n",
      "Thank you for your order!\n"
     ]
    }
   ],
   "source": [
    "#Gpt made code\n",
    "\n",
    "def display_veg_menu():\n",
    "    return {\n",
    "        \"Starters\": [\"Veg Spring Rolls\", \"Paneer Tikka\", \"Veg Hara Bhara Kebab\", \"Stuffed Mushroom\", \"Crispy Corn\"],\n",
    "        \"Soups\": [\"Tomato Basil Soup\", \"Sweet Corn Soup\", \"Hot and Sour Veg Soup\", \"Spinach and Garlic Soup\"],\n",
    "        \"Salads\": [\"Caesar Salad (Veg)\", \"Greek Salad\", \"Chickpea Salad\", \"Cucumber and Mint Salad\"],\n",
    "        \"Main Course\": [\"Paneer Butter Masala\", \"Veg Biryani\", \"Dal Tadka\", \"Aloo Gobi\", \"Mixed Vegetable Curry\"],\n",
    "        \"Breads\": [\"Butter Naan\", \"Tandoori Roti\", \"Lachha Paratha\", \"Garlic Naan\"],\n",
    "        \"Desserts\": [\"Gulab Jamun\", \"Jalebi\", \"Rasmalai\", \"Ice Cream (Vanilla/Chocolate)\"]\n",
    "    }\n",
    "\n",
    "\n",
    "def display_non_veg_menu():\n",
    "    return {\n",
    "        \"Starters\": [\"Chicken Tikka\", \"Fish Fingers\", \"Chicken Wings\", \"Prawn Tempura\", \"Mutton Seekh Kebab\"],\n",
    "        \"Soups\": [\"Chicken Sweet Corn Soup\", \"Hot and Sour Chicken Soup\", \"Seafood Chowder\", \"Chicken Clear Soup\"],\n",
    "        \"Salads\": [\"Grilled Chicken Salad\", \"Chicken Caesar Salad\", \"Tuna Salad\", \"Egg Salad\"],\n",
    "        \"Main Course\": [\"Butter Chicken\", \"Mutton Rogan Josh\", \"Chicken Biryani\", \"Prawn Curry\", \"Fish Masala\"],\n",
    "        \"Breads\": [\"Butter Naan\", \"Tandoori Roti\", \"Lachha Paratha\", \"Garlic Naan\"],\n",
    "        \"Desserts\": [\"Gulab Jamun\", \"Chocolate Brownie with Ice Cream\", \"Custard\", \"Cheesecake\"]\n",
    "    }\n",
    "\n",
    "\n",
    "def display_menu(menu):\n",
    "    print(\"-\" * 30)\n",
    "    for category, items in menu.items():\n",
    "        print(f\"\\n{category}:\")\n",
    "        for i, item in enumerate(items, start=1):\n",
    "            print(f\"  {i}. {item}\")\n",
    "    print(\"-\" * 30)\n",
    "\n",
    "\n",
    "def take_order(menu):\n",
    "    order = []\n",
    "    print(\"Enter the numbers corresponding to the items you want to order.\")\n",
    "    print(\"Type 'done' when you are finished ordering.\")\n",
    "    \n",
    "    for category, items in menu.items():\n",
    "        print(f\"\\nSelect items from {category}:\")\n",
    "        while True:\n",
    "            user_input = input(f\"Enter item number (or 'done' to finish {category}): \").strip().lower()\n",
    "            if user_input == 'done':\n",
    "                break\n",
    "            if user_input.isdigit() and 1 <= int(user_input) <= len(items):\n",
    "                order.append(items[int(user_input) - 1])\n",
    "                print(f\"Added {items[int(user_input) - 1]} to your order.\")\n",
    "            else:\n",
    "                print(\"Invalid input. Please enter a valid item number.\")\n",
    "    return order\n",
    "\n",
    "\n",
    "def main():\n",
    "    print(\"Select your menu type:\")\n",
    "    print(\"Enter 'v' for Vegetarian Menu or 'nv' for Non-Vegetarian Menu.\")\n",
    "    category = input(\"Your choice: \").strip().lower()\n",
    "\n",
    "    if category == 'v':\n",
    "        menu = display_veg_menu()\n",
    "    elif category == 'nv':\n",
    "        menu = display_non_veg_menu()\n",
    "    else:\n",
    "        print(\"Invalid choice! Please enter 'v' or 'nv'.\")\n",
    "        return\n",
    "\n",
    "    # Display the selected menu\n",
    "    display_menu(menu)\n",
    "\n",
    "    # Take the user's order\n",
    "    order = take_order(menu)\n",
    "\n",
    "    # Display the order summary\n",
    "    if order:\n",
    "        print(\"\\nYour Order Summary:\")\n",
    "        print(\"-\" * 30)\n",
    "        for item in order:\n",
    "            print(f\"  - {item}\")\n",
    "        print(\"-\" * 30)\n",
    "        print(\"Thank you for your order!\")\n",
    "    else:\n",
    "        print(\"You have not ordered anything. Thank you!\")\n",
    "\n",
    "\n",
    "# Run the program\n",
    "main()\n"
   ]
  },
  {
   "cell_type": "code",
   "execution_count": 37,
   "id": "9b194d89-e806-431a-8f28-46a92584f86e",
   "metadata": {},
   "outputs": [
    {
     "name": "stdout",
     "output_type": "stream",
     "text": [
      "This is my first simple function\n",
      "My name is Sakshi, I am 18 years old and I live in Chalisgaon\n",
      "My name is Sakshi, I am 18 years old and I live in Chalisgaon\n",
      "My name is Avira, I am 2 years old and I live in Solapur\n",
      "(1, 2, 3, 4, 5, 6)\n",
      "<class 'tuple'>\n",
      "{'a': 1, 'b': 2, 'c': 3}\n",
      "<class 'dict'>\n"
     ]
    }
   ],
   "source": [
    "##Functions started\n",
    "\n",
    "'''\n",
    "Syntax of function\n",
    "def Name():\n",
    "    expression\n",
    "\n",
    "types of user defined function-\n",
    "1. ximple function\n",
    "2. function with parameter\n",
    "3. func with position argument\n",
    "4.func with keyword argument\n",
    "5.default parametrise function\n",
    "6. arbitrary function\n",
    " - variable length function\n",
    " - keyword variable length function\n",
    "7.lambda function\n",
    "8.recursion function\n",
    "9.genrator function\n",
    "'''\n",
    "#1. Simple function\n",
    "def Data():\n",
    "    print(\"This is my first simple function\")\n",
    "Data()\n",
    "\n",
    "#2. function with parameter and 3. function with position argument\n",
    "def Data (name,age,city):\n",
    "    print(f\"My name is {name}, I am {age} years old and I live in {city}\")\n",
    "Data(\"Sakshi\",18,\"Chalisgaon\")   #Position of passing data matters\n",
    "\n",
    "#4. function with keyword argument\n",
    "def Data (name,age,city):\n",
    "    print(f\"My name is {name}, I am {age} years old and I live in {city}\")\n",
    "Data(age=18,city=\"Chalisgaon\",name=\"Sakshi\")\n",
    "\n",
    "#5. default parametrise function\n",
    "\n",
    "def Data(name,age,city=\"Solapur\"):   #but if when called function and city value is passed then the passed value will dominate\n",
    "        print(f\"My name is {name}, I am {age} years old and I live in {city}\")\n",
    "Data(\"Avira\",2)\n",
    "\n",
    "#6. variable length function - returns data in form of tuple nbaki same as keyword variable length function\n",
    "def Add(*a):\n",
    "    print(a)\n",
    "    print(type(a))\n",
    "Add(1,2,3,4,5,6)\n",
    "\n",
    "#7. keyword variable length function - returns data in form of dictionary\n",
    "def Add(**a):\n",
    "    print(a)\n",
    "    print(type(a))\n",
    "Add(a=1,b=2,c=3)"
   ]
  },
  {
   "cell_type": "code",
   "execution_count": 56,
   "id": "903fb5f0-f8ac-4309-b279-08ee8283274c",
   "metadata": {
    "jp-MarkdownHeadingCollapsed": true
   },
   "outputs": [
    {
     "name": "stdout",
     "output_type": "stream",
     "text": [
      "14\n"
     ]
    }
   ],
   "source": [
    "###### Create Calculator\n",
    "\n",
    "def Add(*a):\n",
    "    sum=0\n",
    "    for i in a:\n",
    "        sum+=i\n",
    "    return sum \n",
    "\n",
    "print(Add(2,3,4,5))"
   ]
  },
  {
   "cell_type": "code",
   "execution_count": 61,
   "id": "041915fb-1eb1-4542-a695-5a14087d7607",
   "metadata": {},
   "outputs": [
    {
     "name": "stdout",
     "output_type": "stream",
     "text": [
      "11\n"
     ]
    }
   ],
   "source": [
    "#Find length of function\n",
    "def length(a):\n",
    "    count = 0\n",
    "    for i in a:\n",
    "        count += 1\n",
    "    return count\n",
    "\n",
    "b = (1,2,3,4,5,6,7,8,9,0)\n",
    "print(length(b))  \n"
   ]
  },
  {
   "cell_type": "code",
   "execution_count": 67,
   "id": "a65ae229-8186-4238-818a-185e6fb13873",
   "metadata": {},
   "outputs": [
    {
     "data": {
      "text/plain": [
       "'SAKSHI'"
      ]
     },
     "execution_count": 67,
     "metadata": {},
     "output_type": "execute_result"
    }
   ],
   "source": [
    "#Create upper function\n",
    "def Upper(a):\n",
    "    b = \"\"\n",
    "    for i in a:\n",
    "        if 'a' <= i <= 'z':  \n",
    "            b += chr(ord(i) - 32)  \n",
    "        else:\n",
    "            b += i  \n",
    "    return b\n",
    "Upper(\"sakshI\")"
   ]
  },
  {
   "cell_type": "code",
   "execution_count": 88,
   "id": "f52d5567-f135-4298-9df0-33efaf305292",
   "metadata": {},
   "outputs": [
    {
     "data": {
      "text/plain": [
       "'sakshi.....ss'"
      ]
     },
     "execution_count": 88,
     "metadata": {},
     "output_type": "execute_result"
    }
   ],
   "source": [
    "#Create lower function\n",
    "def Lower(a):\n",
    "    b = \"\"\n",
    "    for i in a:\n",
    "        if 'A' <= i <= 'Z':  \n",
    "            b += chr(ord(i) + 32)  \n",
    "        else:\n",
    "            b += i  \n",
    "    return b\n",
    "Lower(\"SAKSHI\")"
   ]
  },
  {
   "cell_type": "code",
   "execution_count": 82,
   "id": "9cfc02b6-0478-4c05-8614-63929fc6532c",
   "metadata": {},
   "outputs": [
    {
     "data": {
      "text/plain": [
       "'Sakshi'"
      ]
     },
     "execution_count": 82,
     "metadata": {},
     "output_type": "execute_result"
    }
   ],
   "source": [
    "#Create function for Capitalise\n",
    "def capitalise(a):\n",
    "    i = a[0]\n",
    "    if 'A' <= i <= 'Z':\n",
    "        return a\n",
    "    else:   \n",
    "        b = chr(ord(i) - 32) \n",
    "        a = b + a[1:]  \n",
    "        return a\n",
    "\n",
    "\n",
    "capitalise(\"Sakshi\")"
   ]
  },
  {
   "cell_type": "code",
   "execution_count": 90,
   "id": "fb90906c-476a-4e78-9971-3e52cda2648f",
   "metadata": {},
   "outputs": [
    {
     "name": "stdout",
     "output_type": "stream",
     "text": [
      "Hello world\n"
     ]
    }
   ],
   "source": [
    "#Create function for Titl\n",
    "def title(s):\n",
    "    result = \"\"\n",
    "    capitalize_next = True  \n",
    "\n",
    "    for i in s:\n",
    "        if capitalize_next and 'a' <= i <= 'z':  \n",
    "            result += chr(ord(i) - 32)  \n",
    "        else:\n",
    "            result += i  \n",
    "\n",
    "        capitalize_next = i == \" \" \n",
    "\n",
    "    return result\n",
    "\n",
    "\n",
    "print(title(\"hello world\"))"
   ]
  },
  {
   "cell_type": "code",
   "execution_count": 96,
   "id": "1589ef85-10fc-4e5f-a9e0-2bb2ceb991d1",
   "metadata": {},
   "outputs": [
    {
     "name": "stdout",
     "output_type": "stream",
     "text": [
      "1\n",
      "2\n",
      "3\n",
      "4\n",
      "5\n",
      "6\n",
      "7\n",
      "8\n",
      "9\n",
      "10\n"
     ]
    }
   ],
   "source": [
    "def print1(i):\n",
    "    if i == 11:\n",
    "        return\n",
    "    \n",
    "    print(i)\n",
    "    print1(i+1)\n",
    "\n",
    "print1(1)"
   ]
  },
  {
   "cell_type": "code",
   "execution_count": 18,
   "id": "a58af119-c435-4c8d-ad3f-93adc3c9998d",
   "metadata": {},
   "outputs": [
    {
     "name": "stdout",
     "output_type": "stream",
     "text": [
      "2 x 1 =  2\n",
      "2 x 2 =  4\n",
      "2 x 3 =  6\n",
      "2 x 4 =  8\n",
      "2 x 5 =  10\n",
      "2 x 6 =  12\n",
      "2 x 7 =  14\n",
      "2 x 8 =  16\n",
      "2 x 9 =  18\n",
      "2 x 10 =  20\n",
      "\n",
      "3 x 1 =  3\n",
      "3 x 2 =  6\n",
      "3 x 3 =  9\n",
      "3 x 4 =  12\n",
      "3 x 5 =  15\n",
      "3 x 6 =  18\n",
      "3 x 7 =  21\n",
      "3 x 8 =  24\n",
      "3 x 9 =  27\n",
      "3 x 10 =  30\n"
     ]
    }
   ],
   "source": [
    "def table(i,j):\n",
    "    if j == 11:\n",
    "        return\n",
    "    else:\n",
    "        print(f\"{i} x {j} = \",i*j)\n",
    "        j+=1\n",
    "        table(i,j)\n",
    "        \n",
    "\n",
    "table(2,1)\n",
    "print()\n",
    "table(3,1)"
   ]
  },
  {
   "cell_type": "code",
   "execution_count": 31,
   "id": "dd70e51c-4cd7-4afe-9131-cd46419d10fc",
   "metadata": {},
   "outputs": [
    {
     "name": "stdout",
     "output_type": "stream",
     "text": [
      "1 2 3 4 5 6 7 8 9 10 \n",
      "2 4 6 8 10 12 14 16 18 20 \n",
      "3 6 9 12 15 18 21 24 27 30 \n",
      "4 8 12 16 20 24 28 32 36 40 \n",
      "5 10 15 20 25 30 35 40 45 50 \n",
      "6 12 18 24 30 36 42 48 54 60 \n",
      "7 14 21 28 35 42 49 56 63 70 \n",
      "8 16 24 32 40 48 56 64 72 80 \n",
      "9 18 27 36 45 54 63 72 81 90 \n",
      "10 20 30 40 50 60 70 80 90 100 \n"
     ]
    }
   ],
   "source": [
    "#Instructor Approach\n",
    "def outer(n):\n",
    "    def inner(n1):\n",
    "        print(n*n1, end=\" \")\n",
    "        n1+=1\n",
    "        if n1<=10:\n",
    "            return inner(n1)\n",
    "    inner(1)\n",
    "    print()\n",
    "    n+=1\n",
    "    if n<=10:\n",
    "        return outer(n)\n",
    "outer(1)"
   ]
  },
  {
   "cell_type": "code",
   "execution_count": 32,
   "id": "98013941-7a12-429f-98db-4e3bc704ec47",
   "metadata": {},
   "outputs": [
    {
     "data": {
      "text/plain": [
       "[36, 49, 64, 81]"
      ]
     },
     "execution_count": 32,
     "metadata": {},
     "output_type": "execute_result"
    }
   ],
   "source": [
    "#Square of number in list\n",
    "def square(a):\n",
    "    for i in range(len(a)):\n",
    "        a[i] = a[i]*a[i]\n",
    "    return a\n",
    "\n",
    "a = [6,7,8,9]\n",
    "square(a)  \n"
   ]
  },
  {
   "cell_type": "code",
   "execution_count": 33,
   "id": "fd7675e9-32a7-444a-a1c5-f6b4ad842eee",
   "metadata": {},
   "outputs": [
    {
     "name": "stdout",
     "output_type": "stream",
     "text": [
      "7\n"
     ]
    }
   ],
   "source": [
    "#lambda function - also known as anonymous function\n",
    "#aise function jisko hum ek function ke andar define and use krte hai\n",
    "#when outer function is called lambda function is automatically call\n",
    "#return by default hota hai lambda mein\n",
    "#Syntax: a = lambda parameters : expressions\n",
    "\n",
    "a = lambda a,b : a+b\n",
    "print(a(3,4))"
   ]
  },
  {
   "cell_type": "code",
   "execution_count": 43,
   "id": "21c773c3-7f67-4373-8967-fc341fdd756a",
   "metadata": {},
   "outputs": [
    {
     "name": "stdout",
     "output_type": "stream",
     "text": [
      "12\n",
      "12\n",
      "15\n",
      "13\n",
      "33\n"
     ]
    }
   ],
   "source": [
    "#Generator function - allow us to return multiple value\n",
    "def Abc():\n",
    "    return 12\n",
    "    return 13\n",
    "\n",
    "print(Abc())\n",
    "print(Abc())\n",
    "\n",
    "#to retutn multiple things using generator function\n",
    "def XYZ():\n",
    "    yield 15\n",
    "    yield 13\n",
    "    yield 33\n",
    "\n",
    "gen=XYZ()\n",
    "print(next(gen))\n",
    "print(next(gen))\n",
    "print(next(gen))"
   ]
  },
  {
   "cell_type": "code",
   "execution_count": null,
   "id": "32071da3-431c-4a0f-b9c3-ac95699b8a13",
   "metadata": {},
   "outputs": [],
   "source": []
  }
 ],
 "metadata": {
  "kernelspec": {
   "display_name": "Python 3 (ipykernel)",
   "language": "python",
   "name": "python3"
  },
  "language_info": {
   "codemirror_mode": {
    "name": "ipython",
    "version": 3
   },
   "file_extension": ".py",
   "mimetype": "text/x-python",
   "name": "python",
   "nbconvert_exporter": "python",
   "pygments_lexer": "ipython3",
   "version": "3.12.1"
  }
 },
 "nbformat": 4,
 "nbformat_minor": 5
}
