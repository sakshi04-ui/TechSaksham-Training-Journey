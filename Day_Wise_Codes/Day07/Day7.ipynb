{
 "cells": [
  {
   "cell_type": "code",
   "execution_count": 31,
   "id": "69da20a0-5977-4194-887b-35f21e18bfce",
   "metadata": {},
   "outputs": [
    {
     "name": "stdout",
     "output_type": "stream",
     "text": [
      "2025-02-18 10:31:27.928454\n",
      "2025\n",
      "2\n",
      "18\n",
      "2025-02-18\n",
      "February/2025/18\n",
      "Feb/25/18, 10:31:27\n",
      "Feb/25/18, 10:31:27\n",
      "28 days, 0:00:00\n"
     ]
    }
   ],
   "source": [
    "#alternate approach :import  datetime\n",
    "# now = datetime.datetime.now()\n",
    "# print(now)\n",
    "#if only date require instead of datetime just import date same for time\n",
    "from datetime import datetime , date, time, timedelta\n",
    "\n",
    "now = datetime.now()\n",
    "print(now)\n",
    "print(now.year)\n",
    "print(now.month)\n",
    "print(now.day)\n",
    "\n",
    "d=date.today()\n",
    "print(d)\n",
    "print(d.strftime('%B/%Y/%d')) #b for short from month or %B full form of month #%Y for year %d for day\n",
    "print(now.strftime('%b/%y/%d, %H:%M:%S')) #H prints time in format of 24 hours while I in 12 hours\n",
    "print(now.strftime('%b/%y/%d, %I:%M:%S'))\n",
    "\n",
    "\n",
    "# print(now.hour)\n",
    "# print(now.minute)\n",
    "# print(now.second)\n",
    "\n",
    "#Get Future Date that ecommerce use\n",
    "a = timedelta(days = 10)\n",
    "b = timedelta(now.day)\n",
    "print(a+b)\n"
   ]
  },
  {
   "cell_type": "code",
   "execution_count": null,
   "id": "6e55bd7f-11be-4d58-a350-f27029923cdb",
   "metadata": {},
   "outputs": [],
   "source": []
  }
 ],
 "metadata": {
  "kernelspec": {
   "display_name": "Python 3 (ipykernel)",
   "language": "python",
   "name": "python3"
  },
  "language_info": {
   "codemirror_mode": {
    "name": "ipython",
    "version": 3
   },
   "file_extension": ".py",
   "mimetype": "text/x-python",
   "name": "python",
   "nbconvert_exporter": "python",
   "pygments_lexer": "ipython3",
   "version": "3.12.1"
  }
 },
 "nbformat": 4,
 "nbformat_minor": 5
}
