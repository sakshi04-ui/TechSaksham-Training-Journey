{
 "cells": [
  {
   "cell_type": "code",
   "execution_count": 7,
   "id": "e1ef381e-43e7-4769-be5c-aca02882571b",
   "metadata": {},
   "outputs": [
    {
     "name": "stdout",
     "output_type": "stream",
     "text": [
      "(2, 'Avira', 2)\n"
     ]
    }
   ],
   "source": [
    "#fetching data\n",
    "import pymysql\n",
    "\n",
    "myconn = pymysql.connect(\n",
    "    host = 'localhost',\n",
    "    user = 'root',\n",
    "    password = 'Sashu_04',\n",
    "    database = 'pywit'\n",
    ")\n",
    "cur = myconn.cursor()\n",
    "cur.execute('select * from newhaha')\n",
    "a = cur.fetchone()\n",
    "print(a)"
   ]
  },
  {
   "cell_type": "code",
   "execution_count": 8,
   "id": "2ab1fa65-c09d-4186-98ed-bdb81de41040",
   "metadata": {},
   "outputs": [
    {
     "name": "stdout",
     "output_type": "stream",
     "text": [
      "(2, 'Avira', 2)\n",
      "(3, 'Sau', 22)\n",
      "(4, 'Shreya', 21)\n",
      "(5, 'Avira', 2)\n",
      "(6, 'AVI', 25)\n",
      "(7, 'Rohit', 21)\n"
     ]
    }
   ],
   "source": [
    "#Fetching all data\n",
    "import pymysql\n",
    "myconn = pymysql.connect(\n",
    "    host ='localhost',\n",
    "    user ='root',\n",
    "    password ='Sashu_04',\n",
    "    database ='pywit'\n",
    ")\n",
    "cur = myconn.cursor()\n",
    "#cur.execute('update newdata set name=\"I dont-know\" where id= 3 )\n",
    "#myconn.commit()\n",
    "cur.execute('select * from newhaha')\n",
    "a = cur.fetchall()\n",
    "for i in a:\n",
    "        print(i)"
   ]
  },
  {
   "cell_type": "code",
   "execution_count": 7,
   "id": "88e6cccc-1743-4e49-806e-9d7437cc12bb",
   "metadata": {},
   "outputs": [
    {
     "name": "stdout",
     "output_type": "stream",
     "text": [
      "Data Inserted Successfully...\n"
     ]
    }
   ],
   "source": [
    "import pymysql\n",
    "\n",
    "conn = pymysql.connect(\n",
    "    host = 'localhost',\n",
    "    user = 'root',\n",
    "    password = 'Sashu_04',\n",
    "    database = 'pywit'\n",
    ")\n",
    "\n",
    "cur = conn.cursor()\n",
    "\n",
    "def createTable(tname):\n",
    "    try:\n",
    "        t = f'create table {tname}(id int primary key auto_increment, name varchar(20), dob date, location varchar(20))'\n",
    "        cur.execute(t)\n",
    "        print(f\"{tname} table created successfully...\")\n",
    "    except:\n",
    "        print(f\"Table {tname} already exists...Try Diff Name\")\n",
    "# createTable('Timepass')\n",
    "\n",
    "def Rename(oldname,newname):\n",
    "    try:\n",
    "        \n",
    "        query = f\"alter table {oldname} rename to {newname}\"\n",
    "        cur.execute(query)\n",
    "        print(f\"{oldname} table name updated to {newname}\")\n",
    "    except:\n",
    "        print(f\"Maybe this table does not exist with name {oldname}\")\n",
    "# Rename('timewaste','timepass')\n",
    "\n",
    "def AddColumn(tname,cname):\n",
    "    try:\n",
    "        query = f'alter table {tname} add column {cname}'\n",
    "        cur.execute(query)\n",
    "        print(f'{cname} added to {tname}')\n",
    "    except:    \n",
    "        print(f\"{cname} does not exist or {tname} does not exist check values again\")\n",
    "# AddColumn('timepass','city varchar(20) not null')\n",
    "    \n",
    "def ColumnRename(tname,coldname,cnewname):\n",
    "    try: \n",
    "        query = f'alter table {tname} change {coldname} {cnewname} '\n",
    "        cur.execute(query)\n",
    "        print(f'{coldname} update to {cnewname}')\n",
    "    except:\n",
    "        print(f\"{coldname} does not exist or {tname} does not exist check values again\")\n",
    "# ColumnRename('timepass','location','address varchar(20)')\n",
    "\n",
    "def modifyColumn(tname,cname,dtype):\n",
    "    try:\n",
    "        query = f'alter table {tname} modify column {cname} {dtype}'\n",
    "        cur.execute(query)\n",
    "        print(f\"Column {cname} modified sucessfully...\")\n",
    "    except:\n",
    "        print(f\"{cname} does not exist\")\n",
    "# modifyColumn('timepass','address', 'int')\n",
    "\n",
    "def TableDelete(tname):\n",
    "    try:\n",
    "        query = f'drop table {tname}'\n",
    "        cur.execute(query)\n",
    "        print(f'{tname} deleted sucessfully')\n",
    "    except:\n",
    "        print(\"Something went Wrong\")\n",
    "# TableDelete('hey')\n",
    "\n",
    "def Truncate(tname):\n",
    "    try:\n",
    "        query =f'truncate table {tname}'\n",
    "        cur.execute(query)\n",
    "        print(f'Table {tname} is truncated sucessfully or maybe all values deleted you can check cmd as you dont trust this')\n",
    "    except:\n",
    "        print(\"Something went Wrong\")\n",
    "# Truncate('newhaha')\n",
    "\n",
    "def DataInsert(tname,name,dob,city):\n",
    "    try:\n",
    "        query = f'insert into {tname} (name,dob,city) values(%s,%s,%s)'\n",
    "        value = (name,dob,city)\n",
    "        cur.execute(query,value)\n",
    "        conn.commit()\n",
    "        print(\"Data Entered Successfully\")\n",
    "    except:\n",
    "        print(\"check table and data entered\")\n",
    "# DataInsert('timepass','nam','2023-2-17','Solpaur')\n",
    "\n",
    "def DeleteData(tname,id1):\n",
    "    try:\n",
    "        query = f'delete from {tname} where id = {id1}'\n",
    "        cur.execute(query)\n",
    "        conn.commit()\n",
    "        print(\"Data Deleted Successfully\")\n",
    "    except:\n",
    "        print(\"Error im DeleteData func\")\n",
    "# DeleteData('timepass',2)\n",
    "\n",
    "\n",
    "def DeleteDataName(tname,name):\n",
    "    try:\n",
    "        query = f'delete from {tname} where name = %s'\n",
    "        cur.execute(query,(name))\n",
    "        conn.commit()\n",
    "        print(\"Data Deleted Successfully\")\n",
    "    except:\n",
    "        print(\"Entry does not exist\")\n",
    "# DeleteDataName('timepass','nam')\n",
    "\n",
    "def Update(tname,id1):\n",
    "    query=f'select * from {tname} where id = {id1}'\n",
    "    cur.execute(query)\n",
    "    a = cur.fetchone()\n",
    "    def upin(name,dob,city):\n",
    "        cur.execute(f'update {tname} set name=%s, dob=%s,city=%s where id=%s',(name, dob,city, id1))\n",
    "        conn.commit()\n",
    "    upin(name='Sakshi',dob=a[2],city='Solapur')\n",
    "# Update('timepass',5)\n",
    "\n",
    "def Filter(tname,start,end):\n",
    "    query = f'select * from {tname} where name like \"{start}%{end}\"'\n",
    "    cur.execute(query)\n",
    "    a=cur.fetchall()\n",
    "    print(a)\n",
    "# Filter('timepass','A','a')\n",
    "\n",
    "def DataInsertMany(tname,*data):\n",
    "    try:\n",
    "        query = f'insert into {tname}(name,dob,city) values (%s,%s,%s)'\n",
    "        value = list(data)\n",
    "        cur.executemany(query,value)\n",
    "        conn.commit()\n",
    "        print(\"Data Inserted Successfully...\")\n",
    "    except:\n",
    "        print(\"Problem...too much problem\")\n",
    "# DataInsertMany('timepass',('Sau','2004-12-1','Solapur'))\n"
   ]
  },
  {
   "cell_type": "code",
   "execution_count": 7,
   "id": "7ecf5cc7-a0e3-44e8-86db-a0b8c970fe5a",
   "metadata": {},
   "outputs": [
    {
     "name": "stdin",
     "output_type": "stream",
     "text": [
      "Enter table name: students\n",
      "Enter Column name data types and constraints or use break:  seat_no int primary key auto_increment\n",
      "Enter Column name data types and constraints or use break:  name varchar(200)\n",
      "Enter Column name data types and constraints or use break:  DOB date\n",
      "Enter Column name data types and constraints or use break:  schlname varchar(200)\n",
      "Enter Column name data types and constraints or use break:  break\n"
     ]
    },
    {
     "name": "stdout",
     "output_type": "stream",
     "text": [
      "students table created successfully...\n"
     ]
    }
   ],
   "source": [
    "#Creating table by taking input from user for no. of columns and table anme\n",
    "import pymysql\n",
    "\n",
    "conn = pymysql.connect(\n",
    "    host = 'localhost',\n",
    "    user = 'root',\n",
    "    password = 'Sashu_04',\n",
    "    database = 'pywit'\n",
    ")\n",
    "\n",
    "cur = conn.cursor()\n",
    "\n",
    "a = []\n",
    "tname = input(\"Enter table name:\")\n",
    "while True:\n",
    "    column = input(\"Enter Column name data types and constraints or use break: \" )\n",
    "    if column == 'break':\n",
    "        break\n",
    "    a.append(column)\n",
    "\n",
    "columns_str = \", \".join(a) \n",
    "query =f'create table {tname}({columns_str})'\n",
    "cur.execute(query)\n",
    "print(f\"{tname} table created successfully...\")"
   ]
  },
  {
   "cell_type": "code",
   "execution_count": 33,
   "id": "ebc0834b-051a-4ed5-b7a2-a07c955c7937",
   "metadata": {},
   "outputs": [
    {
     "name": "stdin",
     "output_type": "stream",
     "text": [
      "Enter your name:  Sakshi\n",
      "Enter your seat_no:  1\n"
     ]
    },
    {
     "name": "stdout",
     "output_type": "stream",
     "text": [
      "Hey Sakshi trying to fetch your data...\n",
      "English:  90\n",
      "Maths:  85\n",
      "Physics:  90\n",
      "Hindi:  85\n",
      "Marathi:  90\n",
      "Sanskrti:  85\n",
      "Your Average Score is: 87.5\n",
      "Excellent\n"
     ]
    }
   ],
   "source": [
    "import pymysql\n",
    "\n",
    "conn = pymysql.connect(\n",
    "    host = 'localhost',\n",
    "    user = 'root',\n",
    "    password = 'Sashu_04',\n",
    "    database = 'pywit'\n",
    ")\n",
    "\n",
    "cur = conn.cursor()\n",
    "name = input(\"Enter your name: \")\n",
    "seat = int(input(\"Enter your seat_no: \"))\n",
    "print(f\"Hey {name} trying to fetch your data...\")\n",
    "b=0\n",
    "\n",
    "def Filter(tname,seat):\n",
    "    query = f'select * from {tname} where seat_no = %s'\n",
    "    cur.execute(query,(seat,))\n",
    "    a=cur.fetchall()\n",
    "    # print(f\"Your marks for each subject are: {a}\")\n",
    "    for i in a:\n",
    "        print(\"English: \",a[0][0])\n",
    "        print(\"Maths: \",a[0][1])\n",
    "        print(\"Physics: \",a[0][2])\n",
    "        print(\"Hindi: \",a[0][3])\n",
    "        print(\"Marathi: \",a[0][4])\n",
    "        print(\"Sanskrti: \",a[0][5])\n",
    "        b = (sum(i[0:6]))/6\n",
    "    print(f\"Your Average Score is: {b}\")\n",
    "    return b\n",
    "\n",
    "b = Filter('marks',seat)\n",
    "if b > 90:\n",
    "    print(\"Extra Ordinary\")\n",
    "elif b > 85:\n",
    "    print(\"Excellent\")\n",
    "elif b > 60:\n",
    "    print(\"Average\")\n",
    "elif b >= 40:\n",
    "    print(\"Pass\")\n",
    "else:\n",
    "    print(\"Fail\")\n",
    "\n"
   ]
  },
  {
   "cell_type": "code",
   "execution_count": 35,
   "id": "e9d4406e-dbb6-4752-ad3e-c755032521fa",
   "metadata": {},
   "outputs": [
    {
     "name": "stdout",
     "output_type": "stream",
     "text": [
      "{\"name\": \"abc\", \"age\": 21}\n"
     ]
    }
   ],
   "source": [
    "#JSON working\n",
    "#Json always contains dounle quote\n",
    "import json\n",
    "\n",
    "a = {'name':'abc', 'age':21}\n",
    "b = json.dumps(a)\n",
    "print(b)"
   ]
  },
  {
   "cell_type": "code",
   "execution_count": null,
   "id": "e5bb2878-e126-4f1d-a589-be2193fc20f9",
   "metadata": {},
   "outputs": [],
   "source": []
  }
 ],
 "metadata": {
  "kernelspec": {
   "display_name": "Python 3 (ipykernel)",
   "language": "python",
   "name": "python3"
  },
  "language_info": {
   "codemirror_mode": {
    "name": "ipython",
    "version": 3
   },
   "file_extension": ".py",
   "mimetype": "text/x-python",
   "name": "python",
   "nbconvert_exporter": "python",
   "pygments_lexer": "ipython3",
   "version": "3.13.2"
  }
 },
 "nbformat": 4,
 "nbformat_minor": 5
}
