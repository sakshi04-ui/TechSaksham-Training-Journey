{
 "cells": [
  {
   "cell_type": "code",
   "execution_count": 8,
   "id": "2e154716-976a-4c4d-b1a2-debe92407b71",
   "metadata": {},
   "outputs": [
    {
     "name": "stdout",
     "output_type": "stream",
     "text": [
      "12\n",
      "ABC\n",
      "ABC\n",
      "XYZ\n",
      "PQR\n",
      "Outside class printing: PQR\n"
     ]
    }
   ],
   "source": [
    "#Morning session\n",
    "'''Encapsulation:\n",
    "1. Private method : __\n",
    "2. Protected method : _\n",
    "'''\n",
    "#Private Variables\n",
    "class Data:\n",
    "   def __init__(self,__amt):#here amt is private variable declares using __(two underscore)\n",
    "       self.__amt = __amt\n",
    "       print(self.__amt)\n",
    "\n",
    "obj = Data(12)\n",
    "#print(obj.__amt)\n",
    "\n",
    "#Public Variable\n",
    "class Data1:\n",
    "    def __init__(self,name):\n",
    "        self.name = name\n",
    "        print(self.name)\n",
    "\n",
    "obj = Data1(\"ABC\")\n",
    "print(obj.name)\n",
    "obj.name = \"XYZ\"\n",
    "print(obj.name)\n",
    "\n",
    "#Protected variable\n",
    "class Data2:\n",
    "    def __init__(self,_name):\n",
    "        self._name = _name\n",
    "        print(self._name)\n",
    "\n",
    "obj = Data2(\"PQR\")\n",
    "print(\"Outside class printing:\",obj._name)"
   ]
  },
  {
   "cell_type": "code",
   "execution_count": 16,
   "id": "425f44ae-5129-4351-a003-128122baf4f8",
   "metadata": {},
   "outputs": [
    {
     "name": "stdout",
     "output_type": "stream",
     "text": [
      "30\n"
     ]
    }
   ],
   "source": [
    "#private with inheritance : We cannot access private variable in inherited class also\n",
    "#from example we can see if we call show it will not print as it is in another class but show1 can print it as it is in same class\n",
    "class A:\n",
    "    def __init__(self,__amt):\n",
    "        self.__amt = __amt\n",
    "\n",
    "    def show1(self):\n",
    "        print(self.__amt)\n",
    "        \n",
    "class B(A):\n",
    "    def show(self):\n",
    "        print(self.__amt)\n",
    "\n",
    "obj = B(30)\n",
    "#obj.show()\n",
    "obj.show1()"
   ]
  },
  {
   "cell_type": "code",
   "execution_count": 19,
   "id": "01efd95f-0269-4309-829b-a99146759b11",
   "metadata": {},
   "outputs": [
    {
     "name": "stdout",
     "output_type": "stream",
     "text": [
      "50\n"
     ]
    }
   ],
   "source": [
    "#AS python is less secure as it is lossely typed, we can see that we can access private variable too outside the class\n",
    "class A:\n",
    "    def __init__(self,__amt):\n",
    "        self.__amt = __amt\n",
    "\n",
    "obj = A(50)\n",
    "#Trick to access private variable outside class\n",
    "# to access the private variable outside the class while calling the variable along with variable name add class name with underscore before it (_A__amt)\n",
    "print(obj._A__amt) "
   ]
  },
  {
   "cell_type": "code",
   "execution_count": 40,
   "id": "5e9d4401-eee3-46eb-8bbe-5aa8c815254f",
   "metadata": {},
   "outputs": [
    {
     "name": "stdout",
     "output_type": "stream",
     "text": [
      "This is private method...\n",
      "Sakshi\n",
      "\n",
      "Correcting code\n",
      "\n",
      "Sakshi\n",
      "This is a private method...\n"
     ]
    }
   ],
   "source": [
    "#Private Maethods\n",
    "\n",
    "#Now in this code technically frist name should eb print and then show() stmt but its opposite bacuse first \n",
    "'''Reason:\n",
    "Any code directly inside a class (but not inside methods) executes as soon as Python reads the class.\n",
    "That’s why __show() was executed before the object was even created.(Details in document)\n",
    "'''\n",
    "class A:\n",
    "    def __init__(self,name):\n",
    "        self.name = name\n",
    "        print(self.name)\n",
    "\n",
    "    #Create private method : __methodName(use double underscore before name amd it will convert it i private)\n",
    "    def __show(): #we should not write self if calling directly in class\n",
    "        print(\"This is private method...\")\n",
    "    #To call private method we can call it in same class or same class but different method \n",
    "    __show()\n",
    "\n",
    "obj = A(\"Sakshi\")\n",
    "#obj.__show :Throws error as private accessing\n",
    "\n",
    "print()\n",
    "print(\"Correcting code sequence\")\n",
    "print()\n",
    "\n",
    "#Correct code or clarity in code execution\n",
    "class A:\n",
    "    def __init__(self, name):\n",
    "        self.name = name\n",
    "        print(self.name)\n",
    "        self.__show()  # ✅ Now, __show() is only called when an object is created\n",
    "\n",
    "    def __show(self):  # ✅ Fixed: added self\n",
    "        print(\"This is a private method...\")\n",
    "\n",
    "# Creating an object\n",
    "obj = A(\"Sakshi\")\n",
    "\n"
   ]
  },
  {
   "cell_type": "code",
   "execution_count": 61,
   "id": "2ac9cd21-8e6e-4659-8dae-5627d8b2ce5a",
   "metadata": {},
   "outputs": [
    {
     "name": "stdout",
     "output_type": "stream",
     "text": [
      "Calling private method into my method\n",
      "This is my private method\n"
     ]
    }
   ],
   "source": [
    "#call private method in different method but in same class\n",
    "class A:\n",
    "    def __show(self):\n",
    "        print(\"This is my private method\")\n",
    "\n",
    "    def call(self):\n",
    "        print(\"Calling private method into my method\")\n",
    "        self.__show()\n",
    "\n",
    "obj =A()\n",
    "obj.call()"
   ]
  },
  {
   "cell_type": "code",
   "execution_count": 31,
   "id": "5b63d973-2bc4-478d-a624-115f5fb811e9",
   "metadata": {},
   "outputs": [
    {
     "name": "stdout",
     "output_type": "stream",
     "text": [
      "Private method calling outside the class\n"
     ]
    }
   ],
   "source": [
    "#Accessing private method outside the class\n",
    "class A:\n",
    "    def __show(self):\n",
    "        print(\"Private method calling outside the class\")\n",
    "\n",
    "obj = A()\n",
    "obj._A__show()"
   ]
  },
  {
   "cell_type": "code",
   "execution_count": 43,
   "id": "46ea77dd-fd49-4b17-a3d7-bf68f88d3da2",
   "metadata": {},
   "outputs": [
    {
     "name": "stdout",
     "output_type": "stream",
     "text": [
      "Second Method\n"
     ]
    }
   ],
   "source": [
    "#polymorphism \n",
    "\n",
    "#method overriding\n",
    "\n",
    "class A:\n",
    "    def show(self):\n",
    "        print(\"First Class\")\n",
    "class B:\n",
    "    def show(self):\n",
    "        print(\"Second Method\")\n",
    "obj = B()\n",
    "obj.show()       #method overriding(class B overrides classA)"
   ]
  },
  {
   "cell_type": "code",
   "execution_count": 48,
   "id": "6a8fdf04-dd68-41f7-9667-3b6c02fcbc0e",
   "metadata": {},
   "outputs": [
    {
     "name": "stdout",
     "output_type": "stream",
     "text": [
      "1 2\n",
      "3 4\n",
      "(4, 6)\n"
     ]
    }
   ],
   "source": [
    "#OPERATOR OVERLOADING USING MAGIC METHODS\n",
    "\n",
    "class A:\n",
    "    def __init__(self,a,b):\n",
    "        self.a = a\n",
    "        self.b = b\n",
    "        print(self.a,self.b)\n",
    "\n",
    "    def __add__(left,right):\n",
    "        a = left.a + right.a\n",
    "        b = left.b + right.b\n",
    "        return (a , b)\n",
    "        #return(f\"{left.a + right.a},{left.b+right.b}\")\n",
    "        \n",
    "\n",
    "obj = A(1,2)\n",
    "obj1 = A(3,4)\n",
    "print(obj+obj1)\n",
    "#print(obj.a + obj1.a, obj.b + obj1.b)"
   ]
  },
  {
   "cell_type": "code",
   "execution_count": 58,
   "id": "d0109fd5-44ce-4b9c-8eae-955b98c46df9",
   "metadata": {},
   "outputs": [
    {
     "name": "stdout",
     "output_type": "stream",
     "text": [
      "3 2\n",
      "3 4\n",
      "(9, 8)\n",
      "1.0,0.5\n",
      "0,-2\n",
      "False,False\n",
      "False, True\n",
      "False, True\n",
      "False,False\n",
      "True, False\n"
     ]
    }
   ],
   "source": [
    "''' Magic Method To perform\n",
    "\n",
    "__mul__\n",
    "__truediv__\n",
    "__sub__\n",
    "__gt__\n",
    "__lt__\n",
    "__eq__\n",
    "'''\n",
    "class A:\n",
    "    def __init__(self,a,b):\n",
    "        self.a = a\n",
    "        self.b = b\n",
    "        print(self.a,self.b)\n",
    "\n",
    "    def __mul__(left,right):\n",
    "        a = left.a * right.a\n",
    "        b = left.b * right.b\n",
    "        return (a , b)\n",
    "\n",
    "    def __truediv__(left,right):\n",
    "        return(f\"{left.a / right.a},{left.b / right.b}\")\n",
    "\n",
    "    def __sub__(left,right):\n",
    "        return(f\"{left.a - right.a},{left.b - right.b}\")\n",
    "\n",
    "    def __gt__(left,right):\n",
    "        return(f\"{left.a > right.a},{left.b > right.b}\")\n",
    "\n",
    "    def __lt__(left,right):\n",
    "        return(f\"{left.a<right.a}, {left.b < right.b}\")\n",
    "\n",
    "    def __eq__(left,right):\n",
    "        return(f\"{left.a == right.a}, {left.b == right.b}\")\n",
    "\n",
    "# Multiplication\n",
    "obj = A(3,2)\n",
    "obj1 = A(3,4)\n",
    "print(obj*obj1)\n",
    "\n",
    "#Division\n",
    "print(obj/obj1)\n",
    "\n",
    "#Multiplication\n",
    "print(obj-obj1)\n",
    "\n",
    "#Greater Than\n",
    "print(obj>obj1)\n",
    "print(obj<obj1)\n",
    "\n",
    "#Less Than\n",
    "print(obj<obj1)\n",
    "print(obj>obj1)\n",
    "\n",
    "#Equal to\n",
    "print(obj == obj1)"
   ]
  },
  {
   "cell_type": "code",
   "execution_count": 60,
   "id": "6cbb153e-f1f5-40fb-bca5-2ed1f4cbe3ae",
   "metadata": {},
   "outputs": [
    {
     "name": "stdout",
     "output_type": "stream",
     "text": [
      "Abstraction....\n"
     ]
    }
   ],
   "source": [
    "#Abstraction\n",
    "#abstraction is not default in python so we rquire to import it\n",
    "from abc import ABC,abstractmethod\n",
    "\n",
    "class Data(ABC):\n",
    "    @abstractmethod\n",
    "    def show(self):\n",
    "        pass\n",
    "\n",
    "class Data1(Data):\n",
    "    def show(self):\n",
    "        print(\"Abstraction....\")\n",
    "\n",
    "obj = Data1()\n",
    "obj.show()"
   ]
  },
  {
   "cell_type": "code",
   "execution_count": null,
   "id": "276f89e6-cbe0-4972-9132-c3ef80dd2330",
   "metadata": {},
   "outputs": [],
   "source": [
    "#Exception Handling\n",
    "\n",
    "'''\n",
    "try:\n",
    "    main logic of application\n",
    "except:\n",
    "    here your error get raise if it found in try\n",
    "'''"
   ]
  },
  {
   "cell_type": "code",
   "execution_count": 64,
   "id": "8a62996b-ef00-4d4c-8a1c-aee2a4ff0770",
   "metadata": {},
   "outputs": [
    {
     "name": "stdout",
     "output_type": "stream",
     "text": [
      "Try is working fine...\n",
      "Error in code\n"
     ]
    }
   ],
   "source": [
    "#But we cant write this way as if there are many liens in code we need to find what is causing error so that is why we use next method\n",
    "try:\n",
    "    print(\"Try is working fine...\")\n",
    "    a = 1/0\n",
    "except:\n",
    "    print(\"Error in code\")"
   ]
  },
  {
   "cell_type": "code",
   "execution_count": 65,
   "id": "bedc24a9-174c-4d26-bb2d-9ac94cb47500",
   "metadata": {
    "scrolled": true
   },
   "outputs": [
    {
     "name": "stdout",
     "output_type": "stream",
     "text": [
      "division by zero\n"
     ]
    }
   ],
   "source": [
    "try:\n",
    "    a = 1 / 0\n",
    "except Exception as a:\n",
    "    print(a)"
   ]
  },
  {
   "cell_type": "code",
   "execution_count": 71,
   "id": "d3774686-9121-42e4-ba28-d6e5ecccb6ba",
   "metadata": {},
   "outputs": [
    {
     "name": "stdout",
     "output_type": "stream",
     "text": [
      "2\n",
      "Try executed sucessfully(jab bhi try mein error nhi hoga togh mein yaane else exeucte honga)...\n",
      "Hum humesha aayenge....Always Run\n"
     ]
    }
   ],
   "source": [
    "#\n",
    "try:\n",
    "    a = [1,2]\n",
    "    print(a[1])\n",
    "    print(a[4])\n",
    "    #print(\"Working...\")\n",
    "except Exception as a:\n",
    "    print(\"AGr apun aya toh else anhi ayega ERROR: \",a)\n",
    "\n",
    "else: \n",
    "    print(\"Try executed sucessfully(jab bhi try mein error nhi hoga togh mein yaane else exeucte honga)...\")\n",
    "finally:\n",
    "    print(\"Hum humesha aayenge....Always Run\")"
   ]
  },
  {
   "cell_type": "code",
   "execution_count": 86,
   "id": "7ea94a70-8760-4e10-b689-dbe9fdbfbc38",
   "metadata": {},
   "outputs": [
    {
     "name": "stdin",
     "output_type": "stream",
     "text": [
      "Enter the minimum budget you have:  100000\n",
      "Enter the maximum budget you have:  1000000\n"
     ]
    },
    {
     "name": "stdout",
     "output_type": "stream",
     "text": [
      "\n",
      "🚗 Available Luxury Cars (10,00,000+ Budget):\n",
      "Company: Rolls-Royce, \n",
      "Model: Phantom, \n",
      "Features: Ultimate luxury, nice interior, niceengine, \n",
      "Price: 5000000\n",
      "\n",
      "Company: Ferrari, \n",
      "Model: SF90 Stradale, \n",
      "Features: Ultimate luxury, nice interior, niceengine, \n",
      "Price: 4000000\n",
      "\n",
      "Company: Bugatti, \n",
      "Model: Chiron, \n",
      "Features: Ultimate luxury, nice interior, niceengine, \n",
      "Price: 10000000\n",
      "\n",
      "Company: Lamborghini, \n",
      "Model: Aventador, \n",
      "Features: Ultimate luxury, nice interior, niceengine, \n",
      "Price: 50000000\n",
      "\n",
      "Company: McLaren, \n",
      "Model: P1, \n",
      "Features: Ultimate luxury, nice interior, niceengine, \n",
      "Price: 1000000\n",
      "\n"
     ]
    }
   ],
   "source": [
    "def Cardekho():\n",
    "    try:\n",
    "        min_budget = int(input(\"Enter the minimum budget you have: \"))\n",
    "        max_budget = int(input(\"Enter the maximum budget you have: \"))\n",
    "\n",
    "        if min_budget <= 0 and max_budget <= 100000:\n",
    "            raise ValueError(\"No car available within this budget range.\")\n",
    "\n",
    "        if max_budget >= 1000000:\n",
    "            cars = [\n",
    "                {\"Company\": \"Rolls-Royce\", \"Model\": \"Phantom\", \"Features\": \"Ultimate luxury, nice interior, niceengine\",\"price\":5000000},\n",
    "                {\"Company\": \"Ferrari\", \"Model\": \"SF90 Stradale\", \"Features\": \"Ultimate luxury, nice interior, niceengine\",\"price\":4000000},\n",
    "                {\"Company\": \"Bugatti\", \"Model\": \"Chiron\", \"Features\": \"Ultimate luxury, nice interior, niceengine\",\"price\":10000000},\n",
    "                {\"Company\": \"Lamborghini\", \"Model\": \"Aventador\", \"Features\": \"Ultimate luxury, nice interior, niceengine\",\"price\":50000000},\n",
    "                {\"Company\": \"McLaren\", \"Model\": \"P1\", \"Features\": \"Ultimate luxury, nice interior, niceengine\",\"price\":1000000}\n",
    "            ]\n",
    "\n",
    "            print(\"\\n🚗 Available Luxury Cars (10,00,000+ Budget):\")\n",
    "            for car in cars:\n",
    "                print(f\"Company: {car['Company']}, \\nModel: {car['Model']}, \\nFeatures: {car['Features']}, \\nPrice: {car['price']}\")\n",
    "                print()\n",
    "\n",
    "        elif max_budget >= 500000:\n",
    "            cars = [\n",
    "                {\"Company\": \"Mercedes-Benz\", \"Model\": \"S-Class\", \"Features\": \"Luxury, fast acceleration, nice interior\",\"price\":500000},\n",
    "                {\"Company\": \"BMW\", \"Model\": \"7 Series\", \"Features\": \"Premium interior, hybrid option, automatic\",\"price\":900000},\n",
    "                {\"Company\": \"Audi\", \"Model\": \"A8\", \"Features\": \"Electric, autopilot, fast acceleration\",\"price\":6000000},\n",
    "                {\"Company\": \"Tesla\", \"Model\": \"Model S\", \"Features\": \"Electric, autopilot, fast acceleration\",\"price\":7500000},\n",
    "                {\"Company\": \"Lamborghini\", \"Model\": \"Huracán\", \"Features\": \"Supercar, speed,classy\",\"price\":500000}\n",
    "            ]\n",
    "\n",
    "            print(\"\\n🚘 Available High-End Cars (5,00,000+ Budget):\")\n",
    "            for car in cars:\n",
    "                print(f\"Company: {car['Company']}, \\nModel: {car['Model']}, \\nFeatures: {car['Features']}, \\nPrice: {car['price']}\")\n",
    "                print()\n",
    "        else:\n",
    "            print(\"Right now we do not have cars available for you in this budget...\")\n",
    "\n",
    "    except ValueError as e:\n",
    "        print(\"Error:\", e)\n",
    "\n",
    "Cardekho()\n"
   ]
  },
  {
   "cell_type": "code",
   "execution_count": null,
   "id": "f06b4f6a-fb2c-4d68-8c26-37e9bfee0c1a",
   "metadata": {},
   "outputs": [],
   "source": [
    "#File-handling\n",
    "\n",
    "'''\n",
    "These are modes of file\n",
    "r - is used to read the file\n",
    "x - is used to create a file\n",
    "w - is used to write a file data\n",
    "a - is sued to append data into file and its also create a file\n",
    "\n",
    "These are functions on line\n",
    "open - is sued tom open the file for operations\n",
    "close - is used to close the file operations\n",
    "read - is used to read the file\n",
    "readline - is used to read a single line\n",
    "readlines - is used to read multiple lines\n",
    "\n",
    "Syntax :\n",
    "variable = open(FilePath, mode)\n",
    "'''"
   ]
  },
  {
   "cell_type": "code",
   "execution_count": 88,
   "id": "60c51232-75d8-4fcb-8ddf-72afabb3d867",
   "metadata": {},
   "outputs": [],
   "source": [
    "#a ka bhi disadvantage hai ki agar woh file already created hai toh woh error ega but a ignore kr dega woh cammadn\n",
    "f = open(\"FileHandling//first.txt\",\"x\")"
   ]
  },
  {
   "cell_type": "code",
   "execution_count": 92,
   "id": "e06f0ae3-ecbf-4cb8-9061-32c1b0672f45",
   "metadata": {},
   "outputs": [
    {
     "data": {
      "text/plain": [
       "89"
      ]
     },
     "execution_count": 92,
     "metadata": {},
     "output_type": "execute_result"
    }
   ],
   "source": [
    "#disadvantage of using w mode is that whenever we perform write operation it will delete previous text and store new data \n",
    "\n",
    "f = open(\"FileHandling//first.txt\", \"w\")\n",
    "f.write(\"This is my First file creation using jupyetr notebook and hello to the one who read it...\")\n"
   ]
  },
  {
   "cell_type": "code",
   "execution_count": 93,
   "id": "44c91cc5-2116-46f7-806f-a0d1cf6ed8be",
   "metadata": {},
   "outputs": [
    {
     "data": {
      "text/plain": [
       "'This is my First file creation using jupyetr notebook and hello to the one who read it...'"
      ]
     },
     "execution_count": 93,
     "metadata": {},
     "output_type": "execute_result"
    }
   ],
   "source": [
    "f = open(\"FileHandling//first.txt\", \"r\")\n",
    "f.read()"
   ]
  },
  {
   "cell_type": "code",
   "execution_count": 94,
   "id": "deaed90c-a847-4c9c-805c-9d7ec84e904c",
   "metadata": {},
   "outputs": [
    {
     "data": {
      "text/plain": [
       "117"
      ]
     },
     "execution_count": 94,
     "metadata": {},
     "output_type": "execute_result"
    }
   ],
   "source": [
    "f = open(\"FileHandling//first.txt\", \"w\")\n",
    "f.write(\"This is my second file creation using jupyetr notebook in same file and checker whether previous is deleted or not...\")\n"
   ]
  },
  {
   "cell_type": "code",
   "execution_count": 95,
   "id": "676d9f1b-9f7e-475e-b9b9-e71c3a89c9d6",
   "metadata": {},
   "outputs": [
    {
     "data": {
      "text/plain": [
       "'This is my second file creation using jupyetr notebook in same file and checker whether previous is deleted or not...'"
      ]
     },
     "execution_count": 95,
     "metadata": {},
     "output_type": "execute_result"
    }
   ],
   "source": [
    "f = open(\"FileHandling//first.txt\", \"r\")\n",
    "f.read()"
   ]
  },
  {
   "cell_type": "code",
   "execution_count": 96,
   "id": "75b455b7-5af2-4c0d-8e66-1b2dc5a1d253",
   "metadata": {},
   "outputs": [
    {
     "data": {
      "text/plain": [
       "21"
      ]
     },
     "execution_count": 96,
     "metadata": {},
     "output_type": "execute_result"
    }
   ],
   "source": [
    "#a can use to create new file and even data from scratch or append new data\n",
    "\n",
    "f = open(\"FileHandling//first.txt\", \"a\")\n",
    "f.write(\"Something new is here\")"
   ]
  },
  {
   "cell_type": "code",
   "execution_count": 97,
   "id": "d4fd430a-155e-413d-abdf-277fa6349d7d",
   "metadata": {},
   "outputs": [
    {
     "data": {
      "text/plain": [
       "'This is my second file creation using jupyetr notebook in same file and checker whether previous is deleted or not...Something new is here'"
      ]
     },
     "execution_count": 97,
     "metadata": {},
     "output_type": "execute_result"
    }
   ],
   "source": [
    "f = open(\"FileHandling//first.txt\", \"r\")\n",
    "f.read()"
   ]
  },
  {
   "cell_type": "code",
   "execution_count": 98,
   "id": "90f0f0f3-8094-4b58-ba42-06a96a05a297",
   "metadata": {},
   "outputs": [],
   "source": [
    "f = open(\"FileHandling//second.txt\", \"a\")\n"
   ]
  },
  {
   "cell_type": "code",
   "execution_count": 99,
   "id": "8ffd4f5d-44c7-42dd-a7cd-d9b83aadd395",
   "metadata": {},
   "outputs": [
    {
     "data": {
      "text/plain": [
       "76"
      ]
     },
     "execution_count": 99,
     "metadata": {},
     "output_type": "execute_result"
    }
   ],
   "source": [
    "f = open(\"FileHandling//second.txt\",\"a\")\n",
    "f.write(\"asfafskdbfsah ivhi hvegheihefhfgev gefgvhhvihfvwe v ev eugvhevegfvhefi v ef \")"
   ]
  },
  {
   "cell_type": "code",
   "execution_count": 103,
   "id": "f66d8017-1a9c-4b09-a40e-a297e26ae5a1",
   "metadata": {},
   "outputs": [
    {
     "data": {
      "text/plain": [
       "'asfafskdbfsah ivhi hvegheihefhfgev gefgvhhvihfvwe v ev eugvhevegfvhefi v ef '"
      ]
     },
     "execution_count": 103,
     "metadata": {},
     "output_type": "execute_result"
    }
   ],
   "source": [
    "f = open(\"FileHandling//second.txt\",\"r\")\n",
    "f.read()\n"
   ]
  },
  {
   "cell_type": "code",
   "execution_count": null,
   "id": "d2894a45-b68a-4c72-a76a-e4675d966afd",
   "metadata": {},
   "outputs": [],
   "source": [
    "'''\n",
    "name\n",
    "class in which they are studing\n",
    "roll no.\n",
    "age\n",
    "'''"
   ]
  },
  {
   "cell_type": "code",
   "execution_count": 16,
   "id": "b38c6fa4-605e-4f85-a882-c1620d08fd20",
   "metadata": {},
   "outputs": [
    {
     "name": "stdin",
     "output_type": "stream",
     "text": [
      "Enter your name Avira\n",
      "Enter the class in which you are studying:  Fy\n",
      "Enter your roll_no 54\n",
      "Enter your age 5\n"
     ]
    },
    {
     "data": {
      "text/plain": [
       "'\\nName: Sakshi \\nClass: TY \\nRoll_No : 55 \\nAge: 20 \\n*************************\\nName: Sara \\nClass: TY \\nRoll_No : 30 \\nAge: 21 \\n*************************\\nName: Avira \\nClass: Fy \\nRoll_No : 54 \\nAge: 5 \\n*************************'"
      ]
     },
     "execution_count": 16,
     "metadata": {},
     "output_type": "execute_result"
    }
   ],
   "source": [
    "f = open(\"FileHandling//StudentData.txt\",\"a\")\n",
    "name = input(\"Enter your name\")\n",
    "Class = input(\"Enter the class in which you are studying: \" )\n",
    "roll = int(input(\"Enter your roll_no\"))\n",
    "age = int(input(\"Enter your age\"))\n",
    "\n",
    "f.write(f\"\\nName: {name} \\nClass: {Class} \\nRoll_No : {roll} \\nAge: {age} \\n*************************\")\n",
    "\n",
    "f = open(\"FileHandling//StudentData.txt\",\"r\")\n",
    "f.read()"
   ]
  },
  {
   "cell_type": "code",
   "execution_count": 17,
   "id": "3e4c0288-b8fc-4711-8ece-533716109856",
   "metadata": {},
   "outputs": [
    {
     "name": "stdin",
     "output_type": "stream",
     "text": [
      "Enter your name Sakshi\n",
      "Enter the class in which you are studying:  TY\n",
      "Enter your roll_no 55\n",
      "Enter your age 30\n"
     ]
    },
    {
     "data": {
      "text/plain": [
       "74"
      ]
     },
     "execution_count": 17,
     "metadata": {},
     "output_type": "execute_result"
    }
   ],
   "source": [
    "name = input(\"Enter your name\")\n",
    "f = open(f\"FileHandling//{name}.txt\",\"a\")\n",
    "\n",
    "Class = input(\"Enter the class in which you are studying: \" )\n",
    "roll = int(input(\"Enter your roll_no\"))\n",
    "age = int(input(\"Enter your age\"))\n",
    "\n",
    "f.write(f\"\\nName: {name} \\nClass: {Class} \\nRoll_No : {roll} \\nAge: {age} \\n*************************\")\n",
    "\n"
   ]
  },
  {
   "cell_type": "code",
   "execution_count": 28,
   "id": "cc17a483-a417-4752-838f-19fb15956c9e",
   "metadata": {},
   "outputs": [
    {
     "name": "stdout",
     "output_type": "stream",
     "text": [
      "218\n"
     ]
    }
   ],
   "source": [
    "#Read no of lines in my file\n",
    "f = open(\"FileHandling//StudentData.txt\",\"r\")\n",
    "count = 0\n",
    "for i in f:\n",
    "    count+=1\n",
    "\n",
    "print(count)"
   ]
  },
  {
   "cell_type": "code",
   "execution_count": 27,
   "id": "89e34257-b809-4424-947a-705850a2b6be",
   "metadata": {},
   "outputs": [
    {
     "name": "stdout",
     "output_type": "stream",
     "text": [
      "This is my second file creation using jupyetr notebook in same file and checker whether previous is deleted or not...Something new is here\n"
     ]
    }
   ],
   "source": [
    "#read few words from file\n",
    "f = open(\"FileHandling//StudentData.txt\",\"r\")\n",
    "#print(f.read(100)) #returns first 100 words from the data\n",
    "\n",
    "print(f.readline())"
   ]
  },
  {
   "cell_type": "code",
   "execution_count": 38,
   "id": "ba9cddf2-cf8e-45e6-a94b-199aa5edd05e",
   "metadata": {},
   "outputs": [
    {
     "name": "stdout",
     "output_type": "stream",
     "text": [
      "30\n",
      "0\n"
     ]
    }
   ],
   "source": [
    "#count no of words in my file\n",
    "f = open(\"FileHandling//StudentData.txt\",\"r\")\n",
    "count = 0\n",
    "for line in f:\n",
    "    words = line.split()  \n",
    "    count += len(words)\n",
    "print(count)\n",
    "\n",
    "a = f.readlines()\n",
    "c1 = 0\n",
    "for line in range(len(a)):\n",
    "    c1 += len(line.split())  # Split each line by spaces and count words\n",
    "print(c1)"
   ]
  },
  {
   "cell_type": "code",
   "execution_count": 47,
   "id": "8bf0d7c7-f561-400c-b0b7-6489cf7862b8",
   "metadata": {},
   "outputs": [
    {
     "name": "stdout",
     "output_type": "stream",
     "text": [
      "218\n"
     ]
    }
   ],
   "source": [
    "#total letters in my file\n",
    "f = open(\"FileHandling//StudentData.txt\",\"r\")\n",
    "count = 0\n",
    "for i in f:\n",
    "    for j in i: \n",
    "        count+=1\n",
    "\n",
    "print(count)"
   ]
  },
  {
   "cell_type": "code",
   "execution_count": null,
   "id": "87d34d7a-33e0-41f1-82af-1688500a8913",
   "metadata": {},
   "outputs": [],
   "source": [
    "#code not executer here so run iit in vscode\n",
    "f = open(\"random.txt\",\"r\")\n",
    "countLine = 0\n",
    "a = f.readlines()\n",
    "for i in a:\n",
    "    countLine += 1\n",
    "\n",
    "print(f\"Total line in my file are: {countLine}\")\n",
    "\n",
    "#Count Words in file\n",
    "countWord = 0\n",
    "for i in range(len(a)):\n",
    "    countWord += len(a[i].split())\n",
    "print(f\"Total Words in my line are: {countWord}\")\n",
    "\n",
    "# Count characters in file\n",
    "countChar = 0\n",
    "for i in range(len(a)):\n",
    "    countChar += len(a[i])\n",
    "print(f\"Total Characters in my file is : {countChar}\")\n",
    "\n",
    "# Count spaces in file\n",
    "space_count=0\n",
    "for line in a:\n",
    "        space_count += line.count(' ')  # Count spaces in each line\n",
    "\n",
    "print(f\"Total spaces: {space_count}\")\n",
    "# Find vowels and cponsonants in a file\n",
    "f = open(\"random.txt\",\"r\")\n",
    "a= f.readlines()\n",
    "vowels = \"aeiouAEIOU\"\n",
    "vowel = 0\n",
    "conso = 0\n",
    "for line in a:\n",
    "    for char in line:\n",
    "        if char in vowels:\n",
    "            vowel += 1\n",
    "        else:\n",
    "            conso +=1\n",
    "print(f\"Total vowels: {vowel}\")\n",
    "print(f\"Total Consonants: {conso}\")\n",
    "\n",
    "\n"
   ]
  },
  {
   "cell_type": "code",
   "execution_count": 48,
   "id": "39c65770-dc08-4973-8779-2c6ac65b4a89",
   "metadata": {},
   "outputs": [
    {
     "name": "stdin",
     "output_type": "stream",
     "text": [
      "Which file you want to delete:  first.txt\n"
     ]
    },
    {
     "name": "stdout",
     "output_type": "stream",
     "text": [
      "File not available\n"
     ]
    }
   ],
   "source": [
    "import os\n",
    "\n",
    "file = input(\"Which file you want to delete: \")\n",
    "\n",
    "if os.path.exists(file):\n",
    "    os.remove(file)\n",
    "else:\n",
    "    print(\"File not available\")"
   ]
  },
  {
   "cell_type": "code",
   "execution_count": 49,
   "id": "23d6bb2e-5110-433d-b7e1-f1704bcaedaa",
   "metadata": {},
   "outputs": [
    {
     "data": {
      "text/plain": [
       "28"
      ]
     },
     "execution_count": 49,
     "metadata": {},
     "output_type": "execute_result"
    }
   ],
   "source": [
    "def add(a,b):\n",
    "    return a+b\n",
    "\n",
    "add(5,23)"
   ]
  },
  {
   "cell_type": "code",
   "execution_count": 50,
   "id": "9ef8d207-515d-4c4c-ac6b-9b459b99c1f3",
   "metadata": {},
   "outputs": [
    {
     "name": "stdout",
     "output_type": "stream",
     "text": [
      "      a \n",
      "    b b b \n",
      "  c c c c c \n",
      "d d d d d d d \n"
     ]
    }
   ],
   "source": [
    "'''  a \n",
    "    b b b \n",
    "  c c c c c \n",
    "d d d d d d d \n",
    "'''\n",
    "i = 0\n",
    "s = 3\n",
    "c = 1\n",
    "asc = 97\n",
    "\n",
    "while i < 4:\n",
    "    j = 0\n",
    "    while j < s:\n",
    "        print(\" \", end=\" \")\n",
    "        j += 1\n",
    "\n",
    "    k = 0\n",
    "    while k < c:\n",
    "        print(chr(asc), end=\" \")\n",
    "        k += 1  \n",
    "\n",
    "    asc += 1  \n",
    "    c += 2  \n",
    "    s -= 1  \n",
    "    i += 1  \n",
    "\n",
    "    print()  \n"
   ]
  },
  {
   "cell_type": "code",
   "execution_count": 52,
   "id": "53f7d30c-8cd0-4b20-b5f6-08cd9b35f120",
   "metadata": {},
   "outputs": [
    {
     "name": "stdin",
     "output_type": "stream",
     "text": [
      "Enter the number:  6\n"
     ]
    },
    {
     "name": "stdout",
     "output_type": "stream",
     "text": [
      "6 is perfect number\n"
     ]
    }
   ],
   "source": [
    "#Perfect Number\n",
    "n = int(input(\"Enter the number: \"))\n",
    "def perfect_number(n):\n",
    "    sum_f = 0\n",
    "    for i in range(1,(n//2)+1):\n",
    "        if n % i == 0:\n",
    "            sum_f += i\n",
    "\n",
    "    if sum_f == n:\n",
    "        print(n, \"is perfect number\")\n",
    "    else:\n",
    "        print(n, \"is not a perfect number\")\n",
    "\n",
    "perfect_number(n)"
   ]
  },
  {
   "cell_type": "code",
   "execution_count": 59,
   "id": "eefabb74-9c2f-4934-adf3-a6758f70b18b",
   "metadata": {
    "scrolled": true
   },
   "outputs": [
    {
     "name": "stdin",
     "output_type": "stream",
     "text": [
      "Enter the number of rows:  5\n"
     ]
    },
    {
     "name": "stdout",
     "output_type": "stream",
     "text": [
      "     *\n",
      "    ***\n",
      "   *****\n",
      "  *******\n",
      " *********\n",
      "  *******\n",
      "   *****\n",
      "    ***\n",
      "     *\n",
      "     *\n",
      "    ***\n",
      "   *****\n"
     ]
    }
   ],
   "source": [
    "'''\n",
    "     *\n",
    "    ***\n",
    "   *****\n",
    "  *******\n",
    " *********\n",
    "  *******\n",
    "   *****\n",
    "    ***\n",
    "     *\n",
    "     *\n",
    "    ***\n",
    "   *****\n",
    "'''\n",
    "n = int(input(\"Enter the number of rows: \"))\n",
    "\n",
    "# Pyarmid printed from this loop\n",
    "for i in range(1,n+1):\n",
    "    print(\" \"*(n-i),\"*\"*(2*i-1))\n",
    "\n",
    "#ulta pyramid and ab dono for loop milakr yeh ban jayega diamond\n",
    "for i in range(n-1,0,-1):\n",
    "    print(\" \"*(n-i),\"*\"*(2*i-1))\n",
    "\n",
    "#ab isse kite print hoga yaane akhire mein fir pyramid but no of rows kaam\n",
    "for i in range(1,n-1):\n",
    "    print(\" \"*(n-i),\"*\"*(2*i-1))"
   ]
  },
  {
   "cell_type": "code",
   "execution_count": 60,
   "id": "bcb01bdd-fd6f-4020-8feb-8af76a318e3d",
   "metadata": {},
   "outputs": [
    {
     "name": "stdin",
     "output_type": "stream",
     "text": [
      "Enter the year:  2004\n",
      "Enter the month (1-12):  12\n"
     ]
    },
    {
     "name": "stdout",
     "output_type": "stream",
     "text": [
      "   December 2004\n",
      "Mo Tu We Th Fr Sa Su\n",
      "       1  2  3  4  5\n",
      " 6  7  8  9 10 11 12\n",
      "13 14 15 16 17 18 19\n",
      "20 21 22 23 24 25 26\n",
      "27 28 29 30 31\n",
      "\n"
     ]
    }
   ],
   "source": [
    "import calendar\n",
    "\n",
    "y = int(input(\"Enter the year: \"))  # Get year from user\n",
    "m = int(input(\"Enter the month (1-12): \"))  # Get month from user\n",
    "\n",
    "# Print the calendar for the given month and year\n",
    "print(calendar.month(y, m))\n"
   ]
  },
  {
   "cell_type": "code",
   "execution_count": 61,
   "id": "15df8f77-dbdc-4cec-abc5-3a502c541831",
   "metadata": {},
   "outputs": [
    {
     "name": "stdin",
     "output_type": "stream",
     "text": [
      "Enter name : Sakshi\n"
     ]
    },
    {
     "name": "stdout",
     "output_type": "stream",
     "text": [
      "S\n",
      "Sa\n",
      "Sak\n",
      "Saks\n",
      "Saksh\n",
      "Sakshi\n"
     ]
    }
   ],
   "source": [
    "def pattern(name):\n",
    "    for i in range(len(name)):\n",
    "        print(name[:i+1])\n",
    "\n",
    "name = input(\"Enter name :\")\n",
    "pattern(name)"
   ]
  },
  {
   "cell_type": "code",
   "execution_count": 67,
   "id": "20a03760-9282-4e09-87c0-2e5af86d7144",
   "metadata": {},
   "outputs": [
    {
     "name": "stdin",
     "output_type": "stream",
     "text": [
      "Enter first side:  35\n",
      "Enter second side:  45\n",
      "Enter third side:  55\n"
     ]
    },
    {
     "name": "stdout",
     "output_type": "stream",
     "text": [
      "Area of Triangle is: 785.49\n"
     ]
    }
   ],
   "source": [
    "#Area using Arnolds formula\n",
    "a = float(input(\"Enter first side: \"))\n",
    "b = float(input(\"Enter second side: \"))\n",
    "c = float(input(\"Enter third side: \"))\n",
    "\n",
    "s = (a+b+c)/2\n",
    "\n",
    "area = (s*(s-a)*(s-b)*(s-c))**0.5\n",
    "print(f\"Area of Triangle is: %0.2f\"%area)"
   ]
  },
  {
   "cell_type": "code",
   "execution_count": 71,
   "id": "f7be9e75-b1a5-447a-a8ff-315e6ff988e0",
   "metadata": {},
   "outputs": [
    {
     "name": "stdout",
     "output_type": "stream",
     "text": [
      "Generated Password is : EA8-7bJ7~Z&w\n"
     ]
    }
   ],
   "source": [
    "import random\n",
    "import string \n",
    "def generate_password(length=8):\n",
    "    character = string.ascii_letters + string.digits + string.punctuation\n",
    "    password = ''.join(random.choice(character) for _ in range (length))\n",
    "    return password\n",
    "\n",
    "print(\"Generated Password is :\", generate_password(12))"
   ]
  },
  {
   "cell_type": "code",
   "execution_count": 72,
   "id": "f64f91f3-82e4-4cbd-a36a-101e07ecf89c",
   "metadata": {},
   "outputs": [
    {
     "name": "stdin",
     "output_type": "stream",
     "text": [
      "Enter your password EA8-7bJ7~Z&w\n"
     ]
    },
    {
     "name": "stdout",
     "output_type": "stream",
     "text": [
      "Strong\n"
     ]
    },
    {
     "name": "stdin",
     "output_type": "stream",
     "text": [
      "Enter your password exit\n"
     ]
    }
   ],
   "source": [
    "def check(password):\n",
    "    upper = lower = digit = False\n",
    "\n",
    "    for char in password:\n",
    "        if char.isupper():\n",
    "            upper = True\n",
    "        elif char.islower():\n",
    "            lower = True\n",
    "        elif char.isdigit():\n",
    "            digit = True\n",
    "\n",
    "    length = len(password) >= 8\n",
    "    score = sum([length,upper,lower,digit]);\n",
    "    if score == 4:\n",
    "        return \"Strong\"\n",
    "    elif score == 3:\n",
    "        return \"Moderate\"\n",
    "    else:\n",
    "        return \"Weak\"\n",
    "\n",
    "while True:\n",
    "    password = input(\"Enter your password\")\n",
    "    if password.lower() == \"exit\" :\n",
    "        break\n",
    "\n",
    "    print(f\"{check(password)}\")"
   ]
  },
  {
   "cell_type": "code",
   "execution_count": null,
   "id": "cc6a482d-cdac-4ab2-b862-5b4dc978d66c",
   "metadata": {},
   "outputs": [],
   "source": []
  }
 ],
 "metadata": {
  "kernelspec": {
   "display_name": "Python 3 (ipykernel)",
   "language": "python",
   "name": "python3"
  },
  "language_info": {
   "codemirror_mode": {
    "name": "ipython",
    "version": 3
   },
   "file_extension": ".py",
   "mimetype": "text/x-python",
   "name": "python",
   "nbconvert_exporter": "python",
   "pygments_lexer": "ipython3",
   "version": "3.12.1"
  }
 },
 "nbformat": 4,
 "nbformat_minor": 5
}
